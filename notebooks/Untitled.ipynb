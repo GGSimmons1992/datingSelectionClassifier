{
 "cells": [
  {
   "cell_type": "code",
   "execution_count": null,
   "id": "46270ad2-20c7-4d11-a9df-a2c0eda77b28",
   "metadata": {},
   "outputs": [],
   "source": [
    "import numpy as np\n",
    "import pandas as pd\n",
    "import matplotlib.pyplot as plt\n",
    "import os\n",
    "from os.path import exists\n",
    "from os import remove\n",
    "import json\n",
    "from sklearn.model_selection import train_test_split\n",
    "import sklearn.model_selection as ms\n",
    "import sklearn.metrics as sm\n",
    "from sklearn.model_selection import cross_validate\n",
    "import sklearn.linear_model as lm\n",
    "from sklearn.neighbors import KNeighborsClassifier as knn\n",
    "from sklearn.ensemble import GradientBoostingClassifier as grad\n",
    "from sklearn.ensemble import RandomForestClassifier as rf\n",
    "from sklearn.tree import DecisionTreeClassifier as tree\n",
    "from sklearn.ensemble import VotingClassifier\n",
    "from sklearn import metrics\n",
    "import scipy.stats as stats\n",
    "from sklearn.pipeline import make_pipeline\n",
    "from sklearn.preprocessing import StandardScaler\n",
    "\n",
    "import sys\n",
    "sys.path.insert(0, \"../src/\")\n",
    "import util as util\n",
    "\n",
    "%autosave 5"
   ]
  },
  {
   "cell_type": "code",
   "execution_count": null,
   "id": "c292b1f4-635d-455c-8990-b6cf7ed906d7",
   "metadata": {},
   "outputs": [],
   "source": [
    "datingTrain = pd.read_csv('../data/plotlyDashData/datingTrain.csv')\n",
    "match = datingTrain[\"match\"]\n",
    "X = datingTrain.drop(\"match\",axis=1).select_dtypes(include=['uint8','int64','float64'])\n",
    "with open('../data/plotlyDashData/treeParams.json') as d:\n",
    "    treeParams = json.load(d)\n",
    "    preciseTreeParams = treeParams[\"preciseTreeParams\"]\n",
    "    recallTreeParams = treeParams[\"recallTreeParams\"]\n",
    "with open('../data/plotlyDashData/forestParams.json') as d:\n",
    "    forestParams = json.load(d)\n",
    "    preciseForestParams = forestParams[\"preciseForestParams\"]\n",
    "    recallForestParams = forestParams[\"recallForestParams\"]"
   ]
  },
  {
   "cell_type": "code",
   "execution_count": null,
   "id": "267c2fa8-a815-4748-aaea-7822463179fe",
   "metadata": {},
   "outputs": [],
   "source": [
    "sqrtn = int(np.sqrt(X.shape[0]))\n",
    "logModel = lm.LogisticRegression(max_iter=1e9)\n",
    "logPipe = make_pipeline(StandardScaler(), logModel)\n",
    "knn5 = knn(n_neighbors=5)\n",
    "knnsqrtn = knn(n_neighbors=sqrtn)\n",
    "gradientdeci = grad(learning_rate=0.1)\n",
    "gradientdeka = grad(learning_rate=10)\n",
    "preciseTree = tree(criterion = preciseTreeParams[\"criterion\"],\n",
    "                    max_depth = preciseTreeParams[\"max_depth\"],\n",
    "                    max_features = preciseTreeParams[\"max_features\"])\n",
    "recallTree = tree(criterion = recallTreeParams[\"criterion\"],\n",
    "                  max_depth = recallTreeParams[\"max_depth\"],\n",
    "                  max_features = recallTreeParams[\"max_features\"])\n",
    "preciseForest = rf(n_estimators = preciseForestParams[\"n_estimators\"],\n",
    "                    criterion = preciseForestParams[\"criterion\"],\n",
    "                    max_depth = preciseForestParams[\"max_depth\"],\n",
    "                    max_features = preciseForestParams[\"max_features\"])\n",
    "recallForest = rf(n_estimators = recallForestParams[\"n_estimators\"],\n",
    "                  criterion = recallForestParams[\"criterion\"],\n",
    "                  max_depth = recallForestParams[\"max_depth\"],\n",
    "                  max_features = recallForestParams[\"max_features\"])\n",
    "\n",
    "ensembleVote = VotingClassifier(\n",
    "    estimators = [\n",
    "        (\"logModel\",logPipe),\n",
    "        (\"knn5\",knn5),\n",
    "        (\"knnsqrtn\",knnsqrtn),\n",
    "        (\"gradientdeci\",gradientdeci),\n",
    "        (\"gradientdeka\",gradientdeka),\n",
    "        (\"preciseTree\",preciseTree),\n",
    "        (\"recallTree\",recallTree),\n",
    "        (\"preciseForest\",preciseForest),\n",
    "        (\"recallForest\",recallForest)\n",
    "    ], voting=\"soft\"\n",
    ")\n"
   ]
  },
  {
   "cell_type": "code",
   "execution_count": null,
   "id": "c115b264-b06c-4c06-964a-9a236c9ed791",
   "metadata": {},
   "outputs": [],
   "source": [
    "import time\n",
    "values = [0] * 10\n",
    "for i in range(10):\n",
    "    start_time = time.time()\n",
    "    ensembleVote.fit(X,match)\n",
    "    values[i] = time.time() - start_time\n",
    "print(f\"{np.mean(values)} +/- {np.mean(values)/np.sqrt(10)} seconds\")"
   ]
  },
  {
   "cell_type": "code",
   "execution_count": null,
   "id": "1c8e2ac6-c689-4753-a227-77651969ff67",
   "metadata": {},
   "outputs": [],
   "source": [
    "values = [0] * 10\n",
    "for i in range(10):\n",
    "    start_time = time.time()\n",
    "    np.array(ensembleVote.predict_proba(X)[:,1]).reshape(-1,).tolist()\n",
    "    values[i] = time.time() - start_time\n",
    "print(f\"{np.mean(values)} +/- {np.mean(values)/np.sqrt(10)} seconds\")"
   ]
  },
  {
   "cell_type": "code",
   "execution_count": null,
   "id": "7f502ff9-7bac-4905-8733-6483a65bce6f",
   "metadata": {},
   "outputs": [],
   "source": [
    "values = [0] * 10\n",
    "for i in range(10):\n",
    "    start_time = time.time()\n",
    "    ensembleVote.fit(X,match)\n",
    "    np.array(ensembleVote.predict_proba(X)[:,1]).reshape(-1,).tolist()\n",
    "    values[i] = time.time() - start_time\n",
    "print(f\"{np.mean(values)} +/- {np.mean(values)/np.sqrt(10)} seconds\")"
   ]
  }
 ],
 "metadata": {
  "kernelspec": {
   "display_name": "Python 3 (ipykernel)",
   "language": "python",
   "name": "python3"
  },
  "language_info": {
   "codemirror_mode": {
    "name": "ipython",
    "version": 3
   },
   "file_extension": ".py",
   "mimetype": "text/x-python",
   "name": "python",
   "nbconvert_exporter": "python",
   "pygments_lexer": "ipython3",
   "version": "3.9.13"
  }
 },
 "nbformat": 4,
 "nbformat_minor": 5
}
