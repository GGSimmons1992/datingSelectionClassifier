{
 "cells": [
  {
   "cell_type": "code",
   "execution_count": null,
   "id": "eb01641e-e220-4ff9-bb72-52e52081a319",
   "metadata": {},
   "outputs": [],
   "source": [
    "import numpy as np\n",
    "import pandas as pd\n",
    "import matplotlib.pyplot as plt\n",
    "import os\n",
    "from os.path import exists\n",
    "from os import remove\n",
    "import json\n",
    "from sklearn.model_selection import train_test_split\n",
    "import sklearn.model_selection as ms\n",
    "import sklearn.metrics as sm\n",
    "from sklearn.model_selection import cross_validate\n",
    "import sklearn.linear_model as lm\n",
    "from sklearn.neighbors import KNeighborsClassifier as knn\n",
    "from sklearn.ensemble import GradientBoostingClassifier as grad\n",
    "from sklearn.ensemble import RandomForestClassifier as rf\n",
    "from sklearn.tree import DecisionTreeClassifier as tree\n",
    "from sklearn.ensemble import VotingClassifier\n",
    "from sklearn import metrics\n",
    "import scipy.stats as stats\n",
    "from sklearn.pipeline import make_pipeline\n",
    "from sklearn.preprocessing import StandardScaler"
   ]
  },
  {
   "cell_type": "code",
   "execution_count": null,
   "id": "be7254ba-f349-4116-b20a-5f9067541e5c",
   "metadata": {},
   "outputs": [],
   "source": [
    "datingFull = pd.read_csv(\"../data/plotlyDashData/datingFull.csv\")\n",
    "match = datingFull[\"match\"]\n",
    "X = datingFull.drop(\"match\",axis=1)\n",
    "r = rf().fit(X,match)\n",
    "featureValues = np.array(X[\"mn_sat\"]).reshape(-1).tolist()\n",
    "probs = np.array(r.predict_proba(X)[:,1]).reshape(-1).tolist()\n",
    "print(len(featureValues))\n",
    "print(len(probs))"
   ]
  },
  {
   "cell_type": "code",
   "execution_count": null,
   "id": "21553bfd-a3c2-42af-943c-6b33b5588215",
   "metadata": {},
   "outputs": [],
   "source": [
    "np.array(r.predict_proba(X))"
   ]
  }
 ],
 "metadata": {
  "kernelspec": {
   "display_name": "Python 3 (ipykernel)",
   "language": "python",
   "name": "python3"
  },
  "language_info": {
   "codemirror_mode": {
    "name": "ipython",
    "version": 3
   },
   "file_extension": ".py",
   "mimetype": "text/x-python",
   "name": "python",
   "nbconvert_exporter": "python",
   "pygments_lexer": "ipython3",
   "version": "3.9.13"
  }
 },
 "nbformat": 4,
 "nbformat_minor": 5
}
