{
 "cells": [
  {
   "cell_type": "code",
   "execution_count": 1,
   "id": "b4747346-7569-4768-9377-06bec259b4fe",
   "metadata": {},
   "outputs": [
    {
     "ename": "SyntaxError",
     "evalue": "unexpected EOF while parsing (util.py, line 69)",
     "output_type": "error",
     "traceback": [
      "Traceback \u001b[0;36m(most recent call last)\u001b[0m:\n",
      "  File \u001b[1;32m\"/Users/garysimmons/opt/anaconda3/lib/python3.8/site-packages/IPython/core/interactiveshell.py\"\u001b[0m, line \u001b[1;32m3437\u001b[0m, in \u001b[1;35mrun_code\u001b[0m\n    exec(code_obj, self.user_global_ns, self.user_ns)\n",
      "\u001b[0;36m  File \u001b[0;32m\"<ipython-input-1-a49a7fba0c73>\"\u001b[0;36m, line \u001b[0;32m12\u001b[0;36m, in \u001b[0;35m<module>\u001b[0;36m\u001b[0m\n\u001b[0;31m    import util as util\u001b[0m\n",
      "\u001b[0;36m  File \u001b[0;32m\"../util/util.py\"\u001b[0;36m, line \u001b[0;32m69\u001b[0m\n\u001b[0;31m    \u001b[0m\n\u001b[0m    ^\u001b[0m\n\u001b[0;31mSyntaxError\u001b[0m\u001b[0;31m:\u001b[0m unexpected EOF while parsing\n"
     ]
    }
   ],
   "source": [
    "import numpy as np\n",
    "import pandas as pd\n",
    "import matplotlib.pyplot as plt\n",
    "from os.path import exists\n",
    "import json\n",
    "import scipy.stats as stats\n",
    "import math\n",
    "import sklearn.linear_model as lm\n",
    "\n",
    "import sys\n",
    "sys.path.insert(0, \"../util/\")\n",
    "import util as util"
   ]
  },
  {
   "cell_type": "code",
   "execution_count": null,
   "id": "92fa2a41-ba2b-4a16-ac23-dbd36071a80a",
   "metadata": {},
   "outputs": [],
   "source": [
    "fullDatingDatabase = pd.read_csv(\"../data/encoded-SpeedDatingData.csv\")"
   ]
  },
  {
   "cell_type": "code",
   "execution_count": null,
   "id": "a2aaecff-8ba0-4c2d-a2e5-ddf3fabfac79",
   "metadata": {},
   "outputs": [],
   "source": [
    "columnList = [\"iid\",\"gender\",\"condtn\",\"wave\",\"round\",\"order\",\"pid\",\"int_corr\",\"age_o\",\"race_o\",\"pf_o_att\",\"pf_o_sin\",\"pf_o_int\",\"pf_o_fun\",\"pf_o_amb\",\"pf_o_sha\",\"dec_o\",\"attr_o\",\n",
    "              \"sinc_o\",\"intel_o\",\"amb_o\",\"fun_o\",\"shar_o\",\"like_o\",\"prob_o\",\"age\",\"field_cd\",\"undergra\",\"mn_sat\",\"tuition\",\"race\",\"imprace\",\"imprelig\",\"from\",\"zipcode\",\n",
    "              \"income\",\"goal\",\"date\",\"go_out\",\"career_c\",\"sports\",\"tvsports\",\"exercise\",\"dining\",\"museums\",\"art\",\"hiking\",\"gaming\",\"clubbing\",\"reading\",\"tv\",\"theater\",\n",
    "              \"movies\",\"concerts\",\"music\",\"shopping\",\"yoga\",\"exphappy\",\"expnum\",\"attr1_1\",\"sinc1_1\",\"intel1_1\",\"fun1_1\",\"shar1_1\",\"attr4_1\",\"sinc4_1\",\"intel4_1\",\"fun4_1\",\"shar4_1\",\n",
    "              \"attr2_1\",\"sinc2_1\",\"intel2_1\",\"fun2_1\",\"shar2_1\",\"attr3_1\",\"sinc3_1\",\"intel3_1\",\"fun3_1\",\"attr5_1\",\"sinc5_1\",\"intel5_1\",\"fun5_1\",\"dec\",\"attr\",\n",
    "              \"sinc\",\"intel\",\"fun\",\"amb\",\"like\",\"prob\",\"met\",\"match_es\",\"attr1_s\",\"sinc1_s\",\"intel1_s\",\"fun1_s\",\"shar1_s\",\"attr3_s\",\"sinc3_s\",\"intel3_s\",\"fun3_s\"]\n",
    "nonBinaryCategoricalList = [\"condtn\",\"race_o\",\"wave\",\"field_cd\",\"undergra\",\"race\",\"from\",\"zipcode\",\"goal\",\"date\",\"go_out\",\"career_c\"]\n",
    "stringToFloatList = [\"tuition\",\"mn_sat\",\"income\"]\n",
    "partnerList = [\"condtn\",\"field_cd\",\"undergra\",\"mn_sat\",\"tuition\",\"race\",\"imprace\",\"imprelig\",\"from\",\n",
    "               \"zipcode\",\"income\",\"goal\",\"date\",\"go_out\",\"career_c\",\"sports\",\"tvsports\",\"exercise\",\"dining\",\"museums\",\"art\",\"hiking\",\"gaming\",\"clubbing\",\"reading\",\"tv\",\n",
    "               \"theater\",\"movies\",\"concerts\",\"music\",\"shopping\",\"yoga\",\"exphappy\",\"expnum\",\"attr4_1\",\"sinc4_1\",\"intel4_1\",\"fun4_1\",\n",
    "               \"shar4_1\",\"attr2_1\",\"sinc2_1\",\"intel2_1\",\"fun2_1\",\"shar2_1\",\"attr3_1\",\"sinc3_1\",\"intel3_1\",\"fun3_1\",\"attr5_1\",\"sinc5_1\",\"intel5_1\",\"fun5_1\",\"match_es\",\"attr1_s\",\n",
    "               \"sinc1_s\",\"intel1_s\",\"fun1_s\",\"shar1_s\",\"attr3_s\",\"sinc3_s\",\"intel3_s\",\"fun3_s\"]\n",
    "pointDistributionList = []"
   ]
  },
  {
   "cell_type": "code",
   "execution_count": null,
   "id": "d63ae7c7-950a-4b02-b1ec-c0b97cece3d3",
   "metadata": {},
   "outputs": [],
   "source": [
    "blindDateData = fullDatingDatabase[columnList]\n",
    "for catCol in nonBinaryCategoricalList:\n",
    "    blindDateData[catCol] = blindDateData[catCol].apply(str)\n",
    "    blindDateData[catCol] = blindDateData[catCol].fillna('nan')\n",
    "for stringToFloatCol in stringToFloatList:\n",
    "    blindDateData[stringToFloatCol] = blindDateData[stringToFloatCol].str.replace(',', '').astype(float)"
   ]
  },
  {
   "cell_type": "code",
   "execution_count": null,
   "id": "7a632a76-ce32-42db-a4db-a22880c59762",
   "metadata": {},
   "outputs": [],
   "source": [
    "blindDateDataWave69 = blindDateData[(blindDateData['wave'].astype(int) >= 6) & (blindDateData['wave'].astype(int) <= 9)]\n",
    "blindDateDataWaveNot69 = blindDateData[(blindDateData['wave'].astype(int) < 6) | (blindDateData['wave'].astype(int) > 9)]"
   ]
  },
  {
   "cell_type": "code",
   "execution_count": null,
   "id": "bc3e4500-a819-4e11-9cb7-3f9b251de2e8",
   "metadata": {},
   "outputs": [],
   "source": [
    "total = blindDateData.shape[0]\n",
    "for col in columnList:\n",
    "    colData = blindDateData[col]\n",
    "    colData69 = blindDateDataWave69[col]\n",
    "    colDataNot69 = blindDateDataWaveNot69[col]\n",
    "    \n",
    "    print(f'{col} {colData.dtype}')\n",
    "    nanCount = sum([util.isNan(x) for x in colData])\n",
    "    print(f'{100 * nanCount/total}% of data is nan. {nanCount} out of {total}')\n",
    "    dataList = list(set(colData))\n",
    "        \n",
    "    if len(dataList)<=20:\n",
    "        print(dataList)\n",
    "    elif str(col) == 'met':\n",
    "        print(colData.value_counts())\n",
    "    else:\n",
    "        if colData.dtype == \"O\":\n",
    "            print(f\"data varries across {len(dataList)} values\")\n",
    "        elif (col.endswith(\"1_1\") or col.endswith(\"4_1\") or col.endswith(\"2_1\")):\n",
    "            question = col[-3:]\n",
    "            if question not in pointDistributionList:\n",
    "                pointDistributionList.append(question)\n",
    "            print(f\"{colData69.mean()} +/- {colData69.std()}\")\n",
    "            fig = plt.figure()\n",
    "            plt.hist(colData69)\n",
    "            plt.title('Waves 6 - 9')\n",
    "            plt.show()\n",
    "            print(f\"{colDataNot69.mean()} +/- {colDataNot69.std()}\")\n",
    "            fig = plt.figure()\n",
    "            plt.hist(colDataNot69)\n",
    "            plt.title('Excluding Waves 6 - 9')\n",
    "            plt.show()\n",
    "        else:\n",
    "            print(f\"{colData.mean()} +/- {colData.std()}\")\n",
    "            fig = plt.figure()\n",
    "            plt.hist(colData)\n",
    "            plt.show()\n",
    "    print(\"\\n\")"
   ]
  },
  {
   "cell_type": "code",
   "execution_count": 7,
   "id": "cc33872d-ce7b-4f87-bd90-346efd842a05",
   "metadata": {},
   "outputs": [],
   "source": [
    "columnDataDictionary = {\"columnList\": columnList,\n",
    "                        \"nonBinaryCategoricalList\": nonBinaryCategoricalList,\n",
    "                        \"stringToFloatList\": stringToFloatList,\n",
    "                        \"pointDistributionList\": pointDistributionList,\n",
    "                        \"partnerList\": partnerList}\n",
    "\n",
    "with open('../data/columnDataDictionary.json', 'w') as fp:\n",
    "        json.dump(columnDataDictionary, fp)"
   ]
  },
  {
   "cell_type": "code",
   "execution_count": 8,
   "id": "124f565d-3509-498c-bf2a-3b1309da207b",
   "metadata": {},
   "outputs": [],
   "source": [
    "interestColumns = [\"sports\",\"tvsports\",\"exercise\",\"dining\",\"museums\",\"art\",\"hiking\",\"gaming\",\"clubbing\",\"reading\",\"tv\",\"theater\",\"movies\",\"concerts\",\"music\",\"shopping\",\"yoga\"]\n",
    "gender0 = blindDateData[blindDateData['gender'] == 0]\n",
    "gender1 = blindDateData[blindDateData['gender'] == 1]"
   ]
  },
  {
   "cell_type": "code",
   "execution_count": 9,
   "id": "c3ced942-b1da-4658-836b-db68bea15653",
   "metadata": {},
   "outputs": [],
   "source": [
    "selectedIndecies = np.random.choice(gender0.shape[0],replace = False,size = (40))"
   ]
  },
  {
   "cell_type": "code",
   "execution_count": 10,
   "id": "3ca7da98-6cd8-4556-89bc-017d921b7208",
   "metadata": {},
   "outputs": [
    {
     "name": "stdout",
     "output_type": "stream",
     "text": [
      "Pearson Error 0.19545800493832252\n",
      "Spearman Error 0.09076741003493165\n"
     ]
    }
   ],
   "source": [
    "recordedCorr = []\n",
    "pearsonCorr = []\n",
    "spearmanCorr = []\n",
    "for i in selectedIndecies:\n",
    "    candidate = gender0.iloc[[i]]\n",
    "    partner = gender1[(gender1['iid'] == float(candidate['pid'])) & (gender1['pid'] == float(candidate['iid']))]\n",
    "    candidateInterests = []\n",
    "    partnerInterests = []\n",
    "    for col in interestColumns:\n",
    "        candidateScore = float(candidate[col])\n",
    "        partnerScore = float(partner[col])\n",
    "        if (util.isNan(candidateScore) == False and util.isNan(partnerScore) == False):\n",
    "            candidateInterests.append(candidateScore)\n",
    "            partnerInterests.append(partnerScore)\n",
    "    if len(candidateInterests) >= 2:\n",
    "        recordedCorr.append(candidate['int_corr'])\n",
    "        pearsonValue = stats.pearsonr(np.array(candidateInterests),np.array(partnerInterests))[0]\n",
    "        spearmanValue = stats.spearmanr(np.array(candidateInterests),np.array(partnerInterests))[0]\n",
    "        pearsonCorr.append(pearsonValue)\n",
    "        spearmanCorr.append(spearmanValue)\n",
    "\n",
    "pearsonError = np.mean((np.array(pearsonCorr) - np.array(recordedCorr))/np.array(recordedCorr))\n",
    "spearmanError = np.mean((np.array(spearmanCorr) - np.array(recordedCorr))/np.array(recordedCorr))\n",
    "print(f'Pearson Error {pearsonError}')\n",
    "print(f'Spearman Error {spearmanError}')"
   ]
  },
  {
   "cell_type": "code",
   "execution_count": 11,
   "id": "3b92b990-a264-4d0e-a0b9-da8ba3b7f8fe",
   "metadata": {},
   "outputs": [
    {
     "data": {
      "image/png": "[encoded data removed]",
      "text/plain": [
       "<Figure size 432x288 with 1 Axes>"
      ]
     },
     "metadata": {
      "needs_background": "light"
     },
     "output_type": "display_data"
    },
    {
     "data": {
      "image/png": "[encoded data removed]",
      "text/plain": [
       "<Figure size 432x288 with 1 Axes>"
      ]
     },
     "metadata": {
      "needs_background": "light"
     },
     "output_type": "display_data"
    }
   ],
   "source": [
    "recordedArray = np.array(recordedCorr).reshape(-1,1)\n",
    "pearsonArray = np.array(pearsonCorr).reshape(-1,1)\n",
    "spearmanArray = np.array(spearmanCorr).reshape(-1,1)\n",
    "\n",
    "util.plotCorrelation(recordedArray,pearsonArray,'pearson')\n",
    "util.plotCorrelation(recordedArray,spearmanArray,'spearman')"
   ]
  }
 ],
 "metadata": {
  "kernelspec": {
   "display_name": "Python 3",
   "language": "python",
   "name": "python3"
  },
  "language_info": {
   "codemirror_mode": {
    "name": "ipython",
    "version": 3
   },
   "file_extension": ".py",
   "mimetype": "text/x-python",
   "name": "python",
   "nbconvert_exporter": "python",
   "pygments_lexer": "ipython3",
   "version": "3.8.8"
  }
 },
 "nbformat": 4,
 "nbformat_minor": 5
}
