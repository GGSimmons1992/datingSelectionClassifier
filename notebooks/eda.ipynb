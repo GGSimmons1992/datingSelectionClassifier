{
 "cells": [
  {
   "cell_type": "code",
   "execution_count": null,
   "id": "b4747346-7569-4768-9377-06bec259b4fe",
   "metadata": {},
   "outputs": [],
   "source": [
    "import numpy as np\n",
    "import pandas as pd\n",
    "import matplotlib.pyplot as plt\n",
    "from os.path import exists\n",
    "import json\n",
    "import scipy.stats as stats\n",
    "import math\n",
    "import sklearn.linear_model as lm\n",
    "\n",
    "import sys\n",
    "sys.path.insert(0, \"../src/\")\n",
    "import util as util\n",
    "\n",
    "%autosave 5"
   ]
  },
  {
   "cell_type": "code",
   "execution_count": null,
   "id": "92fa2a41-ba2b-4a16-ac23-dbd36071a80a",
   "metadata": {},
   "outputs": [],
   "source": [
    "if exists('../data/encoded-SpeedDatingData-WithLocations.csv'):\n",
    "    fullDatingDatabase = pd.read_csv('../data/encoded-SpeedDatingData-WithLocations.csv')\n",
    "else:\n",
    "    fullDatingDatabase = pd.read_csv(\"../data/encoded-SpeedDatingData.csv\")\n",
    "    fullDatingDatabase = util.getLocations(fullDatingDatabase,True)\n",
    "    fullDatingDatabase.to_csv('../data/encoded-SpeedDatingData-WithLocations.csv',index=False)"
   ]
  },
  {
   "cell_type": "code",
   "execution_count": null,
   "id": "a2aaecff-8ba0-4c2d-a2e5-ddf3fabfac79",
   "metadata": {},
   "outputs": [],
   "source": [
    "columnList = [\"iid\",\"gender\",\"round\",\"order\",\"pid\",\"match\",\"samerace\",\"age\",\"field_cd\",\n",
    "              \"undergra\",\"mn_sat\",\"tuition\",\"race\",\"imprace\",\"imprelig\",\"from\",\"zipcode\",\"income\",\"goal\",\"date\",\"go_out\",\"career_c\",\"sports\",\"tvsports\",\n",
    "              \"exercise\",\"dining\",\"museums\",\"art\",\"hiking\",\"gaming\",\"clubbing\",\"reading\",\"tv\",\"theater\",\"movies\",\"concerts\",\"music\",\"shopping\",\"yoga\",\n",
    "              \"exphappy\",\"expnum\",\"attr1_1\",\"sinc1_1\",\"intel1_1\",\"fun1_1\",\"shar1_1\",\"attr4_1\",\"sinc4_1\",\"intel4_1\",\"fun4_1\",\"shar4_1\",\n",
    "              \"attr2_1\",\"sinc2_1\",\"intel2_1\",\"fun2_1\",\"shar2_1\",\"attr3_1\",\"sinc3_1\",\"intel3_1\",\"fun3_1\",\"attr5_1\",\"sinc5_1\",\"intel5_1\",\n",
    "              \"fun5_1\",\"match_es\",\"attr1_s\",\"sinc1_s\",\"intel1_s\",\"fun1_s\",\"shar1_s\",\"attr3_s\",\"sinc3_s\",\"intel3_s\",\"fun3_s\",\"lats\",\"lons\",\"int_corr\"]\n",
    "nonBinaryCategoricalList = [\"field_cd\",\"undergra\",\"race\",\"zipcode\",\"goal\",\"date\",\"go_out\",\"career_c\",\"zipcode_o\"]\n",
    "stringToFloatList = [\"tuition\",\"mn_sat\",\"income\"]\n",
    "identityList = [\"iid\",\"pid\"]\n",
    "sharedList = [\"match\",\"samerace\",\"partnerDistance\",\"int_corr\"]\n",
    "partnerList = [col for col in columnList if ((col not in identityList) and (col != \"match\"))]\n",
    "pointDistributionList = [\"pf_o\",\"1_1\",\"4_1\",\"2_1\",\"1_s\"]\n",
    "interestColumns = [\"sports\",\"tvsports\",\"exercise\",\"dining\",\"museums\",\"art\",\"hiking\",\"gaming\",\"clubbing\",\"reading\",\"tv\",\"theater\",\"movies\",\"concerts\",\"music\",\"shopping\",\"yoga\"]"
   ]
  },
  {
   "cell_type": "code",
   "execution_count": null,
   "id": "e010d06d-6757-40fa-be4b-109a464759ff",
   "metadata": {},
   "outputs": [],
   "source": [
    "columnDataDictionary = {\"columnList\": columnList,\n",
    "                        \"nonBinaryCategoricalList\": nonBinaryCategoricalList,\n",
    "                        \"stringToFloatList\": stringToFloatList,\n",
    "                        \"pointDistributionList\": pointDistributionList,\n",
    "                        \"sharedList\":sharedList,\n",
    "                        \"partnerList\": partnerList,\n",
    "                        \"interestColumns\":interestColumns\n",
    "                       }\n",
    "\n",
    "with open('../data/columnDataDictionary.json', 'w') as fp:\n",
    "    json.dump(columnDataDictionary, fp)\n",
    "\n",
    "!rm -r ../data/processedData\n",
    "!mkdir ../data/processedData\n",
    "\n",
    "with open('../data/processedData/columnDataDictionary.json', 'w') as fp:\n",
    "    json.dump(columnDataDictionary, fp)"
   ]
  },
  {
   "cell_type": "code",
   "execution_count": null,
   "id": "d63ae7c7-950a-4b02-b1ec-c0b97cece3d3",
   "metadata": {},
   "outputs": [],
   "source": [
    "blindDateData = fullDatingDatabase[columnList + ['wave']]\n",
    "blindDateData = util.switchNumbersAndCategoriesFromRawData(blindDateData)"
   ]
  },
  {
   "cell_type": "code",
   "execution_count": null,
   "id": "7a632a76-ce32-42db-a4db-a22880c59762",
   "metadata": {},
   "outputs": [],
   "source": [
    "blindDateDataWave69 = blindDateData[(blindDateData['wave'].astype(int) >= 6) & (blindDateData['wave'].astype(int) <= 9)]\n",
    "blindDateDataWaveNot69 = blindDateData[(blindDateData['wave'].astype(int) < 6) | (blindDateData['wave'].astype(int) > 9)]"
   ]
  },
  {
   "cell_type": "code",
   "execution_count": null,
   "id": "bc3e4500-a819-4e11-9cb7-3f9b251de2e8",
   "metadata": {
    "tags": []
   },
   "outputs": [],
   "source": [
    "total = blindDateData.shape[0]\n",
    "for col in columnList:\n",
    "    colData = blindDateData[col]\n",
    "    colData69 = blindDateDataWave69[col]\n",
    "    colDataNot69 = blindDateDataWaveNot69[col]\n",
    "    \n",
    "    print(f'{col} {colData.dtype}')\n",
    "    nanCount = sum([util.isNan(x) for x in colData])\n",
    "    print(f'{100 * nanCount/total}% of data is nan. {nanCount} out of {total}')\n",
    "    dataList = list(set(colData))\n",
    "        \n",
    "    if len(dataList)<=25:\n",
    "        print(dataList)\n",
    "    elif str(col) == 'met':\n",
    "        print(colData.value_counts())\n",
    "    else:\n",
    "        if colData.dtype == \"O\":\n",
    "            print(f\"data varries across {len(dataList)} values\")\n",
    "        elif ((\"pf_o\" in str(col)) or col.endswith(\"1_1\") or col.endswith(\"4_1\") or col.endswith(\"2_1\") or col.endswith(\"1_s\")):\n",
    "            print(f\"{colData69.mean()} +/- {colData69.std()}\")\n",
    "            fig = plt.figure()\n",
    "            plt.hist(colData69)\n",
    "            plt.title('Waves 6 - 9')\n",
    "            plt.show()\n",
    "            print(f\"{colDataNot69.mean()} +/- {colDataNot69.std()}\")\n",
    "            fig = plt.figure()\n",
    "            plt.hist(colDataNot69)\n",
    "            plt.title('Excluding Waves 6 - 9')\n",
    "            plt.show()\n",
    "        else:\n",
    "            print(f\"{colData.mean()} +/- {colData.std()}\")\n",
    "            fig = plt.figure()\n",
    "            plt.hist(colData)\n",
    "            plt.show()\n",
    "    print(\"\\n\")"
   ]
  },
  {
   "cell_type": "code",
   "execution_count": null,
   "id": "124f565d-3509-498c-bf2a-3b1309da207b",
   "metadata": {},
   "outputs": [],
   "source": [
    "gender0 = blindDateData[blindDateData['gender'] == 0]\n",
    "gender1 = blindDateData[blindDateData['gender'] == 1]"
   ]
  },
  {
   "cell_type": "code",
   "execution_count": null,
   "id": "c3ced942-b1da-4658-836b-db68bea15653",
   "metadata": {},
   "outputs": [],
   "source": [
    "selectedIndecies = np.random.choice(gender0.shape[0],replace = False,size = (40))"
   ]
  },
  {
   "cell_type": "code",
   "execution_count": null,
   "id": "3ca7da98-6cd8-4556-89bc-017d921b7208",
   "metadata": {},
   "outputs": [],
   "source": [
    "recordedCorr = []\n",
    "pearsonCorr = []\n",
    "spearmanCorr = []\n",
    "for i in selectedIndecies:\n",
    "    candidate = gender0.iloc[[i]]\n",
    "    partner = gender1[(gender1['iid'] == float(candidate['pid'])) & (gender1['pid'] == float(candidate['iid']))]\n",
    "    candidateInterests = []\n",
    "    partnerInterests = []\n",
    "    for col in interestColumns:\n",
    "        candidateScore = float(candidate[col])\n",
    "        partnerScore = float(partner[col])\n",
    "        if (util.isNan(candidateScore) == False and util.isNan(partnerScore) == False):\n",
    "            candidateInterests.append(candidateScore)\n",
    "            partnerInterests.append(partnerScore)\n",
    "    if len(candidateInterests) >= 2:\n",
    "        recordedCorr.append(candidate['int_corr'])\n",
    "        pearsonValue = stats.pearsonr(np.array(candidateInterests),np.array(partnerInterests))[0]\n",
    "        spearmanValue = stats.spearmanr(np.array(candidateInterests),np.array(partnerInterests))[0]\n",
    "        pearsonCorr.append(pearsonValue)\n",
    "        spearmanCorr.append(spearmanValue)\n",
    "\n",
    "pearsonError = np.mean((np.array(pearsonCorr) - np.array(recordedCorr))/np.array(recordedCorr))\n",
    "spearmanError = np.mean((np.array(spearmanCorr) - np.array(recordedCorr))/np.array(recordedCorr))\n",
    "print(f'Pearson Error {pearsonError}')\n",
    "print(f'Spearman Error {spearmanError}')"
   ]
  },
  {
   "cell_type": "code",
   "execution_count": null,
   "id": "3b92b990-a264-4d0e-a0b9-da8ba3b7f8fe",
   "metadata": {},
   "outputs": [],
   "source": [
    "recordedArray = np.array(recordedCorr).reshape(-1,1)\n",
    "pearsonArray = np.array(pearsonCorr).reshape(-1,1)\n",
    "spearmanArray = np.array(spearmanCorr).reshape(-1,1)\n",
    "\n",
    "util.plotCorrelation(pearsonArray,recordedArray,'pearson')\n",
    "util.plotCorrelation(spearmanArray,recordedArray,'spearman')"
   ]
  },
  {
   "cell_type": "code",
   "execution_count": null,
   "id": "61d1ef29-5768-4870-a3eb-f8d2659f1302",
   "metadata": {},
   "outputs": [],
   "source": [
    "#Pearson has more accuracy\n",
    "sharedInterestCoefficientsDictionary = dict()\n",
    "model = lm.LinearRegression()\n",
    "model.fit(pearsonArray,recordedArray)\n",
    "sharedInterestCoefficientsDictionary[\"m\"] = list(model.coef_[0])\n",
    "sharedInterestCoefficientsDictionary[\"b\"] = list(model.intercept_)\n",
    "with open(\"../data/sharedInterestCoefficientsDictionary.json\",\"w\") as fp:\n",
    "    json.dump(sharedInterestCoefficientsDictionary,fp)"
   ]
  },
  {
   "cell_type": "code",
   "execution_count": null,
   "id": "8365e08e-ecbb-42e5-8b2d-baa78e88a422",
   "metadata": {},
   "outputs": [],
   "source": [
    "util.getLocation('92069','San Marcos')"
   ]
  }
 ],
 "metadata": {
  "kernelspec": {
   "display_name": "Python 3 (ipykernel)",
   "language": "python",
   "name": "python3"
  },
  "language_info": {
   "codemirror_mode": {
    "name": "ipython",
    "version": 3
   },
   "file_extension": ".py",
   "mimetype": "text/x-python",
   "name": "python",
   "nbconvert_exporter": "python",
   "pygments_lexer": "ipython3",
   "version": "3.9.13"
  },
  "widgets": {
   "application/vnd.jupyter.widget-state+json": {
    "state": {},
    "version_major": 2,
    "version_minor": 0
   }
  }
 },
 "nbformat": 4,
 "nbformat_minor": 5
}
