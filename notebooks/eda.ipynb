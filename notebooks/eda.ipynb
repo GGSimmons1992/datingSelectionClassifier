{
 "cells": [
  {
   "cell_type": "code",
   "execution_count": 1,
   "id": "b4747346-7569-4768-9377-06bec259b4fe",
   "metadata": {},
   "outputs": [],
   "source": [
    "import numpy as np\n",
    "import pandas as pd\n",
    "import matplotlib.pyplot as plt\n",
    "from os.path import exists\n",
    "import json\n",
    "import scipy.stats as stats\n",
    "import math\n",
    "import sklearn.linear_model as lm\n",
    "\n",
    "import sys\n",
    "sys.path.insert(0, \"../src/\")\n",
    "import util as util"
   ]
  },
  {
   "cell_type": "code",
   "execution_count": 2,
   "id": "92fa2a41-ba2b-4a16-ac23-dbd36071a80a",
   "metadata": {},
   "outputs": [],
   "source": [
    "if exists('../data/encoded-SpeedDatingData-WithLocations.csv'):\n",
    "    fullDatingDatabase = pd.read_csv('../data/encoded-SpeedDatingData-WithLocations.csv')\n",
    "else:\n",
    "    fullDatingDatabase = pd.read_csv(\"../data/encoded-SpeedDatingData.csv\")\n",
    "    fullDatingDatabase = util.getLocations(fullDatingDatabase,True)\n",
    "    fullDatingDatabase.to_csv('../data/encoded-SpeedDatingData-WithLocations.csv',index=False)"
   ]
  },
  {
   "cell_type": "code",
   "execution_count": 3,
   "id": "36b7d282-9a94-4304-93bc-15fa9f81921f",
   "metadata": {},
   "outputs": [],
   "source": [
    "if exists(\"../data/incomeByLocationDictionary.json\") == False:\n",
    "    incomeByLocationDictionary = dict()\n",
    "    locationsDictionary = dict()\n",
    "    with open(\"../data/locations.json\") as d:\n",
    "        locationsDictionary = json.load(d)\n",
    "    locKeys = locationsDictionary.keys()\n",
    "    for locKey in locKeys:\n",
    "        location = locationsDictionary[locKey]\n",
    "        lat = location[0]\n",
    "        lon = location[1]\n",
    "        targets = fullDatingDatabase[(fullDatingDatabase[\"lats\"]==lat) & (fullDatingDatabase[\"lons\"]==lon)]\n",
    "        income = targets[\"income\"].str.replace(',', '').astype(float).mean()\n",
    "        if np.isnan(income) == False and np.isfinite(income):\n",
    "            incomeByLocationDictionary[locKey] = income\n",
    "    with open(\"../data/incomeByLocationDictionary.json\",\"w\") as fp:\n",
    "        json.dump(incomeByLocationDictionary,fp)\n",
    "    "
   ]
  },
  {
   "cell_type": "code",
   "execution_count": 4,
   "id": "a2aaecff-8ba0-4c2d-a2e5-ddf3fabfac79",
   "metadata": {},
   "outputs": [],
   "source": [
    "columnList = [\"iid\",\"gender\",\"round\",\"order\",\"pid\",\"match\",\"samerace\",\"age\",\"field_cd\",\n",
    "              \"undergra\",\"mn_sat\",\"tuition\",\"race\",\"imprace\",\"imprelig\",\"from\",\"zipcode\",\"income\",\"goal\",\"date\",\"go_out\",\"career_c\",\"sports\",\"tvsports\",\n",
    "              \"exercise\",\"dining\",\"museums\",\"art\",\"hiking\",\"gaming\",\"clubbing\",\"reading\",\"tv\",\"theater\",\"movies\",\"concerts\",\"music\",\"shopping\",\"yoga\",\n",
    "              \"exphappy\",\"expnum\",\"attr1_1\",\"sinc1_1\",\"intel1_1\",\"fun1_1\",\"shar1_1\",\"attr4_1\",\"sinc4_1\",\"intel4_1\",\"fun4_1\",\"shar4_1\",\n",
    "              \"attr2_1\",\"sinc2_1\",\"intel2_1\",\"fun2_1\",\"shar2_1\",\"attr3_1\",\"sinc3_1\",\"intel3_1\",\"fun3_1\",\"attr5_1\",\"sinc5_1\",\"intel5_1\",\n",
    "              \"fun5_1\",\"match_es\",\"attr1_s\",\"sinc1_s\",\"intel1_s\",\"fun1_s\",\"shar1_s\",\"attr3_s\",\"sinc3_s\",\"intel3_s\",\"fun3_s\",\"lats\",\"lons\",\"dec\"]\n",
    "nonBinaryCategoricalList = [\"field_cd\",\"undergra\",\"race\",\"zipcode\",\"goal\",\"date\",\"go_out\",\"career_c\",\"zipcode_o\"]\n",
    "stringToFloatList = [\"tuition\",\"mn_sat\",\"income\"]\n",
    "identityList = [\"iid\",\"pid\"]\n",
    "partnerList = [col for col in columnList if ((col not in identityList) and (col != \"match\") and (col != \"samerace\"))]\n",
    "pointDistributionList = [\"pf_o\",\"1_1\",\"4_1\",\"2_1\",\"1_s\"]"
   ]
  },
  {
   "cell_type": "code",
   "execution_count": 5,
   "id": "e010d06d-6757-40fa-be4b-109a464759ff",
   "metadata": {},
   "outputs": [],
   "source": [
    "columnDataDictionary = {\"columnList\": columnList,\n",
    "                        \"nonBinaryCategoricalList\": nonBinaryCategoricalList,\n",
    "                        \"stringToFloatList\": stringToFloatList,\n",
    "                        \"pointDistributionList\": pointDistributionList,\n",
    "                        \"partnerList\": partnerList}\n",
    "\n",
    "with open('../data/columnDataDictionary.json', 'w') as fp:\n",
    "    json.dump(columnDataDictionary, fp)\n",
    "\n",
    "!rm -r ../data/processedData\n",
    "!mkdir ../data/processedData\n",
    "\n",
    "with open('../data/processedData/columnDataDictionary.json', 'w') as fp:\n",
    "    json.dump(columnDataDictionary, fp)"
   ]
  },
  {
   "cell_type": "code",
   "execution_count": 6,
   "id": "d63ae7c7-950a-4b02-b1ec-c0b97cece3d3",
   "metadata": {},
   "outputs": [
    {
     "name": "stderr",
     "output_type": "stream",
     "text": [
      "../src/util.py:44: SettingWithCopyWarning: \n",
      "A value is trying to be set on a copy of a slice from a DataFrame.\n",
      "Try using .loc[row_indexer,col_indexer] = value instead\n",
      "\n",
      "See the caveats in the documentation: https://pandas.pydata.org/pandas-docs/stable/user_guide/indexing.html#returning-a-view-versus-a-copy\n",
      "  df[str(col)] = df[str(col)].str.replace(',', '').astype(float)\n",
      "../src/util.py:55: SettingWithCopyWarning: \n",
      "A value is trying to be set on a copy of a slice from a DataFrame.\n",
      "Try using .loc[row_indexer,col_indexer] = value instead\n",
      "\n",
      "See the caveats in the documentation: https://pandas.pydata.org/pandas-docs/stable/user_guide/indexing.html#returning-a-view-versus-a-copy\n",
      "  df[stringcol] = df[stringcol].astype(str)\n"
     ]
    }
   ],
   "source": [
    "blindDateData = fullDatingDatabase[columnList + ['wave','int_corr']]\n",
    "blindDateData = util.switchNumbersAndCategoriesFromRawData(blindDateData)"
   ]
  },
  {
   "cell_type": "code",
   "execution_count": 7,
   "id": "7a632a76-ce32-42db-a4db-a22880c59762",
   "metadata": {},
   "outputs": [],
   "source": [
    "blindDateDataWave69 = blindDateData[(blindDateData['wave'].astype(int) >= 6) & (blindDateData['wave'].astype(int) <= 9)]\n",
    "blindDateDataWaveNot69 = blindDateData[(blindDateData['wave'].astype(int) < 6) | (blindDateData['wave'].astype(int) > 9)]"
   ]
  },
  {
   "cell_type": "code",
   "execution_count": null,
   "id": "bc3e4500-a819-4e11-9cb7-3f9b251de2e8",
   "metadata": {
    "tags": []
   },
   "outputs": [
    {
     "name": "stdout",
     "output_type": "stream",
     "text": [
      "iid int64\n",
      "0.0% of data is nan. 0 out of 8378\n",
      "283.675936977799 +/- 158.58336657825632\n"
     ]
    },
    {
     "data": {
      "image/png": "[encoded data removed]",
      "text/plain": [
       "<Figure size 432x288 with 1 Axes>"
      ]
     },
     "metadata": {
      "needs_background": "light"
     },
     "output_type": "display_data"
    },
    {
     "name": "stdout",
     "output_type": "stream",
     "text": [
      "\n",
      "\n",
      "gender int64\n",
      "0.0% of data is nan. 0 out of 8378\n",
      "[0, 1]\n",
      "\n",
      "\n",
      "round int64\n",
      "0.0% of data is nan. 0 out of 8378\n",
      "[5, 6, 7, 8, 9, 10, 11, 14, 15, 16, 18, 19, 20, 21, 22]\n",
      "\n",
      "\n",
      "order int64\n",
      "0.0% of data is nan. 0 out of 8378\n",
      "[1, 2, 3, 4, 5, 6, 7, 8, 9, 10, 11, 12, 13, 14, 15, 16, 17, 18, 19, 20, 21, 22]\n",
      "\n",
      "\n",
      "pid float64\n",
      "0.11936022917164% of data is nan. 10 out of 8378\n",
      "283.86376673040155 +/- 158.58489888970877\n"
     ]
    },
    {
     "data": {
      "image/png": "[encoded data removed]",
      "text/plain": [
       "<Figure size 432x288 with 1 Axes>"
      ]
     },
     "metadata": {
      "needs_background": "light"
     },
     "output_type": "display_data"
    },
    {
     "name": "stdout",
     "output_type": "stream",
     "text": [
      "\n",
      "\n",
      "match int64\n",
      "0.0% of data is nan. 0 out of 8378\n",
      "[0, 1]\n",
      "\n",
      "\n",
      "samerace int64\n",
      "0.0% of data is nan. 0 out of 8378\n",
      "[0, 1]\n",
      "\n",
      "\n",
      "age float64\n",
      "1.13392217713058% of data is nan. 95 out of 8378\n",
      "26.358927924664975 +/- 3.566762556101457\n"
     ]
    },
    {
     "data": {
      "image/png": "[encoded data removed]",
      "text/plain": [
       "<Figure size 432x288 with 1 Axes>"
      ]
     },
     "metadata": {
      "needs_background": "light"
     },
     "output_type": "display_data"
    },
    {
     "name": "stdout",
     "output_type": "stream",
     "text": [
      "\n",
      "\n",
      "field_cd object\n",
      "0.978753879207448% of data is nan. 82 out of 8378\n",
      "['1.0', '17.0', '7.0', '2.0', '5.0', '6.0', '8.0', '11.0', 'nan', '9.0', '4.0', '18.0', '12.0', '15.0', '13.0', '14.0', '16.0', '10.0', '3.0']\n",
      "\n",
      "\n",
      "undergra object\n",
      "41.3463833850561% of data is nan. 3464 out of 8378\n",
      "data varries across 242 values\n",
      "\n",
      "\n",
      "mn_sat float64\n",
      "62.60444020052518% of data is nan. 5245 out of 8378\n",
      "1299.6552824768592 +/- 119.79802034467889\n"
     ]
    },
    {
     "data": {
      "image/png": "[encoded data removed]",
      "text/plain": [
       "<Figure size 432x288 with 1 Axes>"
      ]
     },
     "metadata": {
      "needs_background": "light"
     },
     "output_type": "display_data"
    },
    {
     "name": "stdout",
     "output_type": "stream",
     "text": [
      "\n",
      "\n",
      "tuition float64\n",
      "57.233229887801386% of data is nan. 4795 out of 8378\n",
      "21174.926039631595 +/- 6748.661161666493\n"
     ]
    },
    {
     "data": {
      "image/png": "[encoded data removed]",
      "text/plain": [
       "<Figure size 432x288 with 1 Axes>"
      ]
     },
     "metadata": {
      "needs_background": "light"
     },
     "output_type": "display_data"
    },
    {
     "name": "stdout",
     "output_type": "stream",
     "text": [
      "\n",
      "\n",
      "race object\n",
      "0.751969443781332% of data is nan. 63 out of 8378\n",
      "['nan', '4.0', '2.0', '1.0', '6.0', '3.0']\n",
      "\n",
      "\n",
      "imprace float64\n",
      "0.942945810455956% of data is nan. 79 out of 8378\n",
      "3.7847933485962164 +/- 2.8457077597185734\n"
     ]
    },
    {
     "data": {
      "image/png": "[encoded data removed]",
      "text/plain": [
       "<Figure size 432x288 with 1 Axes>"
      ]
     },
     "metadata": {
      "needs_background": "light"
     },
     "output_type": "display_data"
    },
    {
     "name": "stdout",
     "output_type": "stream",
     "text": [
      "\n",
      "\n",
      "imprelig float64\n",
      "0.942945810455956% of data is nan. 79 out of 8378\n",
      "3.651644776479094 +/- 2.8052370077510074\n"
     ]
    },
    {
     "data": {
      "image/png": "[encoded data removed]",
      "text/plain": [
       "<Figure size 432x288 with 1 Axes>"
      ]
     },
     "metadata": {
      "needs_background": "light"
     },
     "output_type": "display_data"
    },
    {
     "name": "stdout",
     "output_type": "stream",
     "text": [
      "\n",
      "\n",
      "from object\n",
      "0.942945810455956% of data is nan. 79 out of 8378\n",
      "data varries across 270 values\n",
      "\n",
      "\n",
      "zipcode object\n",
      "12.699928383862497% of data is nan. 1064 out of 8378\n",
      "data varries across 410 values\n",
      "\n",
      "\n",
      "income float64\n",
      "48.92575793745524% of data is nan. 4099 out of 8378\n",
      "44887.606450105166 +/- 17206.9209616554\n"
     ]
    },
    {
     "data": {
      "image/png": "[encoded data removed]",
      "text/plain": [
       "<Figure size 432x288 with 1 Axes>"
      ]
     },
     "metadata": {
      "needs_background": "light"
     },
     "output_type": "display_data"
    },
    {
     "name": "stdout",
     "output_type": "stream",
     "text": [
      "\n",
      "\n",
      "goal object\n",
      "0.942945810455956% of data is nan. 79 out of 8378\n",
      "['nan', '4.0', '2.0', '5.0', '1.0', '6.0', '3.0']\n",
      "\n",
      "\n",
      "date object\n",
      "1.157794222964908% of data is nan. 97 out of 8378\n",
      "['nan', '7.0', '4.0', '5.0', '2.0', '1.0', '6.0', '3.0']\n",
      "\n",
      "\n",
      "go_out object\n",
      "0.942945810455956% of data is nan. 79 out of 8378\n",
      "['nan', '7.0', '4.0', '2.0', '5.0', '1.0', '6.0', '3.0']\n",
      "\n",
      "\n",
      "career_c object\n",
      "1.647171162568632% of data is nan. 138 out of 8378\n",
      "['nan', '15.0', '13.0', '9.0', '17.0', '7.0', '4.0', '2.0', '5.0', '1.0', '14.0', '16.0', '8.0', '10.0', '12.0', '6.0', '3.0', '11.0']\n",
      "\n",
      "\n",
      "sports float64\n",
      "0.942945810455956% of data is nan. 79 out of 8378\n",
      "6.425231955657308 +/- 2.6190238915809467\n"
     ]
    }
   ],
   "source": [
    "total = blindDateData.shape[0]\n",
    "for col in columnList:\n",
    "    colData = blindDateData[col]\n",
    "    colData69 = blindDateDataWave69[col]\n",
    "    colDataNot69 = blindDateDataWaveNot69[col]\n",
    "    \n",
    "    print(f'{col} {colData.dtype}')\n",
    "    nanCount = sum([util.isNan(x) for x in colData])\n",
    "    print(f'{100 * nanCount/total}% of data is nan. {nanCount} out of {total}')\n",
    "    dataList = list(set(colData))\n",
    "        \n",
    "    if len(dataList)<=25:\n",
    "        print(dataList)\n",
    "    elif str(col) == 'met':\n",
    "        print(colData.value_counts())\n",
    "    else:\n",
    "        if colData.dtype == \"O\":\n",
    "            print(f\"data varries across {len(dataList)} values\")\n",
    "        elif ((\"pf_o\" in str(col)) or col.endswith(\"1_1\") or col.endswith(\"4_1\") or col.endswith(\"2_1\") or col.endswith(\"1_s\")):\n",
    "            print(f\"{colData69.mean()} +/- {colData69.std()}\")\n",
    "            fig = plt.figure()\n",
    "            plt.hist(colData69)\n",
    "            plt.title('Waves 6 - 9')\n",
    "            plt.show()\n",
    "            print(f\"{colDataNot69.mean()} +/- {colDataNot69.std()}\")\n",
    "            fig = plt.figure()\n",
    "            plt.hist(colDataNot69)\n",
    "            plt.title('Excluding Waves 6 - 9')\n",
    "            plt.show()\n",
    "        else:\n",
    "            print(f\"{colData.mean()} +/- {colData.std()}\")\n",
    "            fig = plt.figure()\n",
    "            plt.hist(colData)\n",
    "            plt.show()\n",
    "    print(\"\\n\")"
   ]
  },
  {
   "cell_type": "code",
   "execution_count": null,
   "id": "124f565d-3509-498c-bf2a-3b1309da207b",
   "metadata": {},
   "outputs": [],
   "source": [
    "interestColumns = [\"sports\",\"tvsports\",\"exercise\",\"dining\",\"museums\",\"art\",\"hiking\",\"gaming\",\"clubbing\",\"reading\",\"tv\",\"theater\",\"movies\",\"concerts\",\"music\",\"shopping\",\"yoga\"]\n",
    "gender0 = blindDateData[blindDateData['gender'] == 0]\n",
    "gender1 = blindDateData[blindDateData['gender'] == 1]"
   ]
  },
  {
   "cell_type": "code",
   "execution_count": null,
   "id": "c3ced942-b1da-4658-836b-db68bea15653",
   "metadata": {},
   "outputs": [],
   "source": [
    "selectedIndecies = np.random.choice(gender0.shape[0],replace = False,size = (40))"
   ]
  },
  {
   "cell_type": "code",
   "execution_count": null,
   "id": "3ca7da98-6cd8-4556-89bc-017d921b7208",
   "metadata": {},
   "outputs": [],
   "source": [
    "recordedCorr = []\n",
    "pearsonCorr = []\n",
    "spearmanCorr = []\n",
    "for i in selectedIndecies:\n",
    "    candidate = gender0.iloc[[i]]\n",
    "    partner = gender1[(gender1['iid'] == float(candidate['pid'])) & (gender1['pid'] == float(candidate['iid']))]\n",
    "    candidateInterests = []\n",
    "    partnerInterests = []\n",
    "    for col in interestColumns:\n",
    "        candidateScore = float(candidate[col])\n",
    "        partnerScore = float(partner[col])\n",
    "        if (util.isNan(candidateScore) == False and util.isNan(partnerScore) == False):\n",
    "            candidateInterests.append(candidateScore)\n",
    "            partnerInterests.append(partnerScore)\n",
    "    if len(candidateInterests) >= 2:\n",
    "        recordedCorr.append(candidate['int_corr'])\n",
    "        pearsonValue = stats.pearsonr(np.array(candidateInterests),np.array(partnerInterests))[0]\n",
    "        spearmanValue = stats.spearmanr(np.array(candidateInterests),np.array(partnerInterests))[0]\n",
    "        pearsonCorr.append(pearsonValue)\n",
    "        spearmanCorr.append(spearmanValue)\n",
    "\n",
    "pearsonError = np.mean((np.array(pearsonCorr) - np.array(recordedCorr))/np.array(recordedCorr))\n",
    "spearmanError = np.mean((np.array(spearmanCorr) - np.array(recordedCorr))/np.array(recordedCorr))\n",
    "print(f'Pearson Error {pearsonError}')\n",
    "print(f'Spearman Error {spearmanError}')"
   ]
  },
  {
   "cell_type": "code",
   "execution_count": null,
   "id": "3b92b990-a264-4d0e-a0b9-da8ba3b7f8fe",
   "metadata": {},
   "outputs": [],
   "source": [
    "recordedArray = np.array(recordedCorr).reshape(-1,1)\n",
    "pearsonArray = np.array(pearsonCorr).reshape(-1,1)\n",
    "spearmanArray = np.array(spearmanCorr).reshape(-1,1)\n",
    "\n",
    "util.plotCorrelation(recordedArray,pearsonArray,'pearson')\n",
    "util.plotCorrelation(recordedArray,spearmanArray,'spearman')"
   ]
  },
  {
   "cell_type": "code",
   "execution_count": null,
   "id": "8365e08e-ecbb-42e5-8b2d-baa78e88a422",
   "metadata": {},
   "outputs": [],
   "source": [
    "util.getLocation('92069','San Marcos')"
   ]
  }
 ],
 "metadata": {
  "kernelspec": {
   "display_name": "Python 3",
   "language": "python",
   "name": "python3"
  },
  "language_info": {
   "codemirror_mode": {
    "name": "ipython",
    "version": 3
   },
   "file_extension": ".py",
   "mimetype": "text/x-python",
   "name": "python",
   "nbconvert_exporter": "python",
   "pygments_lexer": "ipython3",
   "version": "3.8.8"
  },
  "widgets": {
   "application/vnd.jupyter.widget-state+json": {
    "state": {},
    "version_major": 2,
    "version_minor": 0
   }
  }
 },
 "nbformat": 4,
 "nbformat_minor": 5
}
