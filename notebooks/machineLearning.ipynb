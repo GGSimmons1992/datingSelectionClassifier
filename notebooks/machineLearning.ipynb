{
 "cells": [
  {
   "cell_type": "code",
   "execution_count": 1,
   "id": "283e38b5-dbdb-48a3-901b-2d4c6fe803f6",
   "metadata": {},
   "outputs": [
    {
     "data": {
      "application/javascript": [
       "IPython.notebook.set_autosave_interval(5000)"
      ]
     },
     "metadata": {},
     "output_type": "display_data"
    },
    {
     "name": "stdout",
     "output_type": "stream",
     "text": [
      "Autosaving every 5 seconds\n"
     ]
    }
   ],
   "source": [
    "import numpy as np\n",
    "import pandas as pd\n",
    "import matplotlib.pyplot as plt\n",
    "import os\n",
    "from os.path import exists\n",
    "from os import remove\n",
    "import json\n",
    "from sklearn.model_selection import train_test_split\n",
    "import sklearn.model_selection as ms\n",
    "import sklearn.metrics as sm\n",
    "from sklearn.model_selection import cross_validate\n",
    "import sklearn.linear_model as lm\n",
    "from sklearn.neighbors import KNeighborsClassifier as knn\n",
    "from sklearn.ensemble import GradientBoostingClassifier as grad\n",
    "from sklearn.ensemble import RandomForestClassifier as rf\n",
    "from sklearn.ensemble import VotingClassifier\n",
    "from sklearn import metrics\n",
    "import scipy.stats as stats\n",
    "from sklearn.pipeline import make_pipeline\n",
    "from sklearn.preprocessing import StandardScaler\n",
    "\n",
    "import sys\n",
    "sys.path.insert(0, \"../util/\")\n",
    "import util as util\n",
    "\n",
    "%autosave 5"
   ]
  },
  {
   "cell_type": "markdown",
   "id": "85f53352-c019-4b18-ad90-c9ec7e010d29",
   "metadata": {},
   "source": [
    "# Adding dummies and train-test-split"
   ]
  },
  {
   "cell_type": "code",
   "execution_count": 2,
   "id": "1f609dd8-54ac-4fdf-929d-1c6870d95fa6",
   "metadata": {},
   "outputs": [],
   "source": [
    "datingTrainExists = exists('../data/processedData/datingTrain.csv')\n",
    "datingTestExists = exists('../data/processedData/datingTest.csv')\n",
    "datingFullExists = exists('../data/processedData/datingFull.csv')"
   ]
  },
  {
   "cell_type": "code",
   "execution_count": 3,
   "id": "6bdd5e57-935f-47f6-baa4-506a1ec62765",
   "metadata": {},
   "outputs": [],
   "source": [
    "if exists('../data/processedData/columnDataDictionary.json'):\n",
    "    with open('../data/processedData/columnDataDictionary.json') as d:\n",
    "        columnDataDictionary = json.load(d)\n",
    "else:\n",
    "    with open('../data/columnDataDictionary.json') as d:\n",
    "        columnDataDictionary = json.load(d)\n",
    "columnList = columnDataDictionary['columnList']\n",
    "nonBinaryCategoricalList = columnDataDictionary['nonBinaryCategoricalList']\n",
    "stringToFloatList = columnDataDictionary['stringToFloatList']\n",
    "pointDistributionList = columnDataDictionary['pointDistributionList']\n",
    "partnerList = columnDataDictionary['partnerList']"
   ]
  },
  {
   "cell_type": "code",
   "execution_count": 4,
   "id": "8c38d144-9101-4d6a-802b-192a9d08ac73",
   "metadata": {},
   "outputs": [
    {
     "name": "stderr",
     "output_type": "stream",
     "text": [
      "<ipython-input-4-fec425ccdf82>:23: SettingWithCopyWarning: \n",
      "A value is trying to be set on a copy of a slice from a DataFrame.\n",
      "Try using .loc[row_indexer,col_indexer] = value instead\n",
      "\n",
      "See the caveats in the documentation: https://pandas.pydata.org/pandas-docs/stable/user_guide/indexing.html#returning-a-view-versus-a-copy\n",
      "  blindDateData[col] = blindDateData[col].str.replace(',', '').astype(float)\n",
      "<ipython-input-4-fec425ccdf82>:25: SettingWithCopyWarning: \n",
      "A value is trying to be set on a copy of a slice from a DataFrame.\n",
      "Try using .loc[row_indexer,col_indexer] = value instead\n",
      "\n",
      "See the caveats in the documentation: https://pandas.pydata.org/pandas-docs/stable/user_guide/indexing.html#returning-a-view-versus-a-copy\n",
      "  blindDateData['zipcode'] = blindDateData['zipcode'].apply(str)\n",
      "<ipython-input-4-fec425ccdf82>:26: SettingWithCopyWarning: \n",
      "A value is trying to be set on a copy of a slice from a DataFrame.\n",
      "Try using .loc[row_indexer,col_indexer] = value instead\n",
      "\n",
      "See the caveats in the documentation: https://pandas.pydata.org/pandas-docs/stable/user_guide/indexing.html#returning-a-view-versus-a-copy\n",
      "  blindDateData['zipcode'] = blindDateData['zipcode'].str.replace(',', '')\n",
      "<ipython-input-4-fec425ccdf82>:29: SettingWithCopyWarning: \n",
      "A value is trying to be set on a copy of a slice from a DataFrame.\n",
      "Try using .loc[row_indexer,col_indexer] = value instead\n",
      "\n",
      "See the caveats in the documentation: https://pandas.pydata.org/pandas-docs/stable/user_guide/indexing.html#returning-a-view-versus-a-copy\n",
      "  blindDateData[col] = blindDateData[col].apply(str)\n",
      "<ipython-input-4-fec425ccdf82>:33: SettingWithCopyWarning: \n",
      "A value is trying to be set on a copy of a slice from a DataFrame.\n",
      "Try using .loc[row_indexer,col_indexer] = value instead\n",
      "\n",
      "See the caveats in the documentation: https://pandas.pydata.org/pandas-docs/stable/user_guide/indexing.html#returning-a-view-versus-a-copy\n",
      "  blindDateData[col]=blindDateData[col].fillna('nan')\n"
     ]
    }
   ],
   "source": [
    "if (datingTrainExists and datingTestExists and datingFullExists):\n",
    "    datingTrain = pd.read_csv('../data/processedData/datingTrain.csv')\n",
    "    datingTest = pd.read_csv('../data/processedData/datingTest.csv')\n",
    "    datingFull = pd.read_csv('../data/processedData/datingFull.csv')\n",
    "    \n",
    "    for df in [datingTrain,datingTest,datingFull]:\n",
    "        df['zipcode'] = df['zipcode'].apply(str)\n",
    "        if 'zipcode_o' in list(df.columns):\n",
    "            df['zipcode_o'] = df['zipcode_o'].apply(str)\n",
    "        for col in nonBinaryCategoricalList:\n",
    "            if col in list(df.columns):\n",
    "                df[col] = df[col].apply(str)\n",
    "        \n",
    "else:\n",
    "    !rm -r ../data/processedData\n",
    "    !mkdir ../data/processedData\n",
    "    \n",
    "    datingData = pd.read_csv('../data/encoded-SpeedDatingData-WithLocations.csv')   \n",
    "    \n",
    "    blindDateData = datingData[columnList]\n",
    "    \n",
    "    for col in stringToFloatList:\n",
    "        blindDateData[col] = blindDateData[col].str.replace(',', '').astype(float)\n",
    "    \n",
    "    blindDateData['zipcode'] = blindDateData['zipcode'].apply(str)\n",
    "    blindDateData['zipcode'] = blindDateData['zipcode'].str.replace(',', '')\n",
    "    \n",
    "    for col in nonBinaryCategoricalList:\n",
    "        blindDateData[col] = blindDateData[col].apply(str)\n",
    "    \n",
    "    blindDateCategoricalData = blindDateData.select_dtypes(include=['O'])\n",
    "    for col in blindDateCategoricalData.columns:\n",
    "        blindDateData[col]=blindDateData[col].fillna('nan')\n",
    "    \n",
    "    for col in blindDateCategoricalData.columns:\n",
    "        dummyData = pd.get_dummies(blindDateData[col],prefix=col,drop_first=True)\n",
    "        if len(dummyData.columns) <= 25:\n",
    "            for dummyCol in dummyData.columns:\n",
    "                if col in partnerList:\n",
    "                    partnerList.append(str(dummyCol))\n",
    "                    partnerDummies = [partnerdummy+\"_o\" for partnerdummy in list(dummyData.columns)]\n",
    "            blindDateData = pd.concat([blindDateData,dummyData],axis=1)\n",
    "    \n",
    "    blindDateCols = blindDateData.columns\n",
    "    identityList = [\"iid\",\"pid\"]\n",
    "    partnerList = [col for col in columnList if ((col not in identityList) and (col != \"match\") and (\"_o\" not in col))]\n",
    "    partnerList += [col for col in blindDateData.columns if \"go_out\" in col]\n",
    "    \n",
    "    partnerList = list(set(partnerList))\n",
    "    columnDataDictionary = {\"columnList\": columnList,\n",
    "                        \"nonBinaryCategoricalList\": nonBinaryCategoricalList,\n",
    "                        \"stringToFloatList\": stringToFloatList,\n",
    "                        \"pointDistributionList\": pointDistributionList,\n",
    "                        \"partnerList\": partnerList}\n",
    "\n",
    "    with open('../data/processedData/columnDataDictionary.json', 'w') as fp:\n",
    "            json.dump(columnDataDictionary, fp)\n",
    "    \n",
    "    datingFull = blindDateData.copy()\n",
    "    match = datingFull['match']\n",
    "    X = datingFull.drop(['match'], axis=1)\n",
    "    \n",
    "    datingTrain, datingTest, matchTrain, matchTest = train_test_split(X, match, test_size=0.2)\n",
    "    \n",
    "    datingTrain['match'] = matchTrain\n",
    "    datingTest['match'] = matchTest\n",
    "    \n",
    "    datingTrain.to_csv('../data/processedData/datingTrain.csv',index=False)\n",
    "    datingTest.to_csv('../data/processedData/datingTest.csv',index=False)\n",
    "    datingFull.to_csv('../data/processedData/datingFull.csv',index=False)"
   ]
  },
  {
   "cell_type": "markdown",
   "id": "67c695ed-1396-49fb-ae29-736e77d59d69",
   "metadata": {},
   "source": [
    "## Data Cleaning"
   ]
  },
  {
   "cell_type": "markdown",
   "id": "1ebd90ed-cccb-437b-a07e-1b153772db7c",
   "metadata": {},
   "source": [
    "### Join partner"
   ]
  },
  {
   "cell_type": "code",
   "execution_count": 5,
   "id": "b3addb68-04fb-4afe-a7c8-dbd8d6825eb6",
   "metadata": {},
   "outputs": [
    {
     "name": "stderr",
     "output_type": "stream",
     "text": [
      "../util/util.py:65: SettingWithCopyWarning: \n",
      "A value is trying to be set on a copy of a slice from a DataFrame.\n",
      "Try using .loc[row_indexer,col_indexer] = value instead\n",
      "\n",
      "See the caveats in the documentation: https://pandas.pydata.org/pandas-docs/stable/user_guide/indexing.html#returning-a-view-versus-a-copy\n",
      "  partner_o['iid_o'] = partner_o['iid']\n",
      "../util/util.py:66: SettingWithCopyWarning: \n",
      "A value is trying to be set on a copy of a slice from a DataFrame.\n",
      "Try using .loc[row_indexer,col_indexer] = value instead\n",
      "\n",
      "See the caveats in the documentation: https://pandas.pydata.org/pandas-docs/stable/user_guide/indexing.html#returning-a-view-versus-a-copy\n",
      "  partner_o['pid_o'] = partner_o['pid']\n"
     ]
    }
   ],
   "source": [
    "if (\"iid\" in datingTrain.columns) or (\"pid\" in datingTrain.columns):\n",
    "    partner = datingFull.copy()\n",
    "    datingTrain = util.joinToPartner(datingTrain,partner).drop([\"iid\",\"pid\",\"iid_o\",\"pid_o\"],axis=1)\n",
    "    datingTrain.to_csv('../data/processedData/datingTrain.csv',index=False)"
   ]
  },
  {
   "cell_type": "markdown",
   "id": "1de70f81-b475-42fe-9dc7-8c107f2d28f8",
   "metadata": {},
   "source": [
    "### Get distance"
   ]
  },
  {
   "cell_type": "code",
   "execution_count": 6,
   "id": "dc4da6bb-d52b-4a7f-8ece-fe8de5dcea23",
   "metadata": {},
   "outputs": [
    {
     "name": "stdout",
     "output_type": "stream",
     "text": [
      "21:36:27\n",
      "6701 of 6702: 99.98507908087139% complete\n",
      "2.58131900925097% of data is None\n"
     ]
    }
   ],
   "source": [
    "if \"partnerDistance\" not in datingTrain.columns:\n",
    "    datingTrain = util.returnDFWithpartnerDistance(datingTrain,\"train\",True)\n",
    "    datingTrain.to_csv('../data/processedData/datingTrain.csv',index=False)"
   ]
  },
  {
   "cell_type": "markdown",
   "id": "d629b9d5-3238-4fe4-bdc7-421fb93ea28d",
   "metadata": {
    "tags": []
   },
   "source": [
    "### Fix ambiguous scores"
   ]
  },
  {
   "cell_type": "code",
   "execution_count": 7,
   "id": "6ede98e0-c807-43b3-976b-4728aece576b",
   "metadata": {
    "tags": []
   },
   "outputs": [],
   "source": [
    "halfwayChangeColumns = [str(col) for col in datingTrain.columns if ((\"1_s\" in str(col)) | (\"3_s\" in str(col)))]\n",
    "\n",
    "if(len(halfwayChangeColumns) > 0):\n",
    "    datingTrain = util.fixAmbiguousScores(datingTrain)\n",
    "    util.halfwayQuestionSanityTest(datingTrain,\" post-fixAmbiguousScores and pre-saving\")\n",
    "    datingTrain.to_csv('../data/processedData/datingTrain.csv',index=False)"
   ]
  },
  {
   "cell_type": "markdown",
   "id": "d4444c2d-2bae-4e16-848d-5035c7700c62",
   "metadata": {},
   "source": [
    "### Replace Nans"
   ]
  },
  {
   "cell_type": "code",
   "execution_count": 8,
   "id": "04a1fe4d-f74a-4a20-a5e5-9924a44d97bd",
   "metadata": {},
   "outputs": [],
   "source": [
    "datingTrainNumerical = datingTrain.select_dtypes(include=['uint8','int64','float64']).drop(\"match\",axis=1)\n",
    "\n",
    "if (exists('../data/processedData/trainNanReplacementValuesDictionary.json')):\n",
    "    with open('../data/processedData/trainNanReplacementValuesDictionary.json') as d:\n",
    "        trainNanReplacementValuesDictionary = json.load(d)\n",
    "else:\n",
    "    trainNanReplacementValuesDictionary = {}\n",
    "    for col in datingTrainNumerical:   \n",
    "        if len(list(set(datingTrainNumerical[col]))) <=30:\n",
    "            setValues = [val for val in list(set(datingTrainNumerical[col])) if ((np.isnan(val) == False) and np.isfinite(val))]\n",
    "            setValues = pd.Series(setValues)\n",
    "            trainNanReplacementValuesDictionary[str(col)] = round(np.mean(setValues.mode().values))\n",
    "        else:\n",
    "            trainNanReplacementValuesDictionary[str(col)] = datingTrainNumerical[col].mean()\n",
    "    with open('../data/processedData/trainNanReplacementValuesDictionary.json', 'w') as fp:\n",
    "        json.dump(trainNanReplacementValuesDictionary, fp)"
   ]
  },
  {
   "cell_type": "code",
   "execution_count": 9,
   "id": "d4d48406-ee7c-4e34-b985-f0b2a325363d",
   "metadata": {},
   "outputs": [],
   "source": [
    "match = datingTrain[\"match\"]\n",
    "X = util.replaceNansWithTrainingDataValues(datingTrainNumerical)"
   ]
  },
  {
   "cell_type": "markdown",
   "id": "911fcbe2-48f5-470d-8dbf-d59feb48cec9",
   "metadata": {},
   "source": [
    "# Training"
   ]
  },
  {
   "cell_type": "code",
   "execution_count": 10,
   "id": "248dff16-8447-41c3-9aa4-01d8f87f90e4",
   "metadata": {},
   "outputs": [],
   "source": [
    "sqrtn = int(np.sqrt(X.shape[0]))\n",
    "sqrtfeatures = int(np.sqrt(X.shape[1]))\n",
    "log2features = int(np.log2(X.shape[1]))\n",
    "geometricTerms = sorted([np.sqrt(X.shape[1]),np.log2(X.shape[1])])\n",
    "thirdGeometricTerm = int(geometricTerms[1] * (geometricTerms[1]/geometricTerms[0]))"
   ]
  },
  {
   "cell_type": "markdown",
   "id": "fccf544a-51dc-4d1d-9619-654cc93ac168",
   "metadata": {},
   "source": [
    "## Logistic Regression"
   ]
  },
  {
   "cell_type": "code",
   "execution_count": 11,
   "id": "692996cb-15e6-4e17-82b4-aded2aaa7301",
   "metadata": {},
   "outputs": [
    {
     "data": {
      "text/html": [
       "<style>#sk-container-id-1 {color: black;background-color: white;}#sk-container-id-1 pre{padding: 0;}#sk-container-id-1 div.sk-toggleable {background-color: white;}#sk-container-id-1 label.sk-toggleable__label {cursor: pointer;display: block;width: 100%;margin-bottom: 0;padding: 0.3em;box-sizing: border-box;text-align: center;}#sk-container-id-1 label.sk-toggleable__label-arrow:before {content: \"▸\";float: left;margin-right: 0.25em;color: #696969;}#sk-container-id-1 label.sk-toggleable__label-arrow:hover:before {color: black;}#sk-container-id-1 div.sk-estimator:hover label.sk-toggleable__label-arrow:before {color: black;}#sk-container-id-1 div.sk-toggleable__content {max-height: 0;max-width: 0;overflow: hidden;text-align: left;background-color: #f0f8ff;}#sk-container-id-1 div.sk-toggleable__content pre {margin: 0.2em;color: black;border-radius: 0.25em;background-color: #f0f8ff;}#sk-container-id-1 input.sk-toggleable__control:checked~div.sk-toggleable__content {max-height: 200px;max-width: 100%;overflow: auto;}#sk-container-id-1 input.sk-toggleable__control:checked~label.sk-toggleable__label-arrow:before {content: \"▾\";}#sk-container-id-1 div.sk-estimator input.sk-toggleable__control:checked~label.sk-toggleable__label {background-color: #d4ebff;}#sk-container-id-1 div.sk-label input.sk-toggleable__control:checked~label.sk-toggleable__label {background-color: #d4ebff;}#sk-container-id-1 input.sk-hidden--visually {border: 0;clip: rect(1px 1px 1px 1px);clip: rect(1px, 1px, 1px, 1px);height: 1px;margin: -1px;overflow: hidden;padding: 0;position: absolute;width: 1px;}#sk-container-id-1 div.sk-estimator {font-family: monospace;background-color: #f0f8ff;border: 1px dotted black;border-radius: 0.25em;box-sizing: border-box;margin-bottom: 0.5em;}#sk-container-id-1 div.sk-estimator:hover {background-color: #d4ebff;}#sk-container-id-1 div.sk-parallel-item::after {content: \"\";width: 100%;border-bottom: 1px solid gray;flex-grow: 1;}#sk-container-id-1 div.sk-label:hover label.sk-toggleable__label {background-color: #d4ebff;}#sk-container-id-1 div.sk-serial::before {content: \"\";position: absolute;border-left: 1px solid gray;box-sizing: border-box;top: 0;bottom: 0;left: 50%;z-index: 0;}#sk-container-id-1 div.sk-serial {display: flex;flex-direction: column;align-items: center;background-color: white;padding-right: 0.2em;padding-left: 0.2em;position: relative;}#sk-container-id-1 div.sk-item {position: relative;z-index: 1;}#sk-container-id-1 div.sk-parallel {display: flex;align-items: stretch;justify-content: center;background-color: white;position: relative;}#sk-container-id-1 div.sk-item::before, #sk-container-id-1 div.sk-parallel-item::before {content: \"\";position: absolute;border-left: 1px solid gray;box-sizing: border-box;top: 0;bottom: 0;left: 50%;z-index: -1;}#sk-container-id-1 div.sk-parallel-item {display: flex;flex-direction: column;z-index: 1;position: relative;background-color: white;}#sk-container-id-1 div.sk-parallel-item:first-child::after {align-self: flex-end;width: 50%;}#sk-container-id-1 div.sk-parallel-item:last-child::after {align-self: flex-start;width: 50%;}#sk-container-id-1 div.sk-parallel-item:only-child::after {width: 0;}#sk-container-id-1 div.sk-dashed-wrapped {border: 1px dashed gray;margin: 0 0.4em 0.5em 0.4em;box-sizing: border-box;padding-bottom: 0.4em;background-color: white;}#sk-container-id-1 div.sk-label label {font-family: monospace;font-weight: bold;display: inline-block;line-height: 1.2em;}#sk-container-id-1 div.sk-label-container {text-align: center;}#sk-container-id-1 div.sk-container {/* jupyter's `normalize.less` sets `[hidden] { display: none; }` but bootstrap.min.css set `[hidden] { display: none !important; }` so we also need the `!important` here to be able to override the default hidden behavior on the sphinx rendered scikit-learn.org. See: https://github.com/scikit-learn/scikit-learn/issues/21755 */display: inline-block !important;position: relative;}#sk-container-id-1 div.sk-text-repr-fallback {display: none;}</style><div id=\"sk-container-id-1\" class=\"sk-top-container\"><div class=\"sk-text-repr-fallback\"><pre>Pipeline(steps=[(&#x27;standardscaler&#x27;, StandardScaler()),\n",
       "                (&#x27;logisticregression&#x27;,\n",
       "                 LogisticRegression(max_iter=1000000000.0))])</pre><b>In a Jupyter environment, please rerun this cell to show the HTML representation or trust the notebook. <br />On GitHub, the HTML representation is unable to render, please try loading this page with nbviewer.org.</b></div><div class=\"sk-container\" hidden><div class=\"sk-item sk-dashed-wrapped\"><div class=\"sk-label-container\"><div class=\"sk-label sk-toggleable\"><input class=\"sk-toggleable__control sk-hidden--visually\" id=\"sk-estimator-id-1\" type=\"checkbox\" ><label for=\"sk-estimator-id-1\" class=\"sk-toggleable__label sk-toggleable__label-arrow\">Pipeline</label><div class=\"sk-toggleable__content\"><pre>Pipeline(steps=[(&#x27;standardscaler&#x27;, StandardScaler()),\n",
       "                (&#x27;logisticregression&#x27;,\n",
       "                 LogisticRegression(max_iter=1000000000.0))])</pre></div></div></div><div class=\"sk-serial\"><div class=\"sk-item\"><div class=\"sk-estimator sk-toggleable\"><input class=\"sk-toggleable__control sk-hidden--visually\" id=\"sk-estimator-id-2\" type=\"checkbox\" ><label for=\"sk-estimator-id-2\" class=\"sk-toggleable__label sk-toggleable__label-arrow\">StandardScaler</label><div class=\"sk-toggleable__content\"><pre>StandardScaler()</pre></div></div></div><div class=\"sk-item\"><div class=\"sk-estimator sk-toggleable\"><input class=\"sk-toggleable__control sk-hidden--visually\" id=\"sk-estimator-id-3\" type=\"checkbox\" ><label for=\"sk-estimator-id-3\" class=\"sk-toggleable__label sk-toggleable__label-arrow\">LogisticRegression</label><div class=\"sk-toggleable__content\"><pre>LogisticRegression(max_iter=1000000000.0)</pre></div></div></div></div></div></div></div>"
      ],
      "text/plain": [
       "Pipeline(steps=[('standardscaler', StandardScaler()),\n",
       "                ('logisticregression',\n",
       "                 LogisticRegression(max_iter=1000000000.0))])"
      ]
     },
     "execution_count": 11,
     "metadata": {},
     "output_type": "execute_result"
    }
   ],
   "source": [
    "logModel = lm.LogisticRegression(max_iter=1e9)\n",
    "logPipe = make_pipeline(StandardScaler(), logModel)\n",
    "logPipe.fit(X,match)"
   ]
  },
  {
   "cell_type": "markdown",
   "id": "9be89e99-53e8-4a66-bcfd-01d4d04631b1",
   "metadata": {},
   "source": [
    "## KNN"
   ]
  },
  {
   "cell_type": "code",
   "execution_count": 12,
   "id": "eeaae2c2-a197-4be1-879d-dae4c408dfc3",
   "metadata": {},
   "outputs": [
    {
     "data": {
      "text/html": [
       "<style>#sk-container-id-2 {color: black;background-color: white;}#sk-container-id-2 pre{padding: 0;}#sk-container-id-2 div.sk-toggleable {background-color: white;}#sk-container-id-2 label.sk-toggleable__label {cursor: pointer;display: block;width: 100%;margin-bottom: 0;padding: 0.3em;box-sizing: border-box;text-align: center;}#sk-container-id-2 label.sk-toggleable__label-arrow:before {content: \"▸\";float: left;margin-right: 0.25em;color: #696969;}#sk-container-id-2 label.sk-toggleable__label-arrow:hover:before {color: black;}#sk-container-id-2 div.sk-estimator:hover label.sk-toggleable__label-arrow:before {color: black;}#sk-container-id-2 div.sk-toggleable__content {max-height: 0;max-width: 0;overflow: hidden;text-align: left;background-color: #f0f8ff;}#sk-container-id-2 div.sk-toggleable__content pre {margin: 0.2em;color: black;border-radius: 0.25em;background-color: #f0f8ff;}#sk-container-id-2 input.sk-toggleable__control:checked~div.sk-toggleable__content {max-height: 200px;max-width: 100%;overflow: auto;}#sk-container-id-2 input.sk-toggleable__control:checked~label.sk-toggleable__label-arrow:before {content: \"▾\";}#sk-container-id-2 div.sk-estimator input.sk-toggleable__control:checked~label.sk-toggleable__label {background-color: #d4ebff;}#sk-container-id-2 div.sk-label input.sk-toggleable__control:checked~label.sk-toggleable__label {background-color: #d4ebff;}#sk-container-id-2 input.sk-hidden--visually {border: 0;clip: rect(1px 1px 1px 1px);clip: rect(1px, 1px, 1px, 1px);height: 1px;margin: -1px;overflow: hidden;padding: 0;position: absolute;width: 1px;}#sk-container-id-2 div.sk-estimator {font-family: monospace;background-color: #f0f8ff;border: 1px dotted black;border-radius: 0.25em;box-sizing: border-box;margin-bottom: 0.5em;}#sk-container-id-2 div.sk-estimator:hover {background-color: #d4ebff;}#sk-container-id-2 div.sk-parallel-item::after {content: \"\";width: 100%;border-bottom: 1px solid gray;flex-grow: 1;}#sk-container-id-2 div.sk-label:hover label.sk-toggleable__label {background-color: #d4ebff;}#sk-container-id-2 div.sk-serial::before {content: \"\";position: absolute;border-left: 1px solid gray;box-sizing: border-box;top: 0;bottom: 0;left: 50%;z-index: 0;}#sk-container-id-2 div.sk-serial {display: flex;flex-direction: column;align-items: center;background-color: white;padding-right: 0.2em;padding-left: 0.2em;position: relative;}#sk-container-id-2 div.sk-item {position: relative;z-index: 1;}#sk-container-id-2 div.sk-parallel {display: flex;align-items: stretch;justify-content: center;background-color: white;position: relative;}#sk-container-id-2 div.sk-item::before, #sk-container-id-2 div.sk-parallel-item::before {content: \"\";position: absolute;border-left: 1px solid gray;box-sizing: border-box;top: 0;bottom: 0;left: 50%;z-index: -1;}#sk-container-id-2 div.sk-parallel-item {display: flex;flex-direction: column;z-index: 1;position: relative;background-color: white;}#sk-container-id-2 div.sk-parallel-item:first-child::after {align-self: flex-end;width: 50%;}#sk-container-id-2 div.sk-parallel-item:last-child::after {align-self: flex-start;width: 50%;}#sk-container-id-2 div.sk-parallel-item:only-child::after {width: 0;}#sk-container-id-2 div.sk-dashed-wrapped {border: 1px dashed gray;margin: 0 0.4em 0.5em 0.4em;box-sizing: border-box;padding-bottom: 0.4em;background-color: white;}#sk-container-id-2 div.sk-label label {font-family: monospace;font-weight: bold;display: inline-block;line-height: 1.2em;}#sk-container-id-2 div.sk-label-container {text-align: center;}#sk-container-id-2 div.sk-container {/* jupyter's `normalize.less` sets `[hidden] { display: none; }` but bootstrap.min.css set `[hidden] { display: none !important; }` so we also need the `!important` here to be able to override the default hidden behavior on the sphinx rendered scikit-learn.org. See: https://github.com/scikit-learn/scikit-learn/issues/21755 */display: inline-block !important;position: relative;}#sk-container-id-2 div.sk-text-repr-fallback {display: none;}</style><div id=\"sk-container-id-2\" class=\"sk-top-container\"><div class=\"sk-text-repr-fallback\"><pre>KNeighborsClassifier(n_neighbors=81)</pre><b>In a Jupyter environment, please rerun this cell to show the HTML representation or trust the notebook. <br />On GitHub, the HTML representation is unable to render, please try loading this page with nbviewer.org.</b></div><div class=\"sk-container\" hidden><div class=\"sk-item\"><div class=\"sk-estimator sk-toggleable\"><input class=\"sk-toggleable__control sk-hidden--visually\" id=\"sk-estimator-id-4\" type=\"checkbox\" checked><label for=\"sk-estimator-id-4\" class=\"sk-toggleable__label sk-toggleable__label-arrow\">KNeighborsClassifier</label><div class=\"sk-toggleable__content\"><pre>KNeighborsClassifier(n_neighbors=81)</pre></div></div></div></div></div>"
      ],
      "text/plain": [
       "KNeighborsClassifier(n_neighbors=81)"
      ]
     },
     "execution_count": 12,
     "metadata": {},
     "output_type": "execute_result"
    }
   ],
   "source": [
    "knn5 = knn(n_neighbors=5)\n",
    "knnsqrtn = knn(n_neighbors=sqrtn)\n",
    "knn5.fit(X,match)\n",
    "knnsqrtn.fit(X,match)"
   ]
  },
  {
   "cell_type": "markdown",
   "id": "767c1e00-aac9-487b-92b6-b0766b1ab8b9",
   "metadata": {},
   "source": [
    "## Boosting"
   ]
  },
  {
   "cell_type": "code",
   "execution_count": 13,
   "id": "fa52d8bd-bca9-4366-91c9-6ae12753e58b",
   "metadata": {},
   "outputs": [
    {
     "data": {
      "text/html": [
       "<style>#sk-container-id-3 {color: black;background-color: white;}#sk-container-id-3 pre{padding: 0;}#sk-container-id-3 div.sk-toggleable {background-color: white;}#sk-container-id-3 label.sk-toggleable__label {cursor: pointer;display: block;width: 100%;margin-bottom: 0;padding: 0.3em;box-sizing: border-box;text-align: center;}#sk-container-id-3 label.sk-toggleable__label-arrow:before {content: \"▸\";float: left;margin-right: 0.25em;color: #696969;}#sk-container-id-3 label.sk-toggleable__label-arrow:hover:before {color: black;}#sk-container-id-3 div.sk-estimator:hover label.sk-toggleable__label-arrow:before {color: black;}#sk-container-id-3 div.sk-toggleable__content {max-height: 0;max-width: 0;overflow: hidden;text-align: left;background-color: #f0f8ff;}#sk-container-id-3 div.sk-toggleable__content pre {margin: 0.2em;color: black;border-radius: 0.25em;background-color: #f0f8ff;}#sk-container-id-3 input.sk-toggleable__control:checked~div.sk-toggleable__content {max-height: 200px;max-width: 100%;overflow: auto;}#sk-container-id-3 input.sk-toggleable__control:checked~label.sk-toggleable__label-arrow:before {content: \"▾\";}#sk-container-id-3 div.sk-estimator input.sk-toggleable__control:checked~label.sk-toggleable__label {background-color: #d4ebff;}#sk-container-id-3 div.sk-label input.sk-toggleable__control:checked~label.sk-toggleable__label {background-color: #d4ebff;}#sk-container-id-3 input.sk-hidden--visually {border: 0;clip: rect(1px 1px 1px 1px);clip: rect(1px, 1px, 1px, 1px);height: 1px;margin: -1px;overflow: hidden;padding: 0;position: absolute;width: 1px;}#sk-container-id-3 div.sk-estimator {font-family: monospace;background-color: #f0f8ff;border: 1px dotted black;border-radius: 0.25em;box-sizing: border-box;margin-bottom: 0.5em;}#sk-container-id-3 div.sk-estimator:hover {background-color: #d4ebff;}#sk-container-id-3 div.sk-parallel-item::after {content: \"\";width: 100%;border-bottom: 1px solid gray;flex-grow: 1;}#sk-container-id-3 div.sk-label:hover label.sk-toggleable__label {background-color: #d4ebff;}#sk-container-id-3 div.sk-serial::before {content: \"\";position: absolute;border-left: 1px solid gray;box-sizing: border-box;top: 0;bottom: 0;left: 50%;z-index: 0;}#sk-container-id-3 div.sk-serial {display: flex;flex-direction: column;align-items: center;background-color: white;padding-right: 0.2em;padding-left: 0.2em;position: relative;}#sk-container-id-3 div.sk-item {position: relative;z-index: 1;}#sk-container-id-3 div.sk-parallel {display: flex;align-items: stretch;justify-content: center;background-color: white;position: relative;}#sk-container-id-3 div.sk-item::before, #sk-container-id-3 div.sk-parallel-item::before {content: \"\";position: absolute;border-left: 1px solid gray;box-sizing: border-box;top: 0;bottom: 0;left: 50%;z-index: -1;}#sk-container-id-3 div.sk-parallel-item {display: flex;flex-direction: column;z-index: 1;position: relative;background-color: white;}#sk-container-id-3 div.sk-parallel-item:first-child::after {align-self: flex-end;width: 50%;}#sk-container-id-3 div.sk-parallel-item:last-child::after {align-self: flex-start;width: 50%;}#sk-container-id-3 div.sk-parallel-item:only-child::after {width: 0;}#sk-container-id-3 div.sk-dashed-wrapped {border: 1px dashed gray;margin: 0 0.4em 0.5em 0.4em;box-sizing: border-box;padding-bottom: 0.4em;background-color: white;}#sk-container-id-3 div.sk-label label {font-family: monospace;font-weight: bold;display: inline-block;line-height: 1.2em;}#sk-container-id-3 div.sk-label-container {text-align: center;}#sk-container-id-3 div.sk-container {/* jupyter's `normalize.less` sets `[hidden] { display: none; }` but bootstrap.min.css set `[hidden] { display: none !important; }` so we also need the `!important` here to be able to override the default hidden behavior on the sphinx rendered scikit-learn.org. See: https://github.com/scikit-learn/scikit-learn/issues/21755 */display: inline-block !important;position: relative;}#sk-container-id-3 div.sk-text-repr-fallback {display: none;}</style><div id=\"sk-container-id-3\" class=\"sk-top-container\"><div class=\"sk-text-repr-fallback\"><pre>GradientBoostingClassifier(learning_rate=10)</pre><b>In a Jupyter environment, please rerun this cell to show the HTML representation or trust the notebook. <br />On GitHub, the HTML representation is unable to render, please try loading this page with nbviewer.org.</b></div><div class=\"sk-container\" hidden><div class=\"sk-item\"><div class=\"sk-estimator sk-toggleable\"><input class=\"sk-toggleable__control sk-hidden--visually\" id=\"sk-estimator-id-5\" type=\"checkbox\" checked><label for=\"sk-estimator-id-5\" class=\"sk-toggleable__label sk-toggleable__label-arrow\">GradientBoostingClassifier</label><div class=\"sk-toggleable__content\"><pre>GradientBoostingClassifier(learning_rate=10)</pre></div></div></div></div></div>"
      ],
      "text/plain": [
       "GradientBoostingClassifier(learning_rate=10)"
      ]
     },
     "execution_count": 13,
     "metadata": {},
     "output_type": "execute_result"
    }
   ],
   "source": [
    "gradientdeci = grad(learning_rate=0.1)\n",
    "gradientdeka = grad(learning_rate=10)\n",
    "\n",
    "gradientdeci.fit(X,match)\n",
    "gradientdeka.fit(X,match)"
   ]
  },
  {
   "cell_type": "markdown",
   "id": "b6304b01-3857-4bd0-ae45-1d9831a1d334",
   "metadata": {},
   "source": [
    "## Random Forest Classifier"
   ]
  },
  {
   "cell_type": "code",
   "execution_count": 14,
   "id": "78ec3947-934b-42ae-a30b-99d4b32d7fa0",
   "metadata": {},
   "outputs": [
    {
     "name": "stdout",
     "output_type": "stream",
     "text": [
      "sqrt(nFeatures) ~ 13\n",
      "log2(nFeatures) ~ 7\n",
      "thirdGeometricTerm ~ 24\n",
      "recall params:\n",
      "{'criterion': 'gini', 'max_depth': 24, 'max_features': 24, 'n_estimators': 100}\n",
      "precision params:\n",
      "{'criterion': 'log_loss', 'max_depth': 13, 'max_features': 7, 'n_estimators': 300}\n"
     ]
    }
   ],
   "source": [
    "if exists(\"../data/processedData/forestParams.json\"):\n",
    "    with open('../data/processedData/forestParams.json') as d:\n",
    "        forestParams = json.load(d)\n",
    "        preciseForestParams = forestParams[\"preciseForestParams\"]\n",
    "        recallForestParams = forestParams[\"recallForestParams\"]\n",
    "else:\n",
    "    print(f\"sqrt(nFeatures) ~ {sqrtfeatures}\")\n",
    "    print(f\"log2(nFeatures) ~ {log2features}\")\n",
    "    print(f\"thirdGeometricTerm ~ {thirdGeometricTerm}\")\n",
    "    searchParams = {\n",
    "        \"criterion\": [\"gini\",\"entropy\",\"log_loss\"],\n",
    "        \"n_estimators\": [100,200,300],\n",
    "        \"max_depth\":[sqrtfeatures,log2features,thirdGeometricTerm],\n",
    "        \"max_features\":[sqrtfeatures,log2features,thirdGeometricTerm]\n",
    "    }\n",
    "\n",
    "    preciseForest0 = rf()\n",
    "    recallForest0 = rf()\n",
    "    \n",
    "    recallForestGrid = ms.GridSearchCV(recallForest0, param_grid=searchParams, scoring='recall',n_jobs=9)\n",
    "    recallForestGrid.fit(X,match)\n",
    "    recallForestParams = recallForestGrid.best_params_\n",
    "    print(\"recall params:\")\n",
    "    print(recallForestParams)\n",
    "\n",
    "    for key in searchParams.keys():\n",
    "        searchParams[key] = [val for val in searchParams[key] if val != recallForestParams[key]]\n",
    "\n",
    "    preciseForestGrid = ms.GridSearchCV(preciseForest0, param_grid=searchParams, scoring='precision',n_jobs=9)\n",
    "    preciseForestGrid.fit(X,match)\n",
    "    preciseForestParams = preciseForestGrid.best_params_\n",
    "    print(\"precision params:\")\n",
    "    print(preciseForestParams)\n",
    "\n",
    "\n",
    "    forestParams = {\n",
    "        \"preciseForestParams\": preciseForestParams,\n",
    "        \"recallForestParams\": recallForestParams\n",
    "    }\n",
    "    with open(\"../data/processedData/forestParams.json\", 'w') as fp:\n",
    "        json.dump(forestParams, fp)\n",
    "    \n",
    "if exists(\"../data/processedData/forestParams.json\"):\n",
    "    preciseForest = rf(n_estimators = preciseForestParams[\"n_estimators\"],\n",
    "                    criterion = preciseForestParams[\"criterion\"],\n",
    "                    max_depth = preciseForestParams[\"max_depth\"],\n",
    "                    max_features = preciseForestParams[\"max_features\"])\n",
    "    recallForest = rf(n_estimators = recallForestParams[\"n_estimators\"],\n",
    "                    criterion = recallForestParams[\"criterion\"],\n",
    "                    max_depth = recallForestParams[\"max_depth\"],\n",
    "                    max_features = recallForestParams[\"max_features\"])\n",
    "\n",
    "    preciseForest.fit(X,match)\n",
    "    recallForest.fit(X,match)"
   ]
  },
  {
   "cell_type": "markdown",
   "id": "d67b7521-ae27-4bc6-927a-bebc5afa9385",
   "metadata": {},
   "source": [
    "# Top 10 Feature Importances"
   ]
  },
  {
   "cell_type": "code",
   "execution_count": 15,
   "id": "3f0c9389-fc66-43c4-8147-2f810bc0417b",
   "metadata": {},
   "outputs": [],
   "source": [
    "XColumns = list(X.columns)"
   ]
  },
  {
   "cell_type": "markdown",
   "id": "6ff56188-6bf0-4303-8140-d5c357b3c832",
   "metadata": {},
   "source": [
    "## Logistic Regression"
   ]
  },
  {
   "cell_type": "code",
   "execution_count": 16,
   "id": "0d7b5cd9-6b50-4e37-a180-fcffa3af0a86",
   "metadata": {},
   "outputs": [
    {
     "name": "stdout",
     "output_type": "stream",
     "text": [
      "logistic regression top 10 feature importances\n",
      "Rank 0: pf_o_att: score: -0.34382742479413164\n",
      "Rank 1: match_es_o: score: 0.3050481776209463\n",
      "Rank 2: field_cd_nan: score: -0.3005992400335028\n",
      "Rank 3: race_o_2.0: score: -0.29062428110539157\n",
      "Rank 4: match_es: score: 0.2831234499996134\n",
      "Rank 5: race_2.0: score: -0.2643145209381777\n",
      "Rank 6: race_nan: score: 0.25219727286491816\n",
      "Rank 7: attr1_1: score: -0.2512990385616912\n",
      "Rank 8: pf_o_fun: score: 0.24522311139339745\n",
      "Rank 9: race_o_4.0: score: -0.23179805769126866\n"
     ]
    }
   ],
   "source": [
    "coefficients = [coef for coef in logPipe.named_steps['logisticregression'].coef_.reshape(-1,)]\n",
    "absCoefficients = [absCoef for absCoef in np.abs(np.array(coefficients))]\n",
    "\n",
    "logImportances = pd.DataFrame({\n",
    "    \"feature\": XColumns,\n",
    "    \"coefficients\": coefficients,\n",
    "    \"absCoefficients\": absCoefficients},columns = [\"feature\",\"coefficients\",\"absCoefficients\"])\n",
    "logImportancesSorted = logImportances.sort_values(by=\"absCoefficients\", ascending=False)\n",
    "print(f'logistic regression top 10 feature importances')\n",
    "for i in range(10):\n",
    "    featureRow = logImportancesSorted.iloc[i]\n",
    "    feature = featureRow['feature']\n",
    "    featureValue = featureRow['coefficients']\n",
    "    print(f'Rank {i}: {feature}: score: {featureValue}')"
   ]
  },
  {
   "cell_type": "markdown",
   "id": "25e7d40c-18da-4212-9b76-e0a6234ec217",
   "metadata": {},
   "source": [
    "## KNN focuses on nearest neighbors, not on specific features"
   ]
  },
  {
   "cell_type": "markdown",
   "id": "e57094aa-a7e8-4e93-b9e6-cf907e6792dc",
   "metadata": {},
   "source": [
    "## Gradient Boosting & Random Forest Classifier"
   ]
  },
  {
   "cell_type": "code",
   "execution_count": 17,
   "id": "9ec5f9e2-be43-4967-b461-c44109712eea",
   "metadata": {},
   "outputs": [
    {
     "name": "stdout",
     "output_type": "stream",
     "text": [
      "gradientdeci top 10 feature importances\n",
      "Rank 0: match_es: score: 0.09584576370771493\n",
      "Rank 1: match_es_o: score: 0.0929749962214017\n",
      "Rank 2: shar1_1: score: 0.03700506815830845\n",
      "Rank 3: shar1_1_o: score: 0.03671792478533394\n",
      "Rank 4: lats_o: score: 0.026205447623322855\n",
      "Rank 5: order_o: score: 0.02535045482310188\n",
      "Rank 6: fun5_1_o: score: 0.02117978168104133\n",
      "Rank 7: attr1_1: score: 0.01935798140590371\n",
      "Rank 8: fun3_1_o: score: 0.01930718057360298\n",
      "Rank 9: partnerDistance: score: 0.019252067999163097\n",
      "\n",
      "\n",
      "gradientdeka top 10 feature importances\n",
      "Rank 0: match_es: score: 0.38002011698990834\n",
      "Rank 1: shar1_1_o: score: 0.33251084324151564\n",
      "Rank 2: match_es_o: score: 0.2824233925012947\n",
      "Rank 3: sinc4_1: score: 0.0026370402351203843\n",
      "Rank 4: partnerDistance: score: 0.0017485013455022266\n",
      "Rank 5: expnum_o: score: 0.0002775830625245308\n",
      "Rank 6: intel5_1: score: 0.00013590154729871222\n",
      "Rank 7: fun3_1_o: score: 0.00013147761717434092\n",
      "Rank 8: pf_o_att: score: 8.227757012498585e-05\n",
      "Rank 9: order_o: score: 2.328497548875415e-05\n",
      "\n",
      "\n",
      "preciseForest top 10 feature importances\n",
      "Rank 0: match_es_o: score: 0.021123269758830755\n",
      "Rank 1: match_es: score: 0.018602006990815614\n",
      "Rank 2: shar1_1: score: 0.013996035995200046\n",
      "Rank 3: partnerDistance: score: 0.013181339792354594\n",
      "Rank 4: lats: score: 0.013117299132652738\n",
      "Rank 5: intel1_1: score: 0.012433072816205613\n",
      "Rank 6: shar1_1_o: score: 0.012389641047551657\n",
      "Rank 7: fun1_1: score: 0.012380976084589896\n",
      "Rank 8: intel3_1_o: score: 0.012271877780855135\n",
      "Rank 9: attr3_1: score: 0.012114466934314342\n",
      "\n",
      "\n",
      "recallForest top 10 feature importances\n",
      "Rank 0: match_es: score: 0.019348273878935174\n",
      "Rank 1: match_es_o: score: 0.019341423061507445\n",
      "Rank 2: partnerDistance: score: 0.01670895429620116\n",
      "Rank 3: shar1_1_o: score: 0.015232035462215444\n",
      "Rank 4: order_o: score: 0.014582685095653233\n",
      "Rank 5: lats: score: 0.014031061133348455\n",
      "Rank 6: shar1_1: score: 0.01322790279303898\n",
      "Rank 7: lats_o: score: 0.013220360631774501\n",
      "Rank 8: intel2_1: score: 0.013118167508172518\n",
      "Rank 9: sinc3_1_o: score: 0.013085234727547851\n",
      "\n",
      "\n"
     ]
    }
   ],
   "source": [
    "models = [gradientdeci,gradientdeka,preciseForest,recallForest]\n",
    "modelNames = [\"gradientdeci\",\"gradientdeka\",\"preciseForest\",\"recallForest\"]\n",
    "\n",
    "for i in range(4):\n",
    "    util.displayFeatureImportances(XColumns,models[i],modelNames[i])"
   ]
  },
  {
   "cell_type": "markdown",
   "id": "55e0d71d-dbd6-4075-8f9e-fc57118d0ee4",
   "metadata": {},
   "source": [
    "# Individual Testing"
   ]
  },
  {
   "cell_type": "code",
   "execution_count": 18,
   "id": "e2c8f07d-229a-42d4-b80c-fdc367a5b9c8",
   "metadata": {},
   "outputs": [
    {
     "name": "stderr",
     "output_type": "stream",
     "text": [
      "../util/util.py:65: SettingWithCopyWarning: \n",
      "A value is trying to be set on a copy of a slice from a DataFrame.\n",
      "Try using .loc[row_indexer,col_indexer] = value instead\n",
      "\n",
      "See the caveats in the documentation: https://pandas.pydata.org/pandas-docs/stable/user_guide/indexing.html#returning-a-view-versus-a-copy\n",
      "  partner_o['iid_o'] = partner_o['iid']\n",
      "../util/util.py:66: SettingWithCopyWarning: \n",
      "A value is trying to be set on a copy of a slice from a DataFrame.\n",
      "Try using .loc[row_indexer,col_indexer] = value instead\n",
      "\n",
      "See the caveats in the documentation: https://pandas.pydata.org/pandas-docs/stable/user_guide/indexing.html#returning-a-view-versus-a-copy\n",
      "  partner_o['pid_o'] = partner_o['pid']\n"
     ]
    },
    {
     "name": "stdout",
     "output_type": "stream",
     "text": [
      "21:46:24\n",
      "1675 of 1676: 99.94033412887828% complete\n",
      "1.9689737470167064% of data is None\n"
     ]
    }
   ],
   "source": [
    "if (\"iid\" in datingTest.columns) or (\"pid\" in datingTest.columns):\n",
    "    partner = datingFull.copy()\n",
    "    datingTest = util.joinToPartner(datingTest,partner).drop([\"iid\",\"pid\",\"iid_o\",\"pid_o\"],axis=1)\n",
    "\n",
    "if \"partnerDistance\" not in datingTest.columns:\n",
    "    datingTest = util.returnDFWithpartnerDistance(datingTest,\"test\",True)\n",
    "\n",
    "halfwayChangeColumns = [str(col) for col in datingTest.columns if ((\"1_s\" in str(col)) | (\"3_s\" in str(col)))]\n",
    "\n",
    "if(len(halfwayChangeColumns) > 0):\n",
    "    datingTest = util.fixAmbiguousScores(datingTest)\n",
    "    util.halfwayQuestionSanityTest(datingTest,\" post-fixAmbiguousScores and pre-saving\")\n",
    "\n",
    "datingTestNumerical = datingTest.select_dtypes(include=['uint8','int64','float64']).drop(\"match\",axis=1)\n",
    "matchTest = datingTest[\"match\"]\n",
    "XTest = util.replaceNansWithTrainingDataValues(datingTestNumerical)"
   ]
  },
  {
   "cell_type": "markdown",
   "id": "a0e41fa1-50ce-4fd6-85b3-c9ec47b37a53",
   "metadata": {},
   "source": [
    "## Logistic Regression"
   ]
  },
  {
   "cell_type": "code",
   "execution_count": 19,
   "id": "a6de6d4f-9cf1-4fe1-a8a4-7518399c3729",
   "metadata": {},
   "outputs": [
    {
     "name": "stdout",
     "output_type": "stream",
     "text": [
      "logPipe accuracy score: 0.837708830548926\n",
      "logPipe recall score: 0.07720588235294118\n",
      "logPipe precision score: 0.5\n"
     ]
    }
   ],
   "source": [
    "yPredict = logPipe.predict(XTest)\n",
    "util.displayMetricScores(matchTest,yPredict,\"logPipe\")"
   ]
  },
  {
   "cell_type": "markdown",
   "id": "7fe7aec2-8e5e-4b55-8feb-c22af75e031d",
   "metadata": {},
   "source": [
    "## KNN"
   ]
  },
  {
   "cell_type": "code",
   "execution_count": 20,
   "id": "740813a8-47bd-4aac-aa99-33e740762a82",
   "metadata": {},
   "outputs": [
    {
     "name": "stdout",
     "output_type": "stream",
     "text": [
      "knn5 accuracy score: 0.8198090692124105\n",
      "knn5 recall score: 0.125\n",
      "knn5 precision score: 0.3469387755102041\n",
      "knnsqrtn accuracy score: 0.837708830548926\n",
      "knnsqrtn recall score: 0.0\n",
      "knnsqrtn precision score: 0.0\n"
     ]
    },
    {
     "name": "stderr",
     "output_type": "stream",
     "text": [
      "/Users/garysimmons/opt/anaconda3/lib/python3.8/site-packages/sklearn/metrics/_classification.py:1334: UndefinedMetricWarning: Precision is ill-defined and being set to 0.0 due to no predicted samples. Use `zero_division` parameter to control this behavior.\n",
      "  _warn_prf(average, modifier, msg_start, len(result))\n"
     ]
    }
   ],
   "source": [
    "yPredict = knn5.predict(XTest)\n",
    "util.displayMetricScores(matchTest,yPredict,\"knn5\")\n",
    "yPredict = knnsqrtn.predict(XTest)\n",
    "util.displayMetricScores(matchTest,yPredict,\"knnsqrtn\")"
   ]
  },
  {
   "cell_type": "markdown",
   "id": "2830fb95-9857-4d16-b538-62c025b07b47",
   "metadata": {},
   "source": [
    "## Boosting"
   ]
  },
  {
   "cell_type": "code",
   "execution_count": 21,
   "id": "a381d498-e009-4abb-b879-0464d405650b",
   "metadata": {},
   "outputs": [
    {
     "name": "stdout",
     "output_type": "stream",
     "text": [
      "gradientdeci accuracy score: 0.844272076372315\n",
      "gradientdeci recall score: 0.07352941176470588\n",
      "gradientdeci precision score: 0.6896551724137931\n",
      "gradientdeka accuracy score: 0.752983293556086\n",
      "gradientdeka recall score: 0.23161764705882354\n",
      "gradientdeka precision score: 0.23507462686567165\n"
     ]
    }
   ],
   "source": [
    "yPredict = gradientdeci.predict(XTest)\n",
    "util.displayMetricScores(matchTest,yPredict,\"gradientdeci\")\n",
    "yPredict = gradientdeka.predict(XTest)\n",
    "util.displayMetricScores(matchTest,yPredict,\"gradientdeka\")"
   ]
  },
  {
   "cell_type": "markdown",
   "id": "24d72fb6-44f4-4e30-8e43-02c8133a28c0",
   "metadata": {},
   "source": [
    "## Random Forest Classifier"
   ]
  },
  {
   "cell_type": "code",
   "execution_count": 22,
   "id": "7861a9a7-c1a2-47b5-af90-d3e1a928512a",
   "metadata": {},
   "outputs": [
    {
     "name": "stdout",
     "output_type": "stream",
     "text": [
      "preciseForest accuracy score: 0.8400954653937948\n",
      "preciseForest recall score: 0.014705882352941176\n",
      "preciseForest precision score: 1.0\n",
      "recallForest accuracy score: 0.837708830548926\n",
      "recallForest recall score: 0.051470588235294115\n",
      "recallForest precision score: 0.5\n"
     ]
    }
   ],
   "source": [
    "yPredict = preciseForest.predict(XTest)\n",
    "util.displayMetricScores(matchTest,yPredict,\"preciseForest\")\n",
    "yPredict = recallForest.predict(XTest)\n",
    "util.displayMetricScores(matchTest,yPredict,\"recallForest\")"
   ]
  },
  {
   "cell_type": "markdown",
   "id": "87fa7875-d2a8-4e24-aa49-25d005b1e8a5",
   "metadata": {},
   "source": [
    "# Ensemble Testing"
   ]
  },
  {
   "cell_type": "code",
   "execution_count": 23,
   "id": "ca3242b1-66fa-4d7a-81f7-4555e4431702",
   "metadata": {},
   "outputs": [
    {
     "name": "stdout",
     "output_type": "stream",
     "text": [
      "Ensemble accuracy score: 0.8394988066825776\n",
      "Ensemble recall score: 0.014705882352941176\n",
      "Ensemble precision score: 0.8\n"
     ]
    }
   ],
   "source": [
    "logModel = lm.LogisticRegression(max_iter=1e9)\n",
    "logPipe = make_pipeline(StandardScaler(), logModel)\n",
    "knn5 = knn(n_neighbors=5)\n",
    "knnsqrtn = knn(n_neighbors=sqrtn)\n",
    "gradientdeci = grad(learning_rate=0.1)\n",
    "gradientdeka = grad(learning_rate=10)\n",
    "preciseForest = rf(n_estimators = preciseForestParams[\"n_estimators\"],\n",
    "                    criterion = preciseForestParams[\"criterion\"],\n",
    "                    max_depth = preciseForestParams[\"max_depth\"],\n",
    "                    max_features = preciseForestParams[\"max_features\"])\n",
    "recallForest = rf(n_estimators = recallForestParams[\"n_estimators\"],\n",
    "                  criterion = recallForestParams[\"criterion\"],\n",
    "                  max_depth = recallForestParams[\"max_depth\"],\n",
    "                  max_features = recallForestParams[\"max_features\"])\n",
    "\n",
    "ensembleVote = VotingClassifier(\n",
    "    estimators = [\n",
    "        (\"logModel\",logPipe),\n",
    "        (\"knn5\",knn5),\n",
    "        (\"knnsqrtn\",knnsqrtn),\n",
    "        (\"gradientdeci\",gradientdeci),\n",
    "        (\"gradientdeka\",gradientdeka),\n",
    "        (\"preciseForest\",preciseForest),\n",
    "        (\"recallForest\",recallForest)\n",
    "    ]\n",
    ")\n",
    "\n",
    "ensembleVote.fit(X,match)\n",
    "ensembleDecision = ensembleVote.predict(XTest)\n",
    "util.displayMetricScores(matchTest,ensembleDecision,\"Ensemble\")"
   ]
  }
 ],
 "metadata": {
  "kernelspec": {
   "display_name": "Python 3",
   "language": "python",
   "name": "python3"
  },
  "language_info": {
   "codemirror_mode": {
    "name": "ipython",
    "version": 3
   },
   "file_extension": ".py",
   "mimetype": "text/x-python",
   "name": "python",
   "nbconvert_exporter": "python",
   "pygments_lexer": "ipython3",
   "version": "3.8.8"
  },
  "widgets": {
   "application/vnd.jupyter.widget-state+json": {
    "state": {},
    "version_major": 2,
    "version_minor": 0
   }
  }
 },
 "nbformat": 4,
 "nbformat_minor": 5
}
