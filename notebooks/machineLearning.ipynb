{
 "cells": [
  {
   "cell_type": "code",
   "execution_count": 1,
   "id": "283e38b5-dbdb-48a3-901b-2d4c6fe803f6",
   "metadata": {},
   "outputs": [
    {
     "data": {
      "application/javascript": [
       "IPython.notebook.set_autosave_interval(5000)"
      ]
     },
     "metadata": {},
     "output_type": "display_data"
    },
    {
     "name": "stdout",
     "output_type": "stream",
     "text": [
      "Autosaving every 5 seconds\n"
     ]
    }
   ],
   "source": [
    "import numpy as np\n",
    "import pandas as pd\n",
    "import matplotlib.pyplot as plt\n",
    "import os\n",
    "from os.path import exists\n",
    "from os import remove\n",
    "import json\n",
    "from sklearn.model_selection import train_test_split\n",
    "import sklearn.model_selection as ms\n",
    "from sklearn.model_selection import cross_validate\n",
    "from sklearn.ensemble import RandomForestRegressor\n",
    "from sklearn import metrics\n",
    "\n",
    "import sys\n",
    "sys.path.insert(0, \"../util/\")\n",
    "import util as util\n",
    "\n",
    "%autosave 5"
   ]
  },
  {
   "cell_type": "markdown",
   "id": "85f53352-c019-4b18-ad90-c9ec7e010d29",
   "metadata": {},
   "source": [
    "# Adding dummies and train-test-split"
   ]
  },
  {
   "cell_type": "code",
   "execution_count": 2,
   "id": "1f609dd8-54ac-4fdf-929d-1c6870d95fa6",
   "metadata": {},
   "outputs": [],
   "source": [
    "datingTrainWithDummiesExists = exists('../data/datingTrainWithDummies.csv')\n",
    "datingTestWithDummiesExists = exists('../data/datingTestWithDummies.csv')\n",
    "datingTrainWithoutDummiesExists = exists('../data/datingTrainWithoutDummies.csv')\n",
    "datingTestWithoutDummiesExists = exists('../data/datingTestWithoutDummies.csv')\n",
    "datingFullWithDummiesExists = exists('../data/datingFullWithDummies.csv')\n",
    "datingFullWithoutDummiesExists = exists('../data/datingFullWithoutDummies.csv')\n",
    "\n",
    "relatedDummiesDictionaryExists = exists('../data/relatedDummiesDictionary.json')"
   ]
  },
  {
   "cell_type": "code",
   "execution_count": 3,
   "id": "6bdd5e57-935f-47f6-baa4-506a1ec62765",
   "metadata": {},
   "outputs": [],
   "source": [
    "with open('../data/columnDataDictionary.json') as d:\n",
    "    columnDataDictionary = json.load(d)\n",
    "columnList = columnDataDictionary['columnList']\n",
    "nonBinaryCategoricalList = columnDataDictionary['nonBinaryCategoricalList']\n",
    "stringToFloatList = columnDataDictionary['stringToFloatList']\n",
    "pointDistributionList = columnDataDictionary['pointDistributionList']\n",
    "partnerList = columnDataDictionary['partnerList']"
   ]
  },
  {
   "cell_type": "code",
   "execution_count": 4,
   "id": "8c38d144-9101-4d6a-802b-192a9d08ac73",
   "metadata": {},
   "outputs": [
    {
     "name": "stdout",
     "output_type": "stream",
     "text": [
      "Traceback (most recent call last):\n",
      "  File \"/Users/garysimmons/opt/anaconda3/bin/jupyter-nbconvert\", line 11, in <module>\n",
      "    sys.exit(main())\n",
      "  File \"/Users/garysimmons/opt/anaconda3/lib/python3.8/site-packages/jupyter_core/application.py\", line 254, in launch_instance\n",
      "    return super(JupyterApp, cls).launch_instance(argv=argv, **kwargs)\n",
      "  File \"/Users/garysimmons/opt/anaconda3/lib/python3.8/site-packages/traitlets/config/application.py\", line 845, in launch_instance\n",
      "    app.start()\n",
      "  File \"/Users/garysimmons/opt/anaconda3/lib/python3.8/site-packages/nbconvert/nbconvertapp.py\", line 350, in start\n",
      "    self.convert_notebooks()\n",
      "  File \"/Users/garysimmons/opt/anaconda3/lib/python3.8/site-packages/nbconvert/nbconvertapp.py\", line 512, in convert_notebooks\n",
      "    raise ValueError(\n",
      "ValueError: Please specify an output format with '--to <format>'.\n",
      "The following formats are available: ['asciidoc', 'custom', 'html', 'latex', 'markdown', 'notebook', 'pdf', 'python', 'rst', 'script', 'slides', 'webpdf']\n"
     ]
    },
    {
     "name": "stderr",
     "output_type": "stream",
     "text": [
      "<ipython-input-4-8301f418b92c>:43: SettingWithCopyWarning: \n",
      "A value is trying to be set on a copy of a slice from a DataFrame.\n",
      "Try using .loc[row_indexer,col_indexer] = value instead\n",
      "\n",
      "See the caveats in the documentation: https://pandas.pydata.org/pandas-docs/stable/user_guide/indexing.html#returning-a-view-versus-a-copy\n",
      "  blindDateData[col] = blindDateData[col].str.replace(',', '').astype(float)\n",
      "<ipython-input-4-8301f418b92c>:44: SettingWithCopyWarning: \n",
      "A value is trying to be set on a copy of a slice from a DataFrame.\n",
      "Try using .loc[row_indexer,col_indexer] = value instead\n",
      "\n",
      "See the caveats in the documentation: https://pandas.pydata.org/pandas-docs/stable/user_guide/indexing.html#returning-a-view-versus-a-copy\n",
      "  blindDateData['zipcode'] = blindDateData['zipcode'].str.replace(',', '')\n",
      "<ipython-input-4-8301f418b92c>:46: SettingWithCopyWarning: \n",
      "A value is trying to be set on a copy of a slice from a DataFrame.\n",
      "Try using .loc[row_indexer,col_indexer] = value instead\n",
      "\n",
      "See the caveats in the documentation: https://pandas.pydata.org/pandas-docs/stable/user_guide/indexing.html#returning-a-view-versus-a-copy\n",
      "  blindDateData[col] = blindDateData[col].apply(str)\n",
      "<ipython-input-4-8301f418b92c>:50: SettingWithCopyWarning: \n",
      "A value is trying to be set on a copy of a slice from a DataFrame.\n",
      "Try using .loc[row_indexer,col_indexer] = value instead\n",
      "\n",
      "See the caveats in the documentation: https://pandas.pydata.org/pandas-docs/stable/user_guide/indexing.html#returning-a-view-versus-a-copy\n",
      "  blindDateData[col]=blindDateData[col].fillna('nan')\n",
      "<ipython-input-4-8301f418b92c>:83: SettingWithCopyWarning: \n",
      "A value is trying to be set on a copy of a slice from a DataFrame.\n",
      "Try using .loc[row_indexer,col_indexer] = value instead\n",
      "\n",
      "See the caveats in the documentation: https://pandas.pydata.org/pandas-docs/stable/user_guide/indexing.html#returning-a-view-versus-a-copy\n",
      "  maleTrainWithDummies['dec_o'] = femaleChoiceTrain\n",
      "<ipython-input-4-8301f418b92c>:84: SettingWithCopyWarning: \n",
      "A value is trying to be set on a copy of a slice from a DataFrame.\n",
      "Try using .loc[row_indexer,col_indexer] = value instead\n",
      "\n",
      "See the caveats in the documentation: https://pandas.pydata.org/pandas-docs/stable/user_guide/indexing.html#returning-a-view-versus-a-copy\n",
      "  maleTestWithDummies['dec_o'] = femaleChoiceTest\n",
      "<ipython-input-4-8301f418b92c>:85: SettingWithCopyWarning: \n",
      "A value is trying to be set on a copy of a slice from a DataFrame.\n",
      "Try using .loc[row_indexer,col_indexer] = value instead\n",
      "\n",
      "See the caveats in the documentation: https://pandas.pydata.org/pandas-docs/stable/user_guide/indexing.html#returning-a-view-versus-a-copy\n",
      "  femaleTrainWithDummies['dec_o'] = maleChoiceTrain\n",
      "<ipython-input-4-8301f418b92c>:86: SettingWithCopyWarning: \n",
      "A value is trying to be set on a copy of a slice from a DataFrame.\n",
      "Try using .loc[row_indexer,col_indexer] = value instead\n",
      "\n",
      "See the caveats in the documentation: https://pandas.pydata.org/pandas-docs/stable/user_guide/indexing.html#returning-a-view-versus-a-copy\n",
      "  femaleTestWithDummies['dec_o'] = maleChoiceTest\n"
     ]
    }
   ],
   "source": [
    "if (datingTrainWithDummiesExists and datingTestWithDummiesExists and datingFullWithDummiesExists and\n",
    "    datingTrainWithoutDummiesExists and datingTestWithoutDummiesExists and datingFullWithoutDummiesExists and\n",
    "    relatedDummiesDictionaryExists):\n",
    "    datingTrainWithDummies = pd.read_csv('../data/datingTrainWithDummies.csv')\n",
    "    datingTestWithDummies = pd.read_csv('../data/datingTestWithDummies.csv')\n",
    "    datingTrainWithoutDummies = pd.read_csv('../data/datingTrainWithoutDummies.csv')\n",
    "    datingTestWithoutDummies = pd.read_csv('../data/datingTestWithoutDummies.csv')\n",
    "    datingFullWithDummies = pd.read_csv('../data/datingFullWithDummies.csv')\n",
    "    datingFullWithoutDummies = pd.read_csv('../data/datingFullWithoutDummies.csv')\n",
    "    \n",
    "    with open('../data/relatedDummiesDictionary.json') as d:\n",
    "        relatedDummiesDictionary = json.load(d)\n",
    "    for df in [datingTrainWithDummies,datingTestWithDummies,datingFullWithDummies,datingTrainWithoutDummies,datingTestWithoutDummies,datingFullWithoutDummies]:\n",
    "        df['zipcode'] = df['zipcode'].apply(str)\n",
    "        if 'zipcode_o' in list(df.columns):\n",
    "            df['zipcode_o'] = df['zipcode_o'].apply(str)\n",
    "        for col in nonBinaryCategoricalList:\n",
    "            if col in list(df.columns):\n",
    "                df[col] = df[col].apply(str)\n",
    "        \n",
    "else:\n",
    "    if (datingTrainWithDummiesExists):\n",
    "        remove('../data/datingTrainWithDummies.csv')\n",
    "    if (datingTestWithDummiesExists):\n",
    "        remove('../data/datingTestWithDummies.csv')\n",
    "    if (datingTrainWithoutDummiesExists):\n",
    "        remove('../data/datingTrainWithoutDummies.csv')\n",
    "    if (datingTestWithoutDummiesExists):\n",
    "        remove('../data/datingTestWithoutDummies.csv')\n",
    "    if (datingFullWithDummiesExists):\n",
    "        remove('../data/datingFullWithDummies.csv')\n",
    "    if (datingFullWithoutDummiesExists):\n",
    "        remove('../data/datingFullWithoutDummies.csv')\n",
    "    if (relatedDummiesDictionaryExists):\n",
    "        remove('../data/relatedDummiesDictionary.json')\n",
    "    \n",
    "    !jupyter nbconvert --execute eda.ipynb\n",
    "    \n",
    "    datingData = pd.read_csv('../data/encoded-SpeedDatingData.csv')\n",
    "    blindDateData = datingData[columnList]\n",
    "    \n",
    "    for col in stringToFloatList:\n",
    "        blindDateData[col] = blindDateData[col].str.replace(',', '').astype(float)\n",
    "    blindDateData['zipcode'] = blindDateData['zipcode'].str.replace(',', '')\n",
    "    for col in nonBinaryCategoricalList:\n",
    "        blindDateData[col] = blindDateData[col].apply(str)\n",
    "    \n",
    "    blindDateCategoricalData = blindDateData.select_dtypes(include=['O'])\n",
    "    for col in blindDateCategoricalData.columns:\n",
    "        blindDateData[col]=blindDateData[col].fillna('nan')\n",
    "    relatedDummiesDictionary = {}\n",
    "    for col in blindDateCategoricalData.columns:\n",
    "        dummyData = pd.get_dummies(blindDateData[col],prefix=col,drop_first=True)\n",
    "        for dummyCol in dummyData.columns:\n",
    "            relatedDummiesDictionary[str(dummyCol)] = list(dummyData.columns)\n",
    "            if col in partnerList:\n",
    "                partnerList.append(str(dummyCol))\n",
    "        blindDateData = pd.concat([blindDateData,dummyData],axis=1)\n",
    "    with open('../data/relatedDummiesDictionary.json', 'w') as fp:\n",
    "        json.dump(relatedDummiesDictionary, fp)\n",
    "        \n",
    "    partnerList = list(set(partnerList))\n",
    "    columnDataDictionary = {\"columnList\": columnList,\n",
    "                        \"nonBinaryCategoricalList\": nonBinaryCategoricalList,\n",
    "                        \"stringToFloatList\": stringToFloatList,\n",
    "                        \"pointDistributionList\": pointDistributionList,\n",
    "                        \"partnerList\": partnerList}\n",
    "\n",
    "    with open('../data/columnDataDictionary.json', 'w') as fp:\n",
    "            json.dump(columnDataDictionary, fp)\n",
    "    \n",
    "    match = datingFullWithDummies['match']\n",
    "    X = datingFullWithDummies.drop(['match'], axis=1)\n",
    "    \n",
    "    datingTrainWithDummies, datingTestWithDummies, matchTrain, matchTest = train_test_split(X, match, test_size=0.2)\n",
    "    \n",
    "    datingTrainWithDummies['match'] = matchTrain\n",
    "    datingTestWithDummies['match'] = matchTest\n",
    "    \n",
    "    datingTrainWithDummies.to_csv('../data/datingTrainWithDummies.csv',index=False)\n",
    "    datingTestWithDummies.to_csv('../data/datingTestWithDummies.csv',index=False)\n",
    "    datingFullWithDummies.to_csv('../data/datingFullWithDummies.csv',index=False)\n",
    "    \n",
    "    dummyColumns = list(relatedDummiesDictionary.keys())\n",
    "    datingTrainWithoutDummies = datingTrainWithDummies.drop(dummyColumns, axis=1)\n",
    "    datingTestWithoutDummies = datingTestWithDummies.drop(dummyColumns, axis=1)\n",
    "    datingFullWithoutDummies = datingFullWithDummies.drop(dummyColumns, axis=1)\n",
    "    \n",
    "    datingTrainWithoutDummies.to_csv('../data/datingTrainWithoutDummies.csv',index=False)\n",
    "    datingTestWithoutDummies.to_csv('../data/datingTestWithoutDummies.csv',index=False)\n",
    "    datingFullWithoutDummies.to_csv('../data/datingFullWithoutDummies.csv',index=False)"
   ]
  },
  {
   "cell_type": "markdown",
   "id": "67c695ed-1396-49fb-ae29-736e77d59d69",
   "metadata": {},
   "source": [
    "## Data Cleaning"
   ]
  },
  {
   "cell_type": "markdown",
   "id": "1ebd90ed-cccb-437b-a07e-1b153772db7c",
   "metadata": {},
   "source": [
    "### Join partner"
   ]
  },
  {
   "cell_type": "code",
   "execution_count": 5,
   "id": "b3addb68-04fb-4afe-a7c8-dbd8d6825eb6",
   "metadata": {},
   "outputs": [
    {
     "name": "stderr",
     "output_type": "stream",
     "text": [
      "../util/util.py:50: SettingWithCopyWarning: \n",
      "A value is trying to be set on a copy of a slice from a DataFrame.\n",
      "Try using .loc[row_indexer,col_indexer] = value instead\n",
      "\n",
      "See the caveats in the documentation: https://pandas.pydata.org/pandas-docs/stable/user_guide/indexing.html#returning-a-view-versus-a-copy\n",
      "  partner_o['iid_o'] = partner_o['iid']\n",
      "../util/util.py:51: SettingWithCopyWarning: \n",
      "A value is trying to be set on a copy of a slice from a DataFrame.\n",
      "Try using .loc[row_indexer,col_indexer] = value instead\n",
      "\n",
      "See the caveats in the documentation: https://pandas.pydata.org/pandas-docs/stable/user_guide/indexing.html#returning-a-view-versus-a-copy\n",
      "  partner_o['pid_o'] = partner_o['pid']\n"
     ]
    }
   ],
   "source": [
    "for partnerCol in partnerList:\n",
    "    if ((\"_o\" not in str(partnerCol)) and (partnerCol+\"_o\" not in datingTrainWithoutDummies.columns) and (partnerCol+\"_o\" not in datingTrainWithDummies.columns)):\n",
    "        datingTrainWithDummies = util.joinToPartner(datingTrainWithDummies,maleFullWithDummies)\n",
    "        datingTrainWithoutDummies = util.joinToPartner(datingTrainWithoutDummies,maleFullWithoutDummies)\n",
    "        datingTrainWithDummies.to_csv('../data/datingTrainWithDummies.csv',index=False)\n",
    "        datingTrainWithoutDummies.to_csv('../data/datingTrainWithoutDummies.csv',index=False)\n",
    "        break"
   ]
  },
  {
   "cell_type": "markdown",
   "id": "1de70f81-b475-42fe-9dc7-8c107f2d28f8",
   "metadata": {},
   "source": [
    "### Get distance"
   ]
  },
  {
   "cell_type": "code",
   "execution_count": null,
   "id": "dc4da6bb-d52b-4a7f-8ece-fe8de5dcea23",
   "metadata": {},
   "outputs": [
    {
     "name": "stdout",
     "output_type": "stream",
     "text": [
      "13:12:19\n",
      "0 of 3347: 0.0% complete\n",
      "0.0% of data is None\n",
      "13:17:20\n",
      "100 of 3347: 2.987750224081267% complete\n",
      "0.05975500448162534% of data is None\n",
      "13:22:18\n",
      "199 of 3347: 5.945622945921721% complete\n",
      "0.11951000896325067% of data is None\n",
      "13:27:18\n",
      "299 of 3347: 8.933373170002987% complete\n",
      "0.268897520167314% of data is None\n",
      "13:32:19\n",
      "399 of 3347: 11.921123394084255% complete\n",
      "0.3884075291305647% of data is None\n",
      "13:37:19\n",
      "499 of 3347: 14.908873618165522% complete\n",
      "0.44816253361219% of data is None\n",
      "13:42:19\n",
      "598 of 3347: 17.866746340005975% complete\n",
      "0.4780400358530027% of data is None\n",
      "13:47:20\n",
      "698 of 3347: 20.854496564087242% complete\n",
      "0.537795040334628% of data is None\n"
     ]
    }
   ],
   "source": [
    "if ((\"partnerDistance\" not in datingTrainWithoutDummies.columns) or \n",
    "    (\"partnerDistance\" not in datingTrainWithDummies.columns)):\n",
    "    datingTrainWithoutDummies = util.returnDFWithpartnerDistance(datingTrainWithoutDummies,True)\n",
    "    datingTrainWithDummies[\"partnerDistance\"] = datingTrainWithoutDummies[\"partnerDistance\"]\n",
    "    datingTrainWithDummies.to_csv('../data/datingTrainWithDummies.csv',index=False)\n",
    "    datingTrainWithoutDummies.to_csv('../data/datingTrainWithoutDummies.csv',index=False)"
   ]
  },
  {
   "cell_type": "markdown",
   "id": "d629b9d5-3238-4fe4-bdc7-421fb93ea28d",
   "metadata": {
    "tags": []
   },
   "source": [
    "### Fix ambiguous scores"
   ]
  },
  {
   "cell_type": "code",
   "execution_count": null,
   "id": "6ede98e0-c807-43b3-976b-4728aece576b",
   "metadata": {},
   "outputs": [],
   "source": [
    "halfwayChangeColumnsFromWithDummies = [str(col) if ((\"1_s\" in str(col)) | (\"3_s\" in str(col))) for col in datingTrainWithDummies]\n",
    "halfwayChangeColumnsFromWithoutDummies = [str(col) if ((\"1_s\" in str(col)) | (\"3_s\" in str(col))) for col in datingTrainWithoutDummies]\n",
    "\n",
    "if(len(halfwayChangeColumnsFromWithDummies) + len(halfwayChangeColumnsFromWithoutDummies) > 0):\n",
    "    for question in pointDistributionList:\n",
    "        questionCols = [str(col) if (question in datingTrainWithDummies)]\n",
    "        datingTrainWithDummies[f'{question}_sum'] = datingTrainWithDummies[questionCols].sum(axis = 1)\n",
    "        datingTrainWithoutDummies[f'{question}_sum'] = datingTrainWithoutDummies[questionCols].sum(axis = 1)\n",
    "        for questionCol in questionCols:\n",
    "            datingTrainWithDummies[str(questionCol)] = datingTrainWithDummies[str(questionCol)] * 100 / datingTrainWithDummies[f'{question}_sum']\n",
    "            datingTrainWithoutDummies[str(questionCol)] = datingTrainWithoutDummies[str(questionCol)] * 100 / datingTrainWithoutDummies[f'{question}_sum']"
   ]
  },
  {
   "cell_type": "markdown",
   "id": "d4444c2d-2bae-4e16-848d-5035c7700c62",
   "metadata": {},
   "source": [
    "### Replace Nans"
   ]
  },
  {
   "cell_type": "code",
   "execution_count": null,
   "id": "04a1fe4d-f74a-4a20-a5e5-9924a44d97bd",
   "metadata": {},
   "outputs": [],
   "source": []
  },
  {
   "cell_type": "markdown",
   "id": "911fcbe2-48f5-470d-8dbf-d59feb48cec9",
   "metadata": {},
   "source": [
    "# Training"
   ]
  },
  {
   "cell_type": "markdown",
   "id": "fccf544a-51dc-4d1d-9619-654cc93ac168",
   "metadata": {},
   "source": [
    "## Logistic Regression"
   ]
  },
  {
   "cell_type": "markdown",
   "id": "c5508ffa-dea4-49d3-8d1c-333f80a4f625",
   "metadata": {},
   "source": [
    "## KNN"
   ]
  },
  {
   "cell_type": "markdown",
   "id": "b973841e-f4c8-465c-b56a-8d23896d59dc",
   "metadata": {},
   "source": [
    "## Random Forest Classifier"
   ]
  },
  {
   "cell_type": "markdown",
   "id": "767c1e00-aac9-487b-92b6-b0766b1ab8b9",
   "metadata": {},
   "source": [
    "## Boosting"
   ]
  },
  {
   "cell_type": "markdown",
   "id": "55e0d71d-dbd6-4075-8f9e-fc57118d0ee4",
   "metadata": {},
   "source": [
    "# Individual Testing"
   ]
  },
  {
   "cell_type": "markdown",
   "id": "a0e41fa1-50ce-4fd6-85b3-c9ec47b37a53",
   "metadata": {},
   "source": [
    "## Logistic Regression"
   ]
  },
  {
   "cell_type": "markdown",
   "id": "7fe7aec2-8e5e-4b55-8feb-c22af75e031d",
   "metadata": {},
   "source": [
    "## KNN"
   ]
  },
  {
   "cell_type": "markdown",
   "id": "f77cabc1-2855-4ac3-987f-61546d0b7da8",
   "metadata": {},
   "source": [
    "## Random Forest Classifier"
   ]
  },
  {
   "cell_type": "markdown",
   "id": "2830fb95-9857-4d16-b538-62c025b07b47",
   "metadata": {},
   "source": [
    "## Boosting"
   ]
  },
  {
   "cell_type": "markdown",
   "id": "87fa7875-d2a8-4e24-aa49-25d005b1e8a5",
   "metadata": {},
   "source": [
    "# Ensemble Testing"
   ]
  }
 ],
 "metadata": {
  "kernelspec": {
   "display_name": "Python 3",
   "language": "python",
   "name": "python3"
  },
  "language_info": {
   "codemirror_mode": {
    "name": "ipython",
    "version": 3
   },
   "file_extension": ".py",
   "mimetype": "text/x-python",
   "name": "python",
   "nbconvert_exporter": "python",
   "pygments_lexer": "ipython3",
   "version": "3.8.8"
  },
  "widgets": {
   "application/vnd.jupyter.widget-state+json": {
    "state": {},
    "version_major": 2,
    "version_minor": 0
   }
  }
 },
 "nbformat": 4,
 "nbformat_minor": 5
}
