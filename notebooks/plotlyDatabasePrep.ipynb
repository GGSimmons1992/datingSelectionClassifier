{
 "cells": [
  {
   "cell_type": "code",
   "execution_count": 1,
   "id": "da4a61d0-01e5-4cfb-b0b7-d6af105e1b3d",
   "metadata": {},
   "outputs": [
    {
     "data": {
      "application/javascript": [
       "IPython.notebook.set_autosave_interval(5000)"
      ]
     },
     "metadata": {},
     "output_type": "display_data"
    },
    {
     "name": "stdout",
     "output_type": "stream",
     "text": [
      "Autosaving every 5 seconds\n"
     ]
    }
   ],
   "source": [
    "import numpy as np\n",
    "import pandas as pd\n",
    "import matplotlib.pyplot as plt\n",
    "import os\n",
    "from os.path import exists\n",
    "from os import remove\n",
    "import json\n",
    "from sklearn.model_selection import train_test_split\n",
    "import sklearn.model_selection as ms\n",
    "import sklearn.metrics as sm\n",
    "from sklearn.model_selection import cross_validate\n",
    "import sklearn.linear_model as lm\n",
    "from sklearn.neighbors import KNeighborsClassifier as knn\n",
    "from sklearn.ensemble import GradientBoostingClassifier as grad\n",
    "from sklearn.ensemble import RandomForestClassifier as rf\n",
    "from sklearn.ensemble import VotingClassifier\n",
    "from sklearn import metrics\n",
    "import scipy.stats as stats\n",
    "from sklearn.pipeline import make_pipeline\n",
    "from sklearn.preprocessing import StandardScaler\n",
    "import requests\n",
    "\n",
    "import sys\n",
    "sys.path.insert(0, \"../src/\")\n",
    "import util as util\n",
    "\n",
    "%autosave 5"
   ]
  },
  {
   "cell_type": "markdown",
   "id": "0caf4af0-74cf-46e3-a6b1-1224abc9bf81",
   "metadata": {},
   "source": [
    "# Grab datingFull.csv"
   ]
  },
  {
   "cell_type": "code",
   "execution_count": 2,
   "id": "dbc416b1-d4d3-470e-a588-5b2ea27708d3",
   "metadata": {},
   "outputs": [
    {
     "name": "stderr",
     "output_type": "stream",
     "text": [
      "/Users/garysimmons/opt/anaconda3/lib/python3.8/site-packages/IPython/core/interactiveshell.py:3165: DtypeWarning: Columns (5,132) have mixed types.Specify dtype option on import or set low_memory=False.\n",
      "  has_raised = await self.run_ast_nodes(code_ast.body, cell_name,\n"
     ]
    }
   ],
   "source": [
    "with open('../data/processedData/columnDataDictionary.json') as d:\n",
    "    columnDataDictionary = json.load(d)\n",
    "if exists('../data/plotlyDashData/datingFull.csv'):\n",
    "    datingFull = pd.read_csv('../data/plotlyDashData/datingFull.csv')\n",
    "else:\n",
    "    datingFull = pd.read_csv('../data/processedData/datingFull.csv')"
   ]
  },
  {
   "cell_type": "markdown",
   "id": "05000317-abc5-4f37-b05e-0be2d2bc07c7",
   "metadata": {},
   "source": [
    "# Stringify specified columns"
   ]
  },
  {
   "cell_type": "code",
   "execution_count": 3,
   "id": "c9bbc77a-8b4c-4764-a3ee-dee3514f94ea",
   "metadata": {},
   "outputs": [],
   "source": [
    "datingFull = util.stringifyCategoricalColumns(datingFull)"
   ]
  },
  {
   "cell_type": "markdown",
   "id": "dc1c4665-505c-4aab-9e4e-11dca09bbfa4",
   "metadata": {},
   "source": [
    "# Ensure datingFull has locations"
   ]
  },
  {
   "cell_type": "code",
   "execution_count": 4,
   "id": "e1b73009-0260-4a03-a932-3c87df922d6a",
   "metadata": {},
   "outputs": [],
   "source": [
    "if(\"lats\" not in datingFull.columns or \"lons\" not in datingFull.columns):\n",
    "    datingFull = util.getLocations(datingFull,True)"
   ]
  },
  {
   "cell_type": "markdown",
   "id": "28ba4ece-62e9-4736-9dad-e9696e6b54eb",
   "metadata": {},
   "source": [
    "# Join to partner"
   ]
  },
  {
   "cell_type": "code",
   "execution_count": 5,
   "id": "6e5f2ec0-a8f4-444c-8606-90376d414eae",
   "metadata": {},
   "outputs": [],
   "source": [
    "if (\"iid\" in datingFull.columns) or (\"pid\" in datingFull.columns):\n",
    "    partner = datingFull.copy()\n",
    "    datingFull = util.joinToPartner(datingFull,partner).drop([\"iid\",\"pid\",\"iid_o\",\"pid_o\"],axis=1)"
   ]
  },
  {
   "cell_type": "markdown",
   "id": "4f82752d-730a-4800-8ebc-392d969d89ee",
   "metadata": {},
   "source": [
    "# Fix Ambiguous Scores"
   ]
  },
  {
   "cell_type": "code",
   "execution_count": 6,
   "id": "7ea8f5bc-54aa-4886-9b4f-e0b1089c1f82",
   "metadata": {
    "tags": []
   },
   "outputs": [],
   "source": [
    "halfwayChangeColumns = [str(col) for col in datingFull.columns if ((\"1_s\" in str(col)) | (\"3_s\" in str(col)))]\n",
    "\n",
    "if(len(halfwayChangeColumns) > 0):\n",
    "    datingFull = util.fixAmbiguousScores(datingFull)"
   ]
  },
  {
   "cell_type": "markdown",
   "id": "068f8fda-0c05-44b1-97e5-d6681bd6af25",
   "metadata": {},
   "source": [
    "# Replace Nans and save"
   ]
  },
  {
   "cell_type": "code",
   "execution_count": 7,
   "id": "6ab5de1a-57c6-4b97-b4a2-39c0e14d108a",
   "metadata": {},
   "outputs": [],
   "source": [
    "datingFullNumerical = datingFull.select_dtypes(include=['uint8','int64','float64']).drop(\"match\",axis=1)\n",
    "datingFullNumerical = util.replaceNansWithTrainingDataValues(datingFullNumerical)\n",
    "for col in datingFullNumerical.columns:\n",
    "    datingFull[col] = datingFullNumerical[col]\n",
    "datingFull.to_csv('../data/plotlyDashData/datingFull.csv',index=False)"
   ]
  },
  {
   "cell_type": "markdown",
   "id": "03b3eb1f-4192-4c16-a1c1-728390951c86",
   "metadata": {},
   "source": [
    "# Prepare profile database"
   ]
  },
  {
   "cell_type": "code",
   "execution_count": 8,
   "id": "b1bde98c-981f-4995-ba52-2c3865d66491",
   "metadata": {},
   "outputs": [],
   "source": [
    "nameDictionary = dict()\n",
    "uniqueNames = []\n",
    "if exists('../data/nameDictionary.json'):\n",
    "    with open('../data/nameDictionary.json') as d:\n",
    "        nameDictionary = json.load(d)\n",
    "        uniqueNames = nameDictionary[\"uniqueNames\"]\n",
    "\n",
    "if exists('../data/plotlyDashData/profileData.csv'):\n",
    "    profileData = pd.read_csv('../data/plotlyDashData/profileData.csv')\n",
    "    profileData = util.stringifyCategoricalColumns(profileData)\n",
    "            \n",
    "else:\n",
    "    preprofileData = pd.read_csv('../data/encoded-SpeedDatingData-WithLocations.csv')\n",
    "    profileList = [\"iid\",\"gender\",\"age\",\"race\",\"field_cd\",\"order\",\"round\",\"undergra\",\"mn_sat\",\"tuition\",\"imprace\",\"imprelig\",\"from\",\"zipcode\",\"income\",\n",
    "                   \"goal\",\"date\",\"go_out\",\"career_c\",\"sports\",\"tvsports\",\"career\",\n",
    "                  \"exercise\",\"dining\",\"museums\",\"art\",\"hiking\",\"gaming\",\"clubbing\",\"reading\",\"tv\",\"theater\",\"movies\",\"concerts\",\"music\",\"shopping\",\"yoga\",\n",
    "                  \"exphappy\",\"expnum\",\"attr1_1\",\"sinc1_1\",\"intel1_1\",\"fun1_1\",\"shar1_1\",\"attr4_1\",\"sinc4_1\",\"intel4_1\",\"fun4_1\",\"shar4_1\",\n",
    "                  \"attr2_1\",\"sinc2_1\",\"intel2_1\",\"fun2_1\",\"shar2_1\",\"attr3_1\",\"sinc3_1\",\"intel3_1\",\"fun3_1\",\"attr5_1\",\"sinc5_1\",\"intel5_1\",\n",
    "                  \"fun5_1\",\"match_es\",\"attr1_s\",\"sinc1_s\",\"intel1_s\",\"fun1_s\",\"shar1_s\",\"attr3_s\",\"sinc3_s\",\"intel3_s\",\"fun3_s\",\"lats\",\"lons\"]\n",
    "    \n",
    "    preprofileData = preprofileData[profileList]\n",
    "    \n",
    "    preprofileData = util.switchNumbersAndCategoriesFromRawData(preprofileData)\n",
    "\n",
    "    #fix ambiguous scores\n",
    "    halfwayChangeColumns = [str(col) for col in preprofileData.columns if ((\"1_s\" in str(col)) | (\"3_s\" in str(col)))]\n",
    "\n",
    "    if(len(halfwayChangeColumns) > 0):\n",
    "        oldOrders = preprofileData[\"order\"]\n",
    "        preprofileData = util.fixAmbiguousScores(preprofileData)\n",
    "        util.halfwayQuestionSanityTest(preprofileData,\" post-fixAmbiguousScores and pre-saving\")\n",
    "        preprofileData[\"order\"] = oldOrders\n",
    "    \n",
    "    #nanReplacement\n",
    "    preprofileData = util.replaceNansWithTrainingDataValues(preprofileData)\n",
    "    \n",
    "    #Create profile and database\n",
    "    uniqueIIDs = list(set(preprofileData[\"iid\"]))\n",
    "    firstIID = str(uniqueIIDs[0])\n",
    "    for iid in uniqueIIDs:\n",
    "        name = \"\"\n",
    "        personid = str(iid)\n",
    "        \n",
    "        person = preprofileData.loc[preprofileData[\"iid\"]==iid]\n",
    "        person = person.loc[person[\"order\"]==person[\"order\"].max()]\n",
    "        person = person.iloc[[0]]\n",
    "        \n",
    "        if type(person) != pd.DataFrame:\n",
    "            print(type(person))\n",
    "            breakMeImNotADF\n",
    "        if person.shape[1] == 1:\n",
    "            breakMeImAColumn\n",
    "        \n",
    "        if personid not in nameDictionary.keys():\n",
    "            api_url = \"https://api.namefake.com/\"\n",
    "            if person[\"gender\"].any() == 0:\n",
    "                api_url += \"female\"\n",
    "            else:\n",
    "                api_url += \"male\"\n",
    "\n",
    "            name = requests.get(api_url).json()[\"name\"]\n",
    "            if name in uniqueNames:\n",
    "                while name in uniqueNames:\n",
    "                    name = requests.get(api_url).json()[\"name\"]\n",
    "            \n",
    "            uniqueNames.append(name)\n",
    "            nameDictionary[personid] = name\n",
    "        else:\n",
    "            name = nameDictionary[str(iid)]\n",
    "        \n",
    "        nameDictionary[\"uniqueNames\"] = uniqueNames\n",
    "        with open('../data/nameDictionary.json', 'w') as fp:\n",
    "            json.dump(nameDictionary, fp)\n",
    "        \n",
    "        person[\"name\"] = name\n",
    "        if personid == firstIID:\n",
    "            profileData = person\n",
    "        else:\n",
    "            profileData = pd.concat([profileData,person])\n",
    "        \n",
    "    profileData.drop(\"order\",axis=1).to_csv('../data/plotlyDashData/profileData.csv',index=False)\n",
    "    \n",
    "if exists('../data/plotlyDashData/partnerProfileWithDummies.csv'):\n",
    "    partnerProfileWithDummies = pd.read_csv('../data/plotlyDashData/partnerProfileWithDummies.csv')\n",
    "    partnerProfileWithDummies = util.stringifyCategoricalColumns(partnerProfileWithDummies)\n",
    "else:                   \n",
    "    partnerProfileWithDummies = util.addDummies(profileData.copy())\n",
    "    partnerProfileWithDummies[\"race_5.0\"] = 0 #no native americans, thus excluded from original dummification method\n",
    "    partnerProfileWithDummies = util.replaceNansWithTrainingDataValues(partnerProfileWithDummies)            \n",
    "    partnerProfileWithDummies.to_csv('../data/plotlyDashData/partnerProfileWithDummies.csv',index=False)\n"
   ]
  },
  {
   "cell_type": "markdown",
   "id": "4b9a7f20-b969-4ee9-a1d1-7eb8db26595a",
   "metadata": {},
   "source": [
    "# Missing column analysis"
   ]
  },
  {
   "cell_type": "code",
   "execution_count": 9,
   "id": "f6e51cda-6120-43ee-8b11-75815bea8950",
   "metadata": {},
   "outputs": [],
   "source": [
    "colList = list(partnerProfileWithDummies.columns)\n",
    "for col in colList:\n",
    "    if col in columnDataDictionary[\"nonBinaryCategoricalList\"]:\n",
    "        partnerProfileWithDummies[col] = partnerProfileWithDummies[col].apply(str)"
   ]
  },
  {
   "cell_type": "code",
   "execution_count": null,
   "id": "fa6c0e2e-a3d2-439a-bc23-00758cda2463",
   "metadata": {},
   "outputs": [],
   "source": [
    "columnsCollected = [str(col) for col in partnerProfileWithDummies.columns] + [str(col)+\"_o\" for col in partnerProfileWithDummies.columns]\n",
    "missingColumns = []\n",
    "unneccesaryColumns = [\"samerace\",\"match\"]\n",
    "necessaryColumns = pd.read_csv('../data/plotlyDashData/datingTrain.csv').drop(unneccesaryColumns,axis=1).columns\n",
    "for necCol in necessaryColumns:\n",
    "    if necCol not in columnsCollected:\n",
    "        missingColumns.append(necCol)\n",
    "\n",
    "print(\"from profile data\")\n",
    "for col in datingFull.columns:\n",
    "    if col in missingColumns and \"_o\" not in col:\n",
    "        print(col)\n",
    "\n",
    "print(\"\\nfrom partner data\")\n",
    "for col in datingFull.columns:\n",
    "    if col in missingColumns and \"_o\" in col:\n",
    "        print(col)"
   ]
  },
  {
   "cell_type": "markdown",
   "id": "1f2ece5e-756c-4539-bf06-8e95b6d07581",
   "metadata": {},
   "source": [
    "# Create Description Dictionary"
   ]
  },
  {
   "cell_type": "code",
   "execution_count": 11,
   "id": "d21eae6e-c91d-4daa-bd04-3b11fb5c214b",
   "metadata": {},
   "outputs": [
    {
     "name": "stdout",
     "output_type": "stream",
     "text": [
      "gender\n"
     ]
    },
    {
     "name": "stdin",
     "output_type": "stream",
     "text": [
      " gender\n"
     ]
    },
    {
     "name": "stdout",
     "output_type": "stream",
     "text": [
      "match\n"
     ]
    },
    {
     "name": "stdin",
     "output_type": "stream",
     "text": [
      " 1 if both parties decide to date each other. 0 if not.\n"
     ]
    },
    {
     "name": "stdout",
     "output_type": "stream",
     "text": [
      "samerace\n"
     ]
    },
    {
     "name": "stdin",
     "output_type": "stream",
     "text": [
      " 1 if both parties are of same race. 0 if not\n"
     ]
    },
    {
     "name": "stdout",
     "output_type": "stream",
     "text": [
      "age\n"
     ]
    },
    {
     "name": "stdin",
     "output_type": "stream",
     "text": [
      " age\n"
     ]
    },
    {
     "name": "stdout",
     "output_type": "stream",
     "text": [
      "field_cd\n"
     ]
    },
    {
     "name": "stdin",
     "output_type": "stream",
     "text": [
      " field of study coded\n"
     ]
    },
    {
     "name": "stdout",
     "output_type": "stream",
     "text": [
      "undergra\n"
     ]
    },
    {
     "name": "stdin",
     "output_type": "stream",
     "text": [
      " name of undergraduate institution\n"
     ]
    },
    {
     "name": "stdout",
     "output_type": "stream",
     "text": [
      "mn_sat\n"
     ]
    },
    {
     "name": "stdin",
     "output_type": "stream",
     "text": [
      " Median SAT score for the undergraduate institution from Barron's 25th Ed. college profile book\n"
     ]
    },
    {
     "name": "stdout",
     "output_type": "stream",
     "text": [
      "tuition\n"
     ]
    },
    {
     "name": "stdin",
     "output_type": "stream",
     "text": [
      " tuition listed from undergraduate institution from Barron's 25th Ed. college profile book\n"
     ]
    },
    {
     "name": "stdout",
     "output_type": "stream",
     "text": [
      "race\n"
     ]
    },
    {
     "name": "stdin",
     "output_type": "stream",
     "text": [
      " race code\n"
     ]
    },
    {
     "name": "stdout",
     "output_type": "stream",
     "text": [
      "imprace\n"
     ]
    },
    {
     "name": "stdin",
     "output_type": "stream",
     "text": [
      " importance of dating in same racial/ethnic background\n"
     ]
    },
    {
     "name": "stdout",
     "output_type": "stream",
     "text": [
      "imprelig\n"
     ]
    },
    {
     "name": "stdin",
     "output_type": "stream",
     "text": [
      " importance of dating in same religious background\n"
     ]
    },
    {
     "name": "stdout",
     "output_type": "stream",
     "text": [
      "from\n"
     ]
    },
    {
     "name": "stdin",
     "output_type": "stream",
     "text": [
      " where are you from (city,state, and/or country)\n"
     ]
    },
    {
     "name": "stdout",
     "output_type": "stream",
     "text": [
      "zipcode\n"
     ]
    },
    {
     "name": "stdin",
     "output_type": "stream",
     "text": [
      " zipcode of where you grew up\n"
     ]
    },
    {
     "name": "stdout",
     "output_type": "stream",
     "text": [
      "income\n"
     ]
    },
    {
     "name": "stdin",
     "output_type": "stream",
     "text": [
      " median household income based on zipcode from US Census Bureau Website\n"
     ]
    },
    {
     "name": "stdout",
     "output_type": "stream",
     "text": [
      "goal\n"
     ]
    },
    {
     "name": "stdin",
     "output_type": "stream",
     "text": [
      " goal of attending blind date event or using this plotly app\n"
     ]
    },
    {
     "name": "stdout",
     "output_type": "stream",
     "text": [
      "date\n"
     ]
    },
    {
     "name": "stdin",
     "output_type": "stream",
     "text": [
      " how often do you go on a date? (coded response)\n"
     ]
    },
    {
     "name": "stdout",
     "output_type": "stream",
     "text": [
      "go_out\n"
     ]
    },
    {
     "name": "stdin",
     "output_type": "stream",
     "text": [
      " How often do you go out? (not necessarily on a date) (coded response)\n"
     ]
    },
    {
     "name": "stdout",
     "output_type": "stream",
     "text": [
      "career_c\n"
     ]
    },
    {
     "name": "stdin",
     "output_type": "stream",
     "text": [
      " career coded\n"
     ]
    },
    {
     "name": "stdout",
     "output_type": "stream",
     "text": [
      "sports\n"
     ]
    },
    {
     "name": "stdin",
     "output_type": "stream",
     "text": [
      " interest in playing sports/athletics (scale 1-10)\n"
     ]
    },
    {
     "name": "stdout",
     "output_type": "stream",
     "text": [
      "tvsports\n"
     ]
    },
    {
     "name": "stdin",
     "output_type": "stream",
     "text": [
      " interest in watching sports (scale 1-10)\n"
     ]
    },
    {
     "name": "stdout",
     "output_type": "stream",
     "text": [
      "exercise\n"
     ]
    },
    {
     "name": "stdin",
     "output_type": "stream",
     "text": [
      " interest in exercise or body building (scale 1-10)\n"
     ]
    },
    {
     "name": "stdout",
     "output_type": "stream",
     "text": [
      "dining\n"
     ]
    },
    {
     "name": "stdin",
     "output_type": "stream",
     "text": [
      " interest in dining out (scale 1-10)\n"
     ]
    },
    {
     "name": "stdout",
     "output_type": "stream",
     "text": [
      "museums\n"
     ]
    },
    {
     "name": "stdin",
     "output_type": "stream",
     "text": [
      " interest in museums (scale 1-10)\n"
     ]
    },
    {
     "name": "stdout",
     "output_type": "stream",
     "text": [
      "art\n"
     ]
    },
    {
     "name": "stdin",
     "output_type": "stream",
     "text": [
      " interest in art (scale 1-10)\n"
     ]
    },
    {
     "name": "stdout",
     "output_type": "stream",
     "text": [
      "hiking\n"
     ]
    },
    {
     "name": "stdin",
     "output_type": "stream",
     "text": [
      " interest in hiking (scale 1-10)\n"
     ]
    },
    {
     "name": "stdout",
     "output_type": "stream",
     "text": [
      "gaming\n"
     ]
    },
    {
     "name": "stdin",
     "output_type": "stream",
     "text": [
      " interest in gaming (scale 1-10)\n"
     ]
    },
    {
     "name": "stdout",
     "output_type": "stream",
     "text": [
      "clubbing\n"
     ]
    },
    {
     "name": "stdin",
     "output_type": "stream",
     "text": [
      " interest in dancing/clubbling (scale 1-10)\n"
     ]
    },
    {
     "name": "stdout",
     "output_type": "stream",
     "text": [
      "reading\n"
     ]
    },
    {
     "name": "stdin",
     "output_type": "stream",
     "text": [
      " interest in reading (scale 1-10)\n"
     ]
    },
    {
     "name": "stdout",
     "output_type": "stream",
     "text": [
      "tv\n"
     ]
    },
    {
     "name": "stdin",
     "output_type": "stream",
     "text": [
      " interest in watching tv (scale 1-10)\n"
     ]
    },
    {
     "name": "stdout",
     "output_type": "stream",
     "text": [
      "theater\n"
     ]
    },
    {
     "name": "stdin",
     "output_type": "stream",
     "text": [
      " interest in theater (scale 1-10)\n"
     ]
    },
    {
     "name": "stdout",
     "output_type": "stream",
     "text": [
      "movies\n"
     ]
    },
    {
     "name": "stdin",
     "output_type": "stream",
     "text": [
      " interest in movies (scale 1-10)\n"
     ]
    },
    {
     "name": "stdout",
     "output_type": "stream",
     "text": [
      "concerts\n"
     ]
    },
    {
     "name": "stdin",
     "output_type": "stream",
     "text": [
      " interest in going to concerts (scale 1-10)\n"
     ]
    },
    {
     "name": "stdout",
     "output_type": "stream",
     "text": [
      "music\n"
     ]
    },
    {
     "name": "stdin",
     "output_type": "stream",
     "text": [
      " interest in music (scale 1-10)\n"
     ]
    },
    {
     "name": "stdout",
     "output_type": "stream",
     "text": [
      "shopping\n"
     ]
    },
    {
     "name": "stdin",
     "output_type": "stream",
     "text": [
      " interest in shopping (scale 1-10)\n"
     ]
    },
    {
     "name": "stdout",
     "output_type": "stream",
     "text": [
      "yoga\n"
     ]
    },
    {
     "name": "stdin",
     "output_type": "stream",
     "text": [
      " interest in yoga/meditation (scale 1-10)\n"
     ]
    },
    {
     "name": "stdout",
     "output_type": "stream",
     "text": [
      "exphappy\n"
     ]
    },
    {
     "name": "stdin",
     "output_type": "stream",
     "text": [
      " expected happiness score from attending blind dating event or using the plotly app (scale 1-10)\n"
     ]
    },
    {
     "name": "stdout",
     "output_type": "stream",
     "text": [
      "expnum\n"
     ]
    },
    {
     "name": "stdin",
     "output_type": "stream",
     "text": [
      " expected number of people choosing to date them out after 20 pairings\n"
     ]
    },
    {
     "name": "stdout",
     "output_type": "stream",
     "text": [
      "attr1_1\n"
     ]
    },
    {
     "name": "stdin",
     "output_type": "stream",
     "text": [
      " weight of attractiveness in what person looks in a partner (budget out of 100)\n"
     ]
    },
    {
     "name": "stdout",
     "output_type": "stream",
     "text": [
      "sinc1_1\n"
     ]
    },
    {
     "name": "stdin",
     "output_type": "stream",
     "text": [
      " weight of sincerity in what candidate looks for in a partner (budget out of 100)\n"
     ]
    },
    {
     "name": "stdout",
     "output_type": "stream",
     "text": [
      "intel1_1\n"
     ]
    },
    {
     "name": "stdin",
     "output_type": "stream",
     "text": [
      " weight of intelligence in what candidate looks for in a partner (budget out of 100)\n"
     ]
    },
    {
     "name": "stdout",
     "output_type": "stream",
     "text": [
      "fun1_1\n"
     ]
    },
    {
     "name": "stdin",
     "output_type": "stream",
     "text": [
      " weight of fun in what candidate looks for in a partner (budget out of 100)\n"
     ]
    },
    {
     "name": "stdout",
     "output_type": "stream",
     "text": [
      "shar1_1\n"
     ]
    },
    {
     "name": "stdin",
     "output_type": "stream",
     "text": [
      " weight of shared interests in what candidate looks for in a partner (budget out of 100)\n"
     ]
    },
    {
     "name": "stdout",
     "output_type": "stream",
     "text": [
      "attr4_1\n"
     ]
    },
    {
     "name": "stdin",
     "output_type": "stream",
     "text": [
      " weight of attractiveness in what candidate thinks fellow candidates of their gender look for (budget out of 100)\n"
     ]
    },
    {
     "name": "stdout",
     "output_type": "stream",
     "text": [
      "sinc4_1\n"
     ]
    },
    {
     "name": "stdin",
     "output_type": "stream",
     "text": [
      " weight of sincerity in what candidate thinks fellow candidates of their gender look for (budget out of 100)\n"
     ]
    },
    {
     "name": "stdout",
     "output_type": "stream",
     "text": [
      "intel4_1\n"
     ]
    },
    {
     "name": "stdin",
     "output_type": "stream",
     "text": [
      " weight of intelligence in what candidate thinks fellow candidates of their gender look for (budget out of 100)\n"
     ]
    },
    {
     "name": "stdout",
     "output_type": "stream",
     "text": [
      "fun4_1\n"
     ]
    },
    {
     "name": "stdin",
     "output_type": "stream",
     "text": [
      " weight of fun in what candidate thinks fellow candidates of their gender look for (budget out of 100)\n"
     ]
    },
    {
     "name": "stdout",
     "output_type": "stream",
     "text": [
      "shar4_1\n"
     ]
    },
    {
     "name": "stdin",
     "output_type": "stream",
     "text": [
      " weight of shared interests in what candidate thinks fellow candidates of their gender look for (budget out of 100)\n"
     ]
    },
    {
     "name": "stdout",
     "output_type": "stream",
     "text": [
      "attr2_1\n"
     ]
    },
    {
     "name": "stdin",
     "output_type": "stream",
     "text": [
      " weight of attractiveness in what candidate thinks candidates of the opposite gender look for (budget out of 100)\n"
     ]
    },
    {
     "name": "stdout",
     "output_type": "stream",
     "text": [
      "sinc2_1\n"
     ]
    },
    {
     "name": "stdin",
     "output_type": "stream",
     "text": [
      " weight of sincerity in what candidate thinks candidates of the opposite gender look for (budget out of 100)\n"
     ]
    },
    {
     "name": "stdout",
     "output_type": "stream",
     "text": [
      "intel2_1\n"
     ]
    },
    {
     "name": "stdin",
     "output_type": "stream",
     "text": [
      " weight of intelligence in what candidate thinks candidates of the opposite gender look for (budget out of 100)\n"
     ]
    },
    {
     "name": "stdout",
     "output_type": "stream",
     "text": [
      "fun2_1\n"
     ]
    },
    {
     "name": "stdin",
     "output_type": "stream",
     "text": [
      " weight of fun in what candidate thinks candidates of the opposite gender look for (budget out of 100)\n"
     ]
    },
    {
     "name": "stdout",
     "output_type": "stream",
     "text": [
      "shar2_1\n"
     ]
    },
    {
     "name": "stdin",
     "output_type": "stream",
     "text": [
      " weight of shared interests in what candidate thinks candidates of the opposite gender look for (budget out of 100)\n"
     ]
    },
    {
     "name": "stdout",
     "output_type": "stream",
     "text": [
      "attr3_1\n"
     ]
    },
    {
     "name": "stdin",
     "output_type": "stream",
     "text": [
      " how candidate rates themself in attractiveness (scale 1-10)\n"
     ]
    },
    {
     "name": "stdout",
     "output_type": "stream",
     "text": [
      "sinc3_1\n"
     ]
    },
    {
     "name": "stdin",
     "output_type": "stream",
     "text": [
      " how candidate rates themself in sincerity (scale 1-10)\n"
     ]
    },
    {
     "name": "stdout",
     "output_type": "stream",
     "text": [
      "intel3_1\n"
     ]
    },
    {
     "name": "stdin",
     "output_type": "stream",
     "text": [
      " how candidate rates themself in intelligence (scale 1-10)\n"
     ]
    },
    {
     "name": "stdout",
     "output_type": "stream",
     "text": [
      "fun3_1\n"
     ]
    },
    {
     "name": "stdin",
     "output_type": "stream",
     "text": [
      " how candidate rates themself in fun (scale 1-10)\n"
     ]
    },
    {
     "name": "stdout",
     "output_type": "stream",
     "text": [
      "attr5_1\n"
     ]
    },
    {
     "name": "stdin",
     "output_type": "stream",
     "text": [
      " how candidate perceives how others rate them in attractiveness (scale 1-10)\n"
     ]
    },
    {
     "name": "stdout",
     "output_type": "stream",
     "text": [
      "sinc5_1\n"
     ]
    },
    {
     "name": "stdin",
     "output_type": "stream",
     "text": [
      " how candidate rates themself in sincerity (scale 1-10)\n"
     ]
    },
    {
     "name": "stdout",
     "output_type": "stream",
     "text": [
      "intel5_1\n"
     ]
    },
    {
     "name": "stdin",
     "output_type": "stream",
     "text": [
      " how candidate rates themself in intelligence (scale 1-10)\n"
     ]
    },
    {
     "name": "stdout",
     "output_type": "stream",
     "text": [
      "fun5_1\n"
     ]
    },
    {
     "name": "stdin",
     "output_type": "stream",
     "text": [
      " how candidate rates themself in fun (scale 1-10)\n"
     ]
    },
    {
     "name": "stdout",
     "output_type": "stream",
     "text": [
      "match_es\n"
     ]
    },
    {
     "name": "stdin",
     "output_type": "stream",
     "text": [
      " how many matches (candidate and partner saying yes) expected out of 20 blind date pairings\n"
     ]
    },
    {
     "name": "stdout",
     "output_type": "stream",
     "text": [
      "lats\n"
     ]
    },
    {
     "name": "stdin",
     "output_type": "stream",
     "text": [
      " latitude of candidate\n"
     ]
    },
    {
     "name": "stdout",
     "output_type": "stream",
     "text": [
      "lons\n"
     ]
    },
    {
     "name": "stdin",
     "output_type": "stream",
     "text": [
      " longitude of candidate\n"
     ]
    },
    {
     "name": "stdout",
     "output_type": "stream",
     "text": [
      "field_cd_1.0\n"
     ]
    },
    {
     "name": "stdin",
     "output_type": "stream",
     "text": [
      " candidate field of study code: law\n"
     ]
    },
    {
     "name": "stdout",
     "output_type": "stream",
     "text": [
      "field_cd_10.0\n"
     ]
    },
    {
     "name": "stdin",
     "output_type": "stream",
     "text": [
      " candidate field of study code: biological sciences/chemistry/physics\n"
     ]
    },
    {
     "name": "stdout",
     "output_type": "stream",
     "text": [
      "field_cd_11.0\n"
     ]
    },
    {
     "name": "stdin",
     "output_type": "stream",
     "text": [
      " candidate field of study code: social work\n"
     ]
    },
    {
     "name": "stdout",
     "output_type": "stream",
     "text": [
      "field_cd_12.0\n"
     ]
    },
    {
     "name": "stdin",
     "output_type": "stream",
     "text": [
      " candidate field of study code: undergrad/undecided\n"
     ]
    },
    {
     "name": "stdout",
     "output_type": "stream",
     "text": [
      "field_cd_13.0\n"
     ]
    },
    {
     "name": "stdin",
     "output_type": "stream",
     "text": [
      " candidate field of study code: political science/international affairs\n"
     ]
    },
    {
     "name": "stdout",
     "output_type": "stream",
     "text": [
      "field_cd_14.0\n"
     ]
    },
    {
     "name": "stdin",
     "output_type": "stream",
     "text": [
      " candidate field of study code: film\n"
     ]
    },
    {
     "name": "stdout",
     "output_type": "stream",
     "text": [
      "field_cd_15.0\n"
     ]
    },
    {
     "name": "stdin",
     "output_type": "stream",
     "text": [
      " candidate field of study code: fine arts/arts administration\n"
     ]
    },
    {
     "name": "stdout",
     "output_type": "stream",
     "text": [
      "field_cd_16.0\n"
     ]
    },
    {
     "name": "stdin",
     "output_type": "stream",
     "text": [
      " candidate field of study code: languages\n"
     ]
    },
    {
     "name": "stdout",
     "output_type": "stream",
     "text": [
      "field_cd_17.0\n"
     ]
    },
    {
     "name": "stdin",
     "output_type": "stream",
     "text": [
      " candidate field of study code: architecture\n"
     ]
    },
    {
     "name": "stdout",
     "output_type": "stream",
     "text": [
      "field_cd_18.0\n"
     ]
    },
    {
     "name": "stdin",
     "output_type": "stream",
     "text": [
      " candidate field of study code: other\n"
     ]
    },
    {
     "name": "stdout",
     "output_type": "stream",
     "text": [
      "field_cd_2.0\n"
     ]
    },
    {
     "name": "stdin",
     "output_type": "stream",
     "text": [
      " candidate field of study code: math\n"
     ]
    },
    {
     "name": "stdout",
     "output_type": "stream",
     "text": [
      "field_cd_3.0\n"
     ]
    },
    {
     "name": "stdin",
     "output_type": "stream",
     "text": [
      " candidate field of study code: social science,psychologist\n"
     ]
    },
    {
     "name": "stdout",
     "output_type": "stream",
     "text": [
      "field_cd_4.0\n"
     ]
    },
    {
     "name": "stdin",
     "output_type": "stream",
     "text": [
      " candidate field of study code: medical science, pharmaceuticals, and bio tech\n"
     ]
    },
    {
     "name": "stdout",
     "output_type": "stream",
     "text": [
      "field_cd_5.0\n"
     ]
    },
    {
     "name": "stdin",
     "output_type": "stream",
     "text": [
      " candidate field of study code: engineering\n"
     ]
    },
    {
     "name": "stdout",
     "output_type": "stream",
     "text": [
      "field_cd_6.0\n"
     ]
    },
    {
     "name": "stdin",
     "output_type": "stream",
     "text": [
      " candidate field of study code: english/creative writing/journalism\n"
     ]
    },
    {
     "name": "stdout",
     "output_type": "stream",
     "text": [
      "field_cd_7.0\n"
     ]
    },
    {
     "name": "stdin",
     "output_type": "stream",
     "text": [
      " candidate field of study code: history/religion/philosophy\n"
     ]
    },
    {
     "name": "stdout",
     "output_type": "stream",
     "text": [
      "field_cd_8.0\n"
     ]
    },
    {
     "name": "stdin",
     "output_type": "stream",
     "text": [
      " candidate field of study code: business/econ/finance\n"
     ]
    },
    {
     "name": "stdout",
     "output_type": "stream",
     "text": [
      "field_cd_9.0\n"
     ]
    },
    {
     "name": "stdin",
     "output_type": "stream",
     "text": [
      " candidate field of study code: education/academia\n"
     ]
    },
    {
     "name": "stdout",
     "output_type": "stream",
     "text": [
      "field_cd_nan\n"
     ]
    },
    {
     "name": "stdin",
     "output_type": "stream",
     "text": [
      " candidate field of study code: not specified (left blank)\n"
     ]
    },
    {
     "name": "stdout",
     "output_type": "stream",
     "text": [
      "race_1.0\n"
     ]
    },
    {
     "name": "stdin",
     "output_type": "stream",
     "text": [
      " race code: black/african american\n"
     ]
    },
    {
     "name": "stdout",
     "output_type": "stream",
     "text": [
      "race_2.0\n"
     ]
    },
    {
     "name": "stdin",
     "output_type": "stream",
     "text": [
      " race code: european/caucasian-american\n"
     ]
    },
    {
     "name": "stdout",
     "output_type": "stream",
     "text": [
      "race_3.0\n"
     ]
    },
    {
     "name": "stdin",
     "output_type": "stream",
     "text": [
      " race code: latino/hispanic american\n"
     ]
    },
    {
     "name": "stdout",
     "output_type": "stream",
     "text": [
      "race_4.0\n"
     ]
    },
    {
     "name": "stdin",
     "output_type": "stream",
     "text": [
      " race code: asian/pacific islander/asian-american\n"
     ]
    },
    {
     "name": "stdout",
     "output_type": "stream",
     "text": [
      "race_6.0\n"
     ]
    },
    {
     "name": "stdin",
     "output_type": "stream",
     "text": [
      " race code: other\n"
     ]
    },
    {
     "name": "stdout",
     "output_type": "stream",
     "text": [
      "race_nan\n"
     ]
    },
    {
     "name": "stdin",
     "output_type": "stream",
     "text": [
      " race code: not specified (left blank)\n"
     ]
    },
    {
     "name": "stdout",
     "output_type": "stream",
     "text": [
      "goal_1.0\n"
     ]
    },
    {
     "name": "stdin",
     "output_type": "stream",
     "text": [
      " goal of attending blind date event or using this plotly app code: seemed like fun\n"
     ]
    },
    {
     "name": "stdout",
     "output_type": "stream",
     "text": [
      "goal_2.0\n"
     ]
    },
    {
     "name": "stdin",
     "output_type": "stream",
     "text": [
      " goal of attending blind date event or using this plotly app code: to meet new people\n"
     ]
    },
    {
     "name": "stdout",
     "output_type": "stream",
     "text": [
      "goal_3.0\n"
     ]
    },
    {
     "name": "stdin",
     "output_type": "stream",
     "text": [
      " goal of attending blind date event or using this plotly app code: to get a date\n"
     ]
    },
    {
     "name": "stdout",
     "output_type": "stream",
     "text": [
      "goal_4.0\n"
     ]
    },
    {
     "name": "stdin",
     "output_type": "stream",
     "text": [
      " goal of attending blind date event or using this plotly app code: looking for a serious relationship\n"
     ]
    },
    {
     "name": "stdout",
     "output_type": "stream",
     "text": [
      "goal_5.0\n"
     ]
    },
    {
     "name": "stdin",
     "output_type": "stream",
     "text": [
      " goal of attending blind date event or using this plotly app code: to say they did it\n"
     ]
    },
    {
     "name": "stdout",
     "output_type": "stream",
     "text": [
      "goal_6.0\n"
     ]
    },
    {
     "name": "stdin",
     "output_type": "stream",
     "text": [
      " goal of attending blind date event or using this plotly app code: other\n"
     ]
    },
    {
     "name": "stdout",
     "output_type": "stream",
     "text": [
      "goal_nan\n"
     ]
    },
    {
     "name": "stdin",
     "output_type": "stream",
     "text": [
      " goal of attending blind date event or using this plotly app code: not specified (left blank)\n"
     ]
    },
    {
     "name": "stdout",
     "output_type": "stream",
     "text": [
      "date_1.0\n"
     ]
    },
    {
     "name": "stdin",
     "output_type": "stream",
     "text": [
      " how often do you go on a date? code: several times a week\n"
     ]
    },
    {
     "name": "stdout",
     "output_type": "stream",
     "text": [
      "date_2.0\n"
     ]
    },
    {
     "name": "stdin",
     "output_type": "stream",
     "text": [
      " how often do you go on a date? code: twice a week\n"
     ]
    },
    {
     "name": "stdout",
     "output_type": "stream",
     "text": [
      "date_3.0\n"
     ]
    },
    {
     "name": "stdin",
     "output_type": "stream",
     "text": [
      " how often do you go on a date? code: once a week\n"
     ]
    },
    {
     "name": "stdout",
     "output_type": "stream",
     "text": [
      "date_4.0\n"
     ]
    },
    {
     "name": "stdin",
     "output_type": "stream",
     "text": [
      " how often do you go on a date? code: twice a month\n"
     ]
    },
    {
     "name": "stdout",
     "output_type": "stream",
     "text": [
      "date_5.0\n"
     ]
    },
    {
     "name": "stdin",
     "output_type": "stream",
     "text": [
      " how often do you go on a date? code: once a month\n"
     ]
    },
    {
     "name": "stdout",
     "output_type": "stream",
     "text": [
      "date_6.0\n"
     ]
    },
    {
     "name": "stdin",
     "output_type": "stream",
     "text": [
      " how often do you go on a date? code: several times a year\n"
     ]
    },
    {
     "name": "stdout",
     "output_type": "stream",
     "text": [
      "date_7.0\n"
     ]
    },
    {
     "name": "stdin",
     "output_type": "stream",
     "text": [
      " how often do you go on a date? code: almost never\n"
     ]
    },
    {
     "name": "stdout",
     "output_type": "stream",
     "text": [
      "date_nan\n"
     ]
    },
    {
     "name": "stdin",
     "output_type": "stream",
     "text": [
      " how often do you go on a date? code: not specified (left blank)\n"
     ]
    },
    {
     "name": "stdout",
     "output_type": "stream",
     "text": [
      "go_out_1.0\n"
     ]
    },
    {
     "name": "stdin",
     "output_type": "stream",
     "text": [
      " How often do you go out? (not necessarily on a date) code: several times a week\n"
     ]
    },
    {
     "name": "stdout",
     "output_type": "stream",
     "text": [
      "go_out_2.0\n"
     ]
    },
    {
     "name": "stdin",
     "output_type": "stream",
     "text": [
      " How often do you go out? (not necessarily on a date) code: twice a week\n"
     ]
    },
    {
     "name": "stdout",
     "output_type": "stream",
     "text": [
      "go_out_3.0\n"
     ]
    },
    {
     "name": "stdin",
     "output_type": "stream",
     "text": [
      " How often do you go out? (not necessarily on a date) code: once a week\n"
     ]
    },
    {
     "name": "stdout",
     "output_type": "stream",
     "text": [
      "go_out_4.0\n"
     ]
    },
    {
     "name": "stdin",
     "output_type": "stream",
     "text": [
      " How often do you go out? (not necessarily on a date) code: twice a month\n"
     ]
    },
    {
     "name": "stdout",
     "output_type": "stream",
     "text": [
      "go_out_5.0\n"
     ]
    },
    {
     "name": "stdin",
     "output_type": "stream",
     "text": [
      " How often do you go out? (not necessarily on a date) code: once a month\n"
     ]
    },
    {
     "name": "stdout",
     "output_type": "stream",
     "text": [
      "go_out_6.0\n"
     ]
    },
    {
     "name": "stdin",
     "output_type": "stream",
     "text": [
      " How often do you go out? (not necessarily on a date) code: several times a year\n"
     ]
    },
    {
     "name": "stdout",
     "output_type": "stream",
     "text": [
      "go_out_7.0\n"
     ]
    },
    {
     "name": "stdin",
     "output_type": "stream",
     "text": [
      " How often do you go out? (not necessarily on a date) code: almost never\n"
     ]
    },
    {
     "name": "stdout",
     "output_type": "stream",
     "text": [
      "go_out_nan\n"
     ]
    },
    {
     "name": "stdin",
     "output_type": "stream",
     "text": [
      " How often do you go out? (not necessarily on a date) code: not specified (left blank)\n"
     ]
    },
    {
     "name": "stdout",
     "output_type": "stream",
     "text": [
      "career_c_1.0\n"
     ]
    },
    {
     "name": "stdin",
     "output_type": "stream",
     "text": [
      " career code: lawyer\n"
     ]
    },
    {
     "name": "stdout",
     "output_type": "stream",
     "text": [
      "career_c_10.0\n"
     ]
    },
    {
     "name": "stdin",
     "output_type": "stream",
     "text": [
      " career code: social work\n"
     ]
    },
    {
     "name": "stdout",
     "output_type": "stream",
     "text": [
      "career_c_11.0\n"
     ]
    },
    {
     "name": "stdin",
     "output_type": "stream",
     "text": [
      " career code: social work\n"
     ]
    },
    {
     "name": "stdout",
     "output_type": "stream",
     "text": [
      "career_c_12.0\n"
     ]
    },
    {
     "name": "stdin",
     "output_type": "stream",
     "text": [
      " career code: speech pathology\n"
     ]
    },
    {
     "name": "stdout",
     "output_type": "stream",
     "text": [
      "career_c_13.0\n"
     ]
    },
    {
     "name": "stdin",
     "output_type": "stream",
     "text": [
      " career code: politics\n"
     ]
    },
    {
     "name": "stdout",
     "output_type": "stream",
     "text": [
      "career_c_14.0\n"
     ]
    },
    {
     "name": "stdin",
     "output_type": "stream",
     "text": [
      " career code: pro sports/athletics\n"
     ]
    },
    {
     "name": "stdout",
     "output_type": "stream",
     "text": [
      "career_c_15.0\n"
     ]
    },
    {
     "name": "stdin",
     "output_type": "stream",
     "text": [
      " career code: other\n"
     ]
    },
    {
     "name": "stdout",
     "output_type": "stream",
     "text": [
      "career_c_16.0\n"
     ]
    },
    {
     "name": "stdin",
     "output_type": "stream",
     "text": [
      " career code: journalism\n"
     ]
    },
    {
     "name": "stdout",
     "output_type": "stream",
     "text": [
      "career_c_17.0\n"
     ]
    },
    {
     "name": "stdin",
     "output_type": "stream",
     "text": [
      " career code: architecture\n"
     ]
    },
    {
     "name": "stdout",
     "output_type": "stream",
     "text": [
      "career_c_2.0\n"
     ]
    },
    {
     "name": "stdin",
     "output_type": "stream",
     "text": [
      " career code: academic/research\n"
     ]
    },
    {
     "name": "stdout",
     "output_type": "stream",
     "text": [
      "career_c_3.0\n"
     ]
    },
    {
     "name": "stdin",
     "output_type": "stream",
     "text": [
      " career code: psychologist\n"
     ]
    },
    {
     "name": "stdout",
     "output_type": "stream",
     "text": [
      "career_c_4.0\n"
     ]
    },
    {
     "name": "stdin",
     "output_type": "stream",
     "text": [
      " career code: doctor/medicine\n"
     ]
    },
    {
     "name": "stdout",
     "output_type": "stream",
     "text": [
      "career_c_5.0\n"
     ]
    },
    {
     "name": "stdin",
     "output_type": "stream",
     "text": [
      " career code: engineer\n"
     ]
    },
    {
     "name": "stdout",
     "output_type": "stream",
     "text": [
      "career_c_6.0\n"
     ]
    },
    {
     "name": "stdin",
     "output_type": "stream",
     "text": [
      " career code: creative arts/entertainment\n"
     ]
    },
    {
     "name": "stdout",
     "output_type": "stream",
     "text": [
      "career_c_7.0\n"
     ]
    },
    {
     "name": "stdin",
     "output_type": "stream",
     "text": [
      " career code: banking/consulting/finance/marketing/business/ceo/entrepreneur/admin\n"
     ]
    },
    {
     "name": "stdout",
     "output_type": "stream",
     "text": [
      "career_c_8.0\n"
     ]
    },
    {
     "name": "stdin",
     "output_type": "stream",
     "text": [
      " career code: real estate\n"
     ]
    },
    {
     "name": "stdout",
     "output_type": "stream",
     "text": [
      "career_c_9.0\n"
     ]
    },
    {
     "name": "stdin",
     "output_type": "stream",
     "text": [
      " career code: international/humanitarian affairs\n"
     ]
    },
    {
     "name": "stdout",
     "output_type": "stream",
     "text": [
      "career_c_nan\n"
     ]
    },
    {
     "name": "stdin",
     "output_type": "stream",
     "text": [
      " career code: not specified (left blank)\n"
     ]
    },
    {
     "name": "stdout",
     "output_type": "stream",
     "text": [
      "gender_o\n"
     ]
    },
    {
     "name": "stdin",
     "output_type": "stream",
     "text": [
      " gender of partner\n"
     ]
    },
    {
     "name": "stdout",
     "output_type": "stream",
     "text": [
      "age_o\n"
     ]
    },
    {
     "name": "stdin",
     "output_type": "stream",
     "text": [
      " age of partner\n"
     ]
    },
    {
     "name": "stdout",
     "output_type": "stream",
     "text": [
      "field_cd_o\n"
     ]
    },
    {
     "name": "stdin",
     "output_type": "stream",
     "text": [
      " field of study coded of partner\n"
     ]
    },
    {
     "name": "stdout",
     "output_type": "stream",
     "text": [
      "undergra_o\n"
     ]
    },
    {
     "name": "stdin",
     "output_type": "stream",
     "text": [
      " undergraduate institution of partner\n"
     ]
    },
    {
     "name": "stdout",
     "output_type": "stream",
     "text": [
      "mn_sat_o\n"
     ]
    },
    {
     "name": "stdin",
     "output_type": "stream",
     "text": [
      " median SAT score for partner's undergraduate institution from Barron's 25th Ed. college profile book\n"
     ]
    },
    {
     "name": "stdout",
     "output_type": "stream",
     "text": [
      "tuition_o\n"
     ]
    },
    {
     "name": "stdin",
     "output_type": "stream",
     "text": [
      " tuition listed of partner's undergraduate institution from Barron's 25th Ed. college profile book\n"
     ]
    },
    {
     "name": "stdout",
     "output_type": "stream",
     "text": [
      "race_o\n"
     ]
    },
    {
     "name": "stdin",
     "output_type": "stream",
     "text": [
      " partner's race coded\n"
     ]
    },
    {
     "name": "stdout",
     "output_type": "stream",
     "text": [
      "imprace_o\n"
     ]
    },
    {
     "name": "stdin",
     "output_type": "stream",
     "text": [
      " importance of dating in same racial/ethnic background according to partner\n"
     ]
    },
    {
     "name": "stdout",
     "output_type": "stream",
     "text": [
      "imprelig_o\n"
     ]
    },
    {
     "name": "stdin",
     "output_type": "stream",
     "text": [
      " importance of dating in same religious background according to partner\n"
     ]
    },
    {
     "name": "stdout",
     "output_type": "stream",
     "text": [
      "from_o\n"
     ]
    },
    {
     "name": "stdin",
     "output_type": "stream",
     "text": [
      " where partner is from (city,state, and/or country)\n"
     ]
    },
    {
     "name": "stdout",
     "output_type": "stream",
     "text": [
      "zipcode_o\n"
     ]
    },
    {
     "name": "stdin",
     "output_type": "stream",
     "text": [
      " zipcode of where partner grew up\n"
     ]
    },
    {
     "name": "stdout",
     "output_type": "stream",
     "text": [
      "income_o\n"
     ]
    },
    {
     "name": "stdin",
     "output_type": "stream",
     "text": [
      " median household income based on partner's zipcode from US Census Bureau Website\n"
     ]
    },
    {
     "name": "stdout",
     "output_type": "stream",
     "text": [
      "goal_o\n"
     ]
    },
    {
     "name": "stdin",
     "output_type": "stream",
     "text": [
      " partner's goal of attending blind date event or using this plotly app\n"
     ]
    },
    {
     "name": "stdout",
     "output_type": "stream",
     "text": [
      "date_o\n"
     ]
    },
    {
     "name": "stdin",
     "output_type": "stream",
     "text": [
      " how often does partner go on a date? (coded response)\n"
     ]
    },
    {
     "name": "stdout",
     "output_type": "stream",
     "text": [
      "go_out_o\n"
     ]
    },
    {
     "name": "stdin",
     "output_type": "stream",
     "text": [
      " How often does partner go out? (not necessarily on a date) (coded response)\n"
     ]
    },
    {
     "name": "stdout",
     "output_type": "stream",
     "text": [
      "career_c_o\n"
     ]
    },
    {
     "name": "stdin",
     "output_type": "stream",
     "text": [
      " partner's career code\n"
     ]
    },
    {
     "name": "stdout",
     "output_type": "stream",
     "text": [
      "sports_o\n"
     ]
    },
    {
     "name": "stdin",
     "output_type": "stream",
     "text": [
      " partner's interest in playing sports/athletics (scale 1-10)\n"
     ]
    },
    {
     "name": "stdout",
     "output_type": "stream",
     "text": [
      "tvsports_o\n"
     ]
    },
    {
     "name": "stdin",
     "output_type": "stream",
     "text": [
      " partner's interest in watching sports (scale 1-10)\n"
     ]
    },
    {
     "name": "stdout",
     "output_type": "stream",
     "text": [
      "exercise_o\n"
     ]
    },
    {
     "name": "stdin",
     "output_type": "stream",
     "text": [
      " partner's interest in exercise or body building (scale 1-10)\n"
     ]
    },
    {
     "name": "stdout",
     "output_type": "stream",
     "text": [
      "dining_o\n"
     ]
    },
    {
     "name": "stdin",
     "output_type": "stream",
     "text": [
      " partner's interest in dining out (scale 1-10)\n"
     ]
    },
    {
     "name": "stdout",
     "output_type": "stream",
     "text": [
      "museums_o\n"
     ]
    },
    {
     "name": "stdin",
     "output_type": "stream",
     "text": [
      " partner's interest in museums (scale 1-10)\n"
     ]
    },
    {
     "name": "stdout",
     "output_type": "stream",
     "text": [
      "art_o\n"
     ]
    },
    {
     "name": "stdin",
     "output_type": "stream",
     "text": [
      " partner's interest in art (scale 1-10)\n"
     ]
    },
    {
     "name": "stdout",
     "output_type": "stream",
     "text": [
      "hiking_o\n"
     ]
    },
    {
     "name": "stdin",
     "output_type": "stream",
     "text": [
      " partner's interest in hiking (scale 1-10)\n"
     ]
    },
    {
     "name": "stdout",
     "output_type": "stream",
     "text": [
      "gaming_o\n"
     ]
    },
    {
     "name": "stdin",
     "output_type": "stream",
     "text": [
      " partner's interest in gaming (scale 1-10)\n"
     ]
    },
    {
     "name": "stdout",
     "output_type": "stream",
     "text": [
      "clubbing_o\n"
     ]
    },
    {
     "name": "stdin",
     "output_type": "stream",
     "text": [
      " partner's interest in dancing/clubbing (scale 1-10)\n"
     ]
    },
    {
     "name": "stdout",
     "output_type": "stream",
     "text": [
      "reading_o\n"
     ]
    },
    {
     "name": "stdin",
     "output_type": "stream",
     "text": [
      " partner's interest in reading (scale 1-10)\n"
     ]
    },
    {
     "name": "stdout",
     "output_type": "stream",
     "text": [
      "tv_o\n"
     ]
    },
    {
     "name": "stdin",
     "output_type": "stream",
     "text": [
      " partner's interest in watching tv (scale 1-10)\n"
     ]
    },
    {
     "name": "stdout",
     "output_type": "stream",
     "text": [
      "theater_o\n"
     ]
    },
    {
     "name": "stdin",
     "output_type": "stream",
     "text": [
      " partner's interest in theater (scale 1-10)\n"
     ]
    },
    {
     "name": "stdout",
     "output_type": "stream",
     "text": [
      "movies_o\n"
     ]
    },
    {
     "name": "stdin",
     "output_type": "stream",
     "text": [
      " partner's interest in movies (scale 1-10)\n"
     ]
    },
    {
     "name": "stdout",
     "output_type": "stream",
     "text": [
      "concerts_o\n"
     ]
    },
    {
     "name": "stdin",
     "output_type": "stream",
     "text": [
      " partner's interest in going to concerts (scale 1-10)\n"
     ]
    },
    {
     "name": "stdout",
     "output_type": "stream",
     "text": [
      "music_o\n"
     ]
    },
    {
     "name": "stdin",
     "output_type": "stream",
     "text": [
      " partner's interest in music (scale 1-10)\n"
     ]
    },
    {
     "name": "stdout",
     "output_type": "stream",
     "text": [
      "shopping_o\n"
     ]
    },
    {
     "name": "stdin",
     "output_type": "stream",
     "text": [
      " partner's interest in shopping (scale 1-10)\n"
     ]
    },
    {
     "name": "stdout",
     "output_type": "stream",
     "text": [
      "yoga_o\n"
     ]
    },
    {
     "name": "stdin",
     "output_type": "stream",
     "text": [
      " partner's interest in yoga/mediation (scale 1-10)\n"
     ]
    },
    {
     "name": "stdout",
     "output_type": "stream",
     "text": [
      "exphappy_o\n"
     ]
    },
    {
     "name": "stdin",
     "output_type": "stream",
     "text": [
      " partner's expected happiness score from attending blind dating event or using the plotly app (scale 1-10)\n"
     ]
    },
    {
     "name": "stdout",
     "output_type": "stream",
     "text": [
      "expnum_o\n"
     ]
    },
    {
     "name": "stdin",
     "output_type": "stream",
     "text": [
      " partner's expected number of people choosing to date them out after 20 pairings\n"
     ]
    },
    {
     "name": "stdout",
     "output_type": "stream",
     "text": [
      "attr1_1_o\n"
     ]
    },
    {
     "name": "stdin",
     "output_type": "stream",
     "text": [
      " weight of attractiveness in what partner looks in a partner (budget out of 100)\n"
     ]
    },
    {
     "name": "stdout",
     "output_type": "stream",
     "text": [
      "sinc1_1_o\n"
     ]
    },
    {
     "name": "stdin",
     "output_type": "stream",
     "text": [
      " weight of sincerity in what partner looks in a partner (budget out of 100)\n"
     ]
    },
    {
     "name": "stdout",
     "output_type": "stream",
     "text": [
      "intel1_1_o\n"
     ]
    },
    {
     "name": "stdin",
     "output_type": "stream",
     "text": [
      " weight of intelligence in what partner looks in a partner (budget out of 100)\n"
     ]
    },
    {
     "name": "stdout",
     "output_type": "stream",
     "text": [
      "fun1_1_o\n"
     ]
    },
    {
     "name": "stdin",
     "output_type": "stream",
     "text": [
      " weight of fun in what partner looks in a partner (budget out of 100)\n"
     ]
    },
    {
     "name": "stdout",
     "output_type": "stream",
     "text": [
      "shar1_1_o\n"
     ]
    },
    {
     "name": "stdin",
     "output_type": "stream",
     "text": [
      " weight of shared interests in what partner looks in a partner (budget out of 100)\n"
     ]
    },
    {
     "name": "stdout",
     "output_type": "stream",
     "text": [
      "attr4_1_o\n"
     ]
    },
    {
     "name": "stdin",
     "output_type": "stream",
     "text": [
      " weight of attractiveness in what partner thinks fellow candidates of their gender look for (budget out of 100)\n"
     ]
    },
    {
     "name": "stdout",
     "output_type": "stream",
     "text": [
      "sinc4_1_o\n"
     ]
    },
    {
     "name": "stdin",
     "output_type": "stream",
     "text": [
      " weight of sincerity in what partner thinks fellow candidates of their gender look for (budget out of 100)\n"
     ]
    },
    {
     "name": "stdout",
     "output_type": "stream",
     "text": [
      "intel4_1_o\n"
     ]
    },
    {
     "name": "stdin",
     "output_type": "stream",
     "text": [
      " weight of intelligence in what partner thinks fellow candidates of their gender look for (budget out of 100)\n"
     ]
    },
    {
     "name": "stdout",
     "output_type": "stream",
     "text": [
      "fun4_1_o\n"
     ]
    },
    {
     "name": "stdin",
     "output_type": "stream",
     "text": [
      " weight of fun in what partner thinks fellow candidates of their gender look for (budget out of 100)\n"
     ]
    },
    {
     "name": "stdout",
     "output_type": "stream",
     "text": [
      "shar4_1_o\n"
     ]
    },
    {
     "name": "stdin",
     "output_type": "stream",
     "text": [
      " weight of shared interests in what partner thinks fellow candidates of their gender look for (budget out of 100)\n"
     ]
    },
    {
     "name": "stdout",
     "output_type": "stream",
     "text": [
      "attr2_1_o\n"
     ]
    },
    {
     "name": "stdin",
     "output_type": "stream",
     "text": [
      " weight of attractiveness in what partner thinks candidates of the opposite gender look for (budget out of 100)\n"
     ]
    },
    {
     "name": "stdout",
     "output_type": "stream",
     "text": [
      "sinc2_1_o\n"
     ]
    },
    {
     "name": "stdin",
     "output_type": "stream",
     "text": [
      " weight of sincerity in what partner thinks candidates of the opposite gender look for (budget out of 100)\n"
     ]
    },
    {
     "name": "stdout",
     "output_type": "stream",
     "text": [
      "intel2_1_o\n"
     ]
    },
    {
     "name": "stdin",
     "output_type": "stream",
     "text": [
      " weight of intelligence in what partner thinks candidates of the opposite gender look for (budget out of 100)\n"
     ]
    },
    {
     "name": "stdout",
     "output_type": "stream",
     "text": [
      "fun2_1_o\n"
     ]
    },
    {
     "name": "stdin",
     "output_type": "stream",
     "text": [
      " weight of fun in what partner thinks candidates of the opposite gender look for (budget out of 100)\n"
     ]
    },
    {
     "name": "stdout",
     "output_type": "stream",
     "text": [
      "shar2_1_o\n"
     ]
    },
    {
     "name": "stdin",
     "output_type": "stream",
     "text": [
      " weight of shared interests in what partner thinks candidates of the opposite gender look for (budget out of 100)\n"
     ]
    },
    {
     "name": "stdout",
     "output_type": "stream",
     "text": [
      "attr3_1_o\n"
     ]
    },
    {
     "name": "stdin",
     "output_type": "stream",
     "text": [
      " how partner rates themself in attractiveness (scale 1-10)\n"
     ]
    },
    {
     "name": "stdout",
     "output_type": "stream",
     "text": [
      "sinc3_1_o\n"
     ]
    },
    {
     "name": "stdin",
     "output_type": "stream",
     "text": [
      " how partner rates themself in sincerity (scale 1-10)\n"
     ]
    },
    {
     "name": "stdout",
     "output_type": "stream",
     "text": [
      "intel3_1_o\n"
     ]
    },
    {
     "name": "stdin",
     "output_type": "stream",
     "text": [
      " how partner rates themself in intelligence (scale 1-10)\n"
     ]
    },
    {
     "name": "stdout",
     "output_type": "stream",
     "text": [
      "fun3_1_o\n"
     ]
    },
    {
     "name": "stdin",
     "output_type": "stream",
     "text": [
      " how partner rates themself in fun (scale 1-10)\n"
     ]
    },
    {
     "name": "stdout",
     "output_type": "stream",
     "text": [
      "attr5_1_o\n"
     ]
    },
    {
     "name": "stdin",
     "output_type": "stream",
     "text": [
      " how candidate perceives how others rate them in attractiveness (scale 1-10)\n"
     ]
    },
    {
     "name": "stdout",
     "output_type": "stream",
     "text": [
      "sinc5_1_o\n"
     ]
    },
    {
     "name": "stdin",
     "output_type": "stream",
     "text": [
      " how partner perceives how others rate them in sincerity (scale 1-10)\n"
     ]
    },
    {
     "name": "stdout",
     "output_type": "stream",
     "text": [
      "intel5_1_o\n"
     ]
    },
    {
     "name": "stdin",
     "output_type": "stream",
     "text": [
      " how partner perceives how others rate them in intelligence (scale 1-10)\n"
     ]
    },
    {
     "name": "stdout",
     "output_type": "stream",
     "text": [
      "fun5_1_o\n"
     ]
    },
    {
     "name": "stdin",
     "output_type": "stream",
     "text": [
      " how partner perceives how others rate them in fun (scale 1-10)\n"
     ]
    },
    {
     "name": "stdout",
     "output_type": "stream",
     "text": [
      "match_es_o\n"
     ]
    },
    {
     "name": "stdin",
     "output_type": "stream",
     "text": [
      " how many matches (candidate and partner saying yes) partner expected out of 20 blind date pairings\n"
     ]
    },
    {
     "name": "stdout",
     "output_type": "stream",
     "text": [
      "lats_o\n"
     ]
    },
    {
     "name": "stdin",
     "output_type": "stream",
     "text": [
      " latitude of partner\n"
     ]
    },
    {
     "name": "stdout",
     "output_type": "stream",
     "text": [
      "lons_o\n"
     ]
    },
    {
     "name": "stdin",
     "output_type": "stream",
     "text": [
      " longitude of partner\n"
     ]
    },
    {
     "name": "stdout",
     "output_type": "stream",
     "text": [
      "field_cd_1.0_o\n"
     ]
    },
    {
     "name": "stdin",
     "output_type": "stream",
     "text": [
      " partner field of study code: law\n"
     ]
    },
    {
     "name": "stdout",
     "output_type": "stream",
     "text": [
      "field_cd_10.0_o\n"
     ]
    },
    {
     "name": "stdin",
     "output_type": "stream",
     "text": [
      " partner field of study code: biological sciences/chemistry/physics\n"
     ]
    },
    {
     "name": "stdout",
     "output_type": "stream",
     "text": [
      "field_cd_11.0_o\n"
     ]
    },
    {
     "name": "stdin",
     "output_type": "stream",
     "text": [
      " partner field of study code: social work\n"
     ]
    },
    {
     "name": "stdout",
     "output_type": "stream",
     "text": [
      "field_cd_12.0_o\n"
     ]
    },
    {
     "name": "stdin",
     "output_type": "stream",
     "text": [
      " partner field of study code: undergrad/undecided\n"
     ]
    },
    {
     "name": "stdout",
     "output_type": "stream",
     "text": [
      "field_cd_13.0_o\n"
     ]
    },
    {
     "name": "stdin",
     "output_type": "stream",
     "text": [
      " partner field of study code: political science/international affairs\n"
     ]
    },
    {
     "name": "stdout",
     "output_type": "stream",
     "text": [
      "field_cd_14.0_o\n"
     ]
    },
    {
     "name": "stdin",
     "output_type": "stream",
     "text": [
      " partner field of study code: film\n"
     ]
    },
    {
     "name": "stdout",
     "output_type": "stream",
     "text": [
      "field_cd_15.0_o\n"
     ]
    },
    {
     "name": "stdin",
     "output_type": "stream",
     "text": [
      " partner field of study code: fine arts/arts administration\n"
     ]
    },
    {
     "name": "stdout",
     "output_type": "stream",
     "text": [
      "field_cd_16.0_o\n"
     ]
    },
    {
     "name": "stdin",
     "output_type": "stream",
     "text": [
      " partner field of study code: languages\n"
     ]
    },
    {
     "name": "stdout",
     "output_type": "stream",
     "text": [
      "field_cd_17.0_o\n"
     ]
    },
    {
     "name": "stdin",
     "output_type": "stream",
     "text": [
      " partner field of study code: architecture\n"
     ]
    },
    {
     "name": "stdout",
     "output_type": "stream",
     "text": [
      "field_cd_18.0_o\n"
     ]
    },
    {
     "name": "stdin",
     "output_type": "stream",
     "text": [
      " partner field of study code: other\n"
     ]
    },
    {
     "name": "stdout",
     "output_type": "stream",
     "text": [
      "field_cd_2.0_o\n"
     ]
    },
    {
     "name": "stdin",
     "output_type": "stream",
     "text": [
      " partner field of study code: math\n"
     ]
    },
    {
     "name": "stdout",
     "output_type": "stream",
     "text": [
      "field_cd_3.0_o\n"
     ]
    },
    {
     "name": "stdin",
     "output_type": "stream",
     "text": [
      " partner field of study code: social science, psychologist\n"
     ]
    },
    {
     "name": "stdout",
     "output_type": "stream",
     "text": [
      "field_cd_4.0_o\n"
     ]
    },
    {
     "name": "stdin",
     "output_type": "stream",
     "text": [
      " partner field of study code: medical science, pharmaceuticals, and bio tech\n"
     ]
    },
    {
     "name": "stdout",
     "output_type": "stream",
     "text": [
      "field_cd_5.0_o\n"
     ]
    },
    {
     "name": "stdin",
     "output_type": "stream",
     "text": [
      " partner field of study code: engineering\n"
     ]
    },
    {
     "name": "stdout",
     "output_type": "stream",
     "text": [
      "field_cd_6.0_o\n"
     ]
    },
    {
     "name": "stdin",
     "output_type": "stream",
     "text": [
      " partner field of study code: english/creative writing/journalism\n"
     ]
    },
    {
     "name": "stdout",
     "output_type": "stream",
     "text": [
      "field_cd_7.0_o\n"
     ]
    },
    {
     "name": "stdin",
     "output_type": "stream",
     "text": [
      " partner field of study code: history/religion/philosophy\n"
     ]
    },
    {
     "name": "stdout",
     "output_type": "stream",
     "text": [
      "field_cd_8.0_o\n"
     ]
    },
    {
     "name": "stdin",
     "output_type": "stream",
     "text": [
      " partner field of study code: business/econ/finance\n"
     ]
    },
    {
     "name": "stdout",
     "output_type": "stream",
     "text": [
      "field_cd_9.0_o\n"
     ]
    },
    {
     "name": "stdin",
     "output_type": "stream",
     "text": [
      " partner field of study code: education/academia\n"
     ]
    },
    {
     "name": "stdout",
     "output_type": "stream",
     "text": [
      "field_cd_nan_o\n"
     ]
    },
    {
     "name": "stdin",
     "output_type": "stream",
     "text": [
      " partner field of study code: not specified (left blank)\n"
     ]
    },
    {
     "name": "stdout",
     "output_type": "stream",
     "text": [
      "race_1.0_o\n"
     ]
    },
    {
     "name": "stdin",
     "output_type": "stream",
     "text": [
      " partner race code: black/african american\n"
     ]
    },
    {
     "name": "stdout",
     "output_type": "stream",
     "text": [
      "race_2.0_o\n"
     ]
    },
    {
     "name": "stdin",
     "output_type": "stream",
     "text": [
      " partner race code: european/caucasian-american\n"
     ]
    },
    {
     "name": "stdout",
     "output_type": "stream",
     "text": [
      "race_3.0_o\n"
     ]
    },
    {
     "name": "stdin",
     "output_type": "stream",
     "text": [
      " partner race code: latino/hispanic american\n"
     ]
    },
    {
     "name": "stdout",
     "output_type": "stream",
     "text": [
      "race_4.0_o\n"
     ]
    },
    {
     "name": "stdin",
     "output_type": "stream",
     "text": [
      " partner race code: asian/pacific islander/asian-american\n"
     ]
    },
    {
     "name": "stdout",
     "output_type": "stream",
     "text": [
      "race_6.0_o\n"
     ]
    },
    {
     "name": "stdin",
     "output_type": "stream",
     "text": [
      " partner race code: other\n"
     ]
    },
    {
     "name": "stdout",
     "output_type": "stream",
     "text": [
      "race_nan_o\n"
     ]
    },
    {
     "name": "stdin",
     "output_type": "stream",
     "text": [
      " partner race code: not specified (left blank)\n"
     ]
    },
    {
     "name": "stdout",
     "output_type": "stream",
     "text": [
      "goal_1.0_o\n"
     ]
    },
    {
     "name": "stdin",
     "output_type": "stream",
     "text": [
      " partner's goal of attending blind date event or using this plotly app code: seemed like fun\n"
     ]
    },
    {
     "name": "stdout",
     "output_type": "stream",
     "text": [
      "goal_2.0_o\n"
     ]
    },
    {
     "name": "stdin",
     "output_type": "stream",
     "text": [
      " partner's goal of attending blind date event or using this plotly app code: to meet new people\n"
     ]
    },
    {
     "name": "stdout",
     "output_type": "stream",
     "text": [
      "goal_3.0_o\n"
     ]
    },
    {
     "name": "stdin",
     "output_type": "stream",
     "text": [
      " partner's goal of attending blind date event or using this plotly app code: to get a date\n"
     ]
    },
    {
     "name": "stdout",
     "output_type": "stream",
     "text": [
      "goal_4.0_o\n"
     ]
    },
    {
     "name": "stdin",
     "output_type": "stream",
     "text": [
      " partner's goal of attending blind date event or using this plotly app code: looking for a serious relationship\n"
     ]
    },
    {
     "name": "stdout",
     "output_type": "stream",
     "text": [
      "goal_5.0_o\n"
     ]
    },
    {
     "name": "stdin",
     "output_type": "stream",
     "text": [
      " partner's goal of attending blind date event or using this plotly app code: to say they did it\n"
     ]
    },
    {
     "name": "stdout",
     "output_type": "stream",
     "text": [
      "goal_6.0_o\n"
     ]
    },
    {
     "name": "stdin",
     "output_type": "stream",
     "text": [
      " partner's goal of attending blind date event or using this plotly app code: other\n"
     ]
    },
    {
     "name": "stdout",
     "output_type": "stream",
     "text": [
      "goal_nan_o\n"
     ]
    },
    {
     "name": "stdin",
     "output_type": "stream",
     "text": [
      " partner's goal of attending blind date event or using this plotly app code: not specified (left blank)\n"
     ]
    },
    {
     "name": "stdout",
     "output_type": "stream",
     "text": [
      "date_1.0_o\n"
     ]
    },
    {
     "name": "stdin",
     "output_type": "stream",
     "text": [
      " how often partner goes on a date code: several times a week\n"
     ]
    },
    {
     "name": "stdout",
     "output_type": "stream",
     "text": [
      "date_2.0_o\n"
     ]
    },
    {
     "name": "stdin",
     "output_type": "stream",
     "text": [
      " how often partner goes on a date code: twice a week\n"
     ]
    },
    {
     "name": "stdout",
     "output_type": "stream",
     "text": [
      "date_3.0_o\n"
     ]
    },
    {
     "name": "stdin",
     "output_type": "stream",
     "text": [
      " how often partner goes on a date code: once a week\n"
     ]
    },
    {
     "name": "stdout",
     "output_type": "stream",
     "text": [
      "date_4.0_o\n"
     ]
    },
    {
     "name": "stdin",
     "output_type": "stream",
     "text": [
      " how often partner goes on a date code: twice a month\n"
     ]
    },
    {
     "name": "stdout",
     "output_type": "stream",
     "text": [
      "date_5.0_o\n"
     ]
    },
    {
     "name": "stdin",
     "output_type": "stream",
     "text": [
      " how often partner goes on a date code: once a month\n"
     ]
    },
    {
     "name": "stdout",
     "output_type": "stream",
     "text": [
      "date_6.0_o\n"
     ]
    },
    {
     "name": "stdin",
     "output_type": "stream",
     "text": [
      " how often partner goes on a date code: several times a year\n"
     ]
    },
    {
     "name": "stdout",
     "output_type": "stream",
     "text": [
      "date_7.0_o\n"
     ]
    },
    {
     "name": "stdin",
     "output_type": "stream",
     "text": [
      " how often partner goes on a date code: almost never\n"
     ]
    },
    {
     "name": "stdout",
     "output_type": "stream",
     "text": [
      "date_nan_o\n"
     ]
    },
    {
     "name": "stdin",
     "output_type": "stream",
     "text": [
      " how often partner goes on a date code: not specified (left blank)\n"
     ]
    },
    {
     "name": "stdout",
     "output_type": "stream",
     "text": [
      "go_out_1.0_o\n"
     ]
    },
    {
     "name": "stdin",
     "output_type": "stream",
     "text": [
      " how often does partner go out (not necessarily on a date) code: several times a week\n"
     ]
    },
    {
     "name": "stdout",
     "output_type": "stream",
     "text": [
      "go_out_2.0_o\n"
     ]
    },
    {
     "name": "stdin",
     "output_type": "stream",
     "text": [
      " how often does partner go out (not necessarily on a date) code: twice a week\n"
     ]
    },
    {
     "name": "stdout",
     "output_type": "stream",
     "text": [
      "go_out_3.0_o\n"
     ]
    },
    {
     "name": "stdin",
     "output_type": "stream",
     "text": [
      " how often does partner go out (not necessarily on a date) code: once a week\n"
     ]
    },
    {
     "name": "stdout",
     "output_type": "stream",
     "text": [
      "go_out_4.0_o\n"
     ]
    },
    {
     "name": "stdin",
     "output_type": "stream",
     "text": [
      " how often does partner go out (not necessarily on a date) code: twice a month\n"
     ]
    },
    {
     "name": "stdout",
     "output_type": "stream",
     "text": [
      "go_out_5.0_o\n"
     ]
    },
    {
     "name": "stdin",
     "output_type": "stream",
     "text": [
      " how often does partner go out (not necessarily on a date) code: once a month\n"
     ]
    },
    {
     "name": "stdout",
     "output_type": "stream",
     "text": [
      "go_out_6.0_o\n"
     ]
    },
    {
     "name": "stdin",
     "output_type": "stream",
     "text": [
      " how often does partner go out (not necessarily on a date) code: several times a year\n"
     ]
    },
    {
     "name": "stdout",
     "output_type": "stream",
     "text": [
      "go_out_7.0_o\n"
     ]
    },
    {
     "name": "stdin",
     "output_type": "stream",
     "text": [
      " how often does partner go out (not necessarily on a date) code: almost never\n"
     ]
    },
    {
     "name": "stdout",
     "output_type": "stream",
     "text": [
      "go_out_nan_o\n"
     ]
    },
    {
     "name": "stdin",
     "output_type": "stream",
     "text": [
      " how often does partner go out (not necessarily on a date) code: not specified (left blank)\n"
     ]
    },
    {
     "name": "stdout",
     "output_type": "stream",
     "text": [
      "career_c_1.0_o\n"
     ]
    },
    {
     "name": "stdin",
     "output_type": "stream",
     "text": [
      " partner's career code: lawyer\n"
     ]
    },
    {
     "name": "stdout",
     "output_type": "stream",
     "text": [
      "career_c_10.0_o\n"
     ]
    },
    {
     "name": "stdin",
     "output_type": "stream",
     "text": [
      " partner's career code: undecided\n"
     ]
    },
    {
     "name": "stdout",
     "output_type": "stream",
     "text": [
      "career_c_11.0_o\n"
     ]
    },
    {
     "name": "stdin",
     "output_type": "stream",
     "text": [
      " partner's career code: social work\n"
     ]
    },
    {
     "name": "stdout",
     "output_type": "stream",
     "text": [
      "career_c_12.0_o\n"
     ]
    },
    {
     "name": "stdin",
     "output_type": "stream",
     "text": [
      " partner's career code: speech pathology\n"
     ]
    },
    {
     "name": "stdout",
     "output_type": "stream",
     "text": [
      "career_c_13.0_o\n"
     ]
    },
    {
     "name": "stdin",
     "output_type": "stream",
     "text": [
      " partner's career code: politics\n"
     ]
    },
    {
     "name": "stdout",
     "output_type": "stream",
     "text": [
      "career_c_14.0_o\n"
     ]
    },
    {
     "name": "stdin",
     "output_type": "stream",
     "text": [
      " partner's career code: pro sports/athletics\n"
     ]
    },
    {
     "name": "stdout",
     "output_type": "stream",
     "text": [
      "career_c_15.0_o\n"
     ]
    },
    {
     "name": "stdin",
     "output_type": "stream",
     "text": [
      " partner's career code: other\n"
     ]
    },
    {
     "name": "stdout",
     "output_type": "stream",
     "text": [
      "career_c_16.0_o\n"
     ]
    },
    {
     "name": "stdin",
     "output_type": "stream",
     "text": [
      " partner's career code: journalism\n"
     ]
    },
    {
     "name": "stdout",
     "output_type": "stream",
     "text": [
      "career_c_17.0_o\n"
     ]
    },
    {
     "name": "stdin",
     "output_type": "stream",
     "text": [
      " partner's career code: architecture\n"
     ]
    },
    {
     "name": "stdout",
     "output_type": "stream",
     "text": [
      "career_c_2.0_o\n"
     ]
    },
    {
     "name": "stdin",
     "output_type": "stream",
     "text": [
      " partner's career code: academic/research\n"
     ]
    },
    {
     "name": "stdout",
     "output_type": "stream",
     "text": [
      "career_c_3.0_o\n"
     ]
    },
    {
     "name": "stdin",
     "output_type": "stream",
     "text": [
      " partner's career code: psychologist\n"
     ]
    },
    {
     "name": "stdout",
     "output_type": "stream",
     "text": [
      "career_c_4.0_o\n"
     ]
    },
    {
     "name": "stdin",
     "output_type": "stream",
     "text": [
      " partner's career code: doctor/medicine\n"
     ]
    },
    {
     "name": "stdout",
     "output_type": "stream",
     "text": [
      "career_c_5.0_o\n"
     ]
    },
    {
     "name": "stdin",
     "output_type": "stream",
     "text": [
      " partner's career code: engineer\n"
     ]
    },
    {
     "name": "stdout",
     "output_type": "stream",
     "text": [
      "career_c_6.0_o\n"
     ]
    },
    {
     "name": "stdin",
     "output_type": "stream",
     "text": [
      " partner's career code: creative arts/entertainment\n"
     ]
    },
    {
     "name": "stdout",
     "output_type": "stream",
     "text": [
      "career_c_7.0_o\n"
     ]
    },
    {
     "name": "stdin",
     "output_type": "stream",
     "text": [
      " partner's career code: banking/consulting/finance/marketing/business/ceo/entrepreneur/admin\n"
     ]
    },
    {
     "name": "stdout",
     "output_type": "stream",
     "text": [
      "career_c_8.0_o\n"
     ]
    },
    {
     "name": "stdin",
     "output_type": "stream",
     "text": [
      " partner's career code: real estate\n"
     ]
    },
    {
     "name": "stdout",
     "output_type": "stream",
     "text": [
      "career_c_9.0_o\n"
     ]
    },
    {
     "name": "stdin",
     "output_type": "stream",
     "text": [
      " partner's career code: international/humanitarian affairs\n"
     ]
    },
    {
     "name": "stdout",
     "output_type": "stream",
     "text": [
      "career_c_nan_o\n"
     ]
    },
    {
     "name": "stdin",
     "output_type": "stream",
     "text": [
      " partner's career code: not specified (left blank)\n"
     ]
    },
    {
     "name": "stdout",
     "output_type": "stream",
     "text": [
      "iid\n"
     ]
    },
    {
     "name": "stdin",
     "output_type": "stream",
     "text": [
      " candidate id\n"
     ]
    },
    {
     "name": "stdout",
     "output_type": "stream",
     "text": [
      "career\n"
     ]
    },
    {
     "name": "stdin",
     "output_type": "stream",
     "text": [
      " candidate career\n"
     ]
    },
    {
     "name": "stdout",
     "output_type": "stream",
     "text": [
      "name\n"
     ]
    },
    {
     "name": "stdin",
     "output_type": "stream",
     "text": [
      " candidate name\n"
     ]
    }
   ],
   "source": [
    "if exists(\"../data/plotlyDashData/descriptionDictionary.json\") == False:\n",
    "    descriptionDictionary = dict()\n",
    "    if exists(\"../data/descriptionDictionary.json\"):\n",
    "        with open(\"../data/descriptionDictionary.json\") as d:\n",
    "            descriptionDictionary = json.load(d)\n",
    "    \n",
    "    fullColumns = list(datingFull.columns)\n",
    "    profileColumns = list(profileData.columns)\n",
    "    columnsNeedingDescriptions = fullColumns + profileColumns\n",
    "    for col in columnsNeedingDescriptions:\n",
    "        strcol = str(col)\n",
    "        if strcol not in descriptionDictionary.keys():\n",
    "            print(s)\n",
    "            desc = input()\n",
    "            descriptionDictionary[strcol] = desc\n",
    "\n",
    "    with open(\"../data/plotlyDashData/descriptionDictionary.json\",\"w\") as fp:\n",
    "        json.dump(descriptionDictionary,fp)\n",
    "    with open(\"../data/descriptionDictionary.json\",\"w\") as fp:\n",
    "        json.dump(descriptionDictionary,fp)\n",
    "\n",
    "with open(\"../data/plotlyDashData/descriptionDictionary.json\") as d:\n",
    "    descriptionDictionary = json.load(d)\n",
    "    \n",
    "for k in descriptionDictionary.keys():\n",
    "    print(f\"{k}: {descriptionDictionary[k]}\")"
   ]
  }
 ],
 "metadata": {
  "kernelspec": {
   "display_name": "Python 3",
   "language": "python",
   "name": "python3"
  },
  "language_info": {
   "codemirror_mode": {
    "name": "ipython",
    "version": 3
   },
   "file_extension": ".py",
   "mimetype": "text/x-python",
   "name": "python",
   "nbconvert_exporter": "python",
   "pygments_lexer": "ipython3",
   "version": "3.8.8"
  },
  "widgets": {
   "application/vnd.jupyter.widget-state+json": {
    "state": {},
    "version_major": 2,
    "version_minor": 0
   }
  }
 },
 "nbformat": 4,
 "nbformat_minor": 5
}
