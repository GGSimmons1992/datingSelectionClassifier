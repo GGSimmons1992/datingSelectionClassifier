{
 "cells": [
  {
   "cell_type": "code",
   "execution_count": 1,
   "id": "da4a61d0-01e5-4cfb-b0b7-d6af105e1b3d",
   "metadata": {},
   "outputs": [
    {
     "data": {
      "application/javascript": [
       "IPython.notebook.set_autosave_interval(5000)"
      ]
     },
     "metadata": {},
     "output_type": "display_data"
    },
    {
     "name": "stdout",
     "output_type": "stream",
     "text": [
      "Autosaving every 5 seconds\n"
     ]
    }
   ],
   "source": [
    "import numpy as np\n",
    "import pandas as pd\n",
    "import matplotlib.pyplot as plt\n",
    "import os\n",
    "from os.path import exists\n",
    "from os import remove\n",
    "import json\n",
    "from sklearn.model_selection import train_test_split\n",
    "import sklearn.model_selection as ms\n",
    "import sklearn.metrics as sm\n",
    "from sklearn.model_selection import cross_validate\n",
    "import sklearn.linear_model as lm\n",
    "from sklearn.neighbors import KNeighborsClassifier as knn\n",
    "from sklearn.ensemble import GradientBoostingClassifier as grad\n",
    "from sklearn.ensemble import RandomForestClassifier as rf\n",
    "from sklearn.ensemble import VotingClassifier\n",
    "from sklearn import metrics\n",
    "import scipy.stats as stats\n",
    "from sklearn.pipeline import make_pipeline\n",
    "from sklearn.preprocessing import StandardScaler\n",
    "\n",
    "import sys\n",
    "sys.path.insert(0, \"../src/\")\n",
    "import util as util\n",
    "\n",
    "%autosave 5"
   ]
  },
  {
   "cell_type": "markdown",
   "id": "0caf4af0-74cf-46e3-a6b1-1224abc9bf81",
   "metadata": {},
   "source": [
    "# Grab datingFull.csv"
   ]
  },
  {
   "cell_type": "code",
   "execution_count": 2,
   "id": "dbc416b1-d4d3-470e-a588-5b2ea27708d3",
   "metadata": {},
   "outputs": [],
   "source": [
    "with open('../data/processedData/columnDataDictionary.json') as d:\n",
    "    columnDataDictionary = json.load(d)\n",
    "if exists('../data/plotlyDashData/datingFull.csv'):\n",
    "    datingFull = pd.read_csv('../data/plotlyDashData/datingFull.csv')\n",
    "else:\n",
    "    datingFull = pd.read_csv('../data/processedData/datingFull.csv')"
   ]
  },
  {
   "cell_type": "markdown",
   "id": "05000317-abc5-4f37-b05e-0be2d2bc07c7",
   "metadata": {},
   "source": [
    "# Stringify specified columns"
   ]
  },
  {
   "cell_type": "code",
   "execution_count": 3,
   "id": "c9bbc77a-8b4c-4764-a3ee-dee3514f94ea",
   "metadata": {},
   "outputs": [],
   "source": [
    "datingFull['zipcode'] = datingFull['zipcode'].apply(str)\n",
    "for col in list(datingFull.columns):\n",
    "    if col in columnDataDictionary[\"nonBinaryCategoricalList\"]:\n",
    "        datingFull[col] = datingFull[col].apply(str)"
   ]
  },
  {
   "cell_type": "markdown",
   "id": "dc1c4665-505c-4aab-9e4e-11dca09bbfa4",
   "metadata": {},
   "source": [
    "# Ensure datingFull has locations"
   ]
  },
  {
   "cell_type": "code",
   "execution_count": 4,
   "id": "e1b73009-0260-4a03-a932-3c87df922d6a",
   "metadata": {},
   "outputs": [],
   "source": [
    "if(\"lats\" not in datingFull.columns or \"lons\" not in datingFull.columns):\n",
    "    datingFull = util.getLocations(datingFull,True)"
   ]
  },
  {
   "cell_type": "markdown",
   "id": "4f82752d-730a-4800-8ebc-392d969d89ee",
   "metadata": {},
   "source": [
    "# Fix Ambiguous Scores"
   ]
  },
  {
   "cell_type": "code",
   "execution_count": 5,
   "id": "7ea8f5bc-54aa-4886-9b4f-e0b1089c1f82",
   "metadata": {
    "tags": []
   },
   "outputs": [],
   "source": [
    "halfwayChangeColumns = [str(col) for col in datingFull.columns if ((\"1_s\" in str(col)) | (\"3_s\" in str(col)))]\n",
    "\n",
    "if(len(halfwayChangeColumns) > 0):\n",
    "    datingFull = util.fixAmbiguousScores(datingFull)"
   ]
  },
  {
   "cell_type": "markdown",
   "id": "068f8fda-0c05-44b1-97e5-d6681bd6af25",
   "metadata": {},
   "source": [
    "# Replace Nans and save"
   ]
  },
  {
   "cell_type": "code",
   "execution_count": 6,
   "id": "6ab5de1a-57c6-4b97-b4a2-39c0e14d108a",
   "metadata": {},
   "outputs": [],
   "source": [
    "datingFullNumerical = datingFull.select_dtypes(include=['uint8','int64','float64']).drop(\"match\",axis=1)\n",
    "datingFullNumerical = util.replaceNansWithTrainingDataValues(datingFullNumerical)\n",
    "for col in datingFullNumerical.columns:\n",
    "    datingFull[col] = datingFullNumerical[col]\n",
    "datingFull.to_csv('../data/plotlyDashData/datingFull.csv',index=False)"
   ]
  }
 ],
 "metadata": {
  "kernelspec": {
   "display_name": "Python 3",
   "language": "python",
   "name": "python3"
  },
  "language_info": {
   "codemirror_mode": {
    "name": "ipython",
    "version": 3
   },
   "file_extension": ".py",
   "mimetype": "text/x-python",
   "name": "python",
   "nbconvert_exporter": "python",
   "pygments_lexer": "ipython3",
   "version": "3.8.8"
  },
  "widgets": {
   "application/vnd.jupyter.widget-state+json": {
    "state": {},
    "version_major": 2,
    "version_minor": 0
   }
  }
 },
 "nbformat": 4,
 "nbformat_minor": 5
}
